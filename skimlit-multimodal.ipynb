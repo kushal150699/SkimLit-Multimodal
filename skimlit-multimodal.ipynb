{
 "cells": [
  {
   "cell_type": "markdown",
   "id": "303631d9",
   "metadata": {
    "papermill": {
     "duration": 0.097482,
     "end_time": "2022-04-10T04:32:41.605950",
     "exception": false,
     "start_time": "2022-04-10T04:32:41.508468",
     "status": "completed"
    },
    "tags": []
   },
   "source": [
    "## Sequential sentence classification task,\n",
    "### Create an NLP model to classify abstract sentences into the role they play (e.g. objective, methods, results, etc) to enable researchers to skim through the literature and dive deeper when necessary.\n",
    "\n",
    "### This ANN model consists of three components: a hybrid token embedding layer, a sentence label prediction layer, and a label sequence optimization layer."
   ]
  },
  {
   "cell_type": "code",
   "execution_count": 1,
   "id": "c32206a2",
   "metadata": {
    "_cell_guid": "b1076dfc-b9ad-4769-8c92-a6c4dae69d19",
    "_uuid": "8f2839f25d086af736a60e9eeb907d3b93b6e0e5",
    "execution": {
     "iopub.execute_input": "2022-04-10T04:32:41.807220Z",
     "iopub.status.busy": "2022-04-10T04:32:41.806342Z",
     "iopub.status.idle": "2022-04-10T04:32:41.810284Z",
     "shell.execute_reply": "2022-04-10T04:32:41.809734Z",
     "shell.execute_reply.started": "2022-04-10T02:30:50.518899Z"
    },
    "papermill": {
     "duration": 0.108939,
     "end_time": "2022-04-10T04:32:41.810433",
     "exception": false,
     "start_time": "2022-04-10T04:32:41.701494",
     "status": "completed"
    },
    "tags": []
   },
   "outputs": [],
   "source": [
    "data_dir =  \"../input/200000-abstracts-for-seq-sentence-classification/20k_abstracts_numbers_with_@/\""
   ]
  },
  {
   "cell_type": "code",
   "execution_count": 2,
   "id": "84ac1307",
   "metadata": {
    "execution": {
     "iopub.execute_input": "2022-04-10T04:32:42.004587Z",
     "iopub.status.busy": "2022-04-10T04:32:42.004006Z",
     "iopub.status.idle": "2022-04-10T04:32:42.018141Z",
     "shell.execute_reply": "2022-04-10T04:32:42.018674Z",
     "shell.execute_reply.started": "2022-04-10T02:30:50.57792Z"
    },
    "papermill": {
     "duration": 0.113632,
     "end_time": "2022-04-10T04:32:42.018857",
     "exception": false,
     "start_time": "2022-04-10T04:32:41.905225",
     "status": "completed"
    },
    "tags": []
   },
   "outputs": [
    {
     "data": {
      "text/plain": [
       "['../input/200000-abstracts-for-seq-sentence-classification/20k_abstracts_numbers_with_@/test.txt',\n",
       " '../input/200000-abstracts-for-seq-sentence-classification/20k_abstracts_numbers_with_@/train.txt',\n",
       " '../input/200000-abstracts-for-seq-sentence-classification/20k_abstracts_numbers_with_@/dev.txt']"
      ]
     },
     "execution_count": 2,
     "metadata": {},
     "output_type": "execute_result"
    }
   ],
   "source": [
    "import os \n",
    "filenames = [data_dir + filename for filename in os.listdir(data_dir)]\n",
    "filenames"
   ]
  },
  {
   "cell_type": "markdown",
   "id": "5c122052",
   "metadata": {
    "papermill": {
     "duration": 0.185857,
     "end_time": "2022-04-10T04:32:42.310344",
     "exception": false,
     "start_time": "2022-04-10T04:32:42.124487",
     "status": "completed"
    },
    "tags": []
   },
   "source": [
    "## Preprocess data"
   ]
  },
  {
   "cell_type": "code",
   "execution_count": 3,
   "id": "726f5118",
   "metadata": {
    "execution": {
     "iopub.execute_input": "2022-04-10T04:32:42.627016Z",
     "iopub.status.busy": "2022-04-10T04:32:42.626089Z",
     "iopub.status.idle": "2022-04-10T04:32:42.629616Z",
     "shell.execute_reply": "2022-04-10T04:32:42.630200Z",
     "shell.execute_reply.started": "2022-04-10T02:30:50.643005Z"
    },
    "papermill": {
     "duration": 0.165688,
     "end_time": "2022-04-10T04:32:42.630416",
     "exception": false,
     "start_time": "2022-04-10T04:32:42.464728",
     "status": "completed"
    },
    "tags": []
   },
   "outputs": [],
   "source": [
    "# Create function to read the lines of a document\n",
    "def get_lines(filename):\n",
    "    \"\"\"\n",
    "  Reads filename (a text file) and returns the lines of text as a list.\n",
    "  \n",
    "  Args:\n",
    "      filename: a string containing the target filepath to read.\n",
    "  \n",
    "  Returns:\n",
    "      A list of strings with one string per line from the target filename.\n",
    "      For example:\n",
    "      [\"this is the first line of filename\",\n",
    "       \"this is the second line of filename\",\n",
    "       \"...\"]\n",
    "  \"\"\"\n",
    "    with open(filename,'r') as f:\n",
    "        return f.readlines()"
   ]
  },
  {
   "cell_type": "code",
   "execution_count": 4,
   "id": "766ee29c",
   "metadata": {
    "execution": {
     "iopub.execute_input": "2022-04-10T04:32:42.872487Z",
     "iopub.status.busy": "2022-04-10T04:32:42.871874Z",
     "iopub.status.idle": "2022-04-10T04:32:43.272113Z",
     "shell.execute_reply": "2022-04-10T04:32:43.272586Z",
     "shell.execute_reply.started": "2022-04-10T02:30:50.651036Z"
    },
    "papermill": {
     "duration": 0.499078,
     "end_time": "2022-04-10T04:32:43.272747",
     "exception": false,
     "start_time": "2022-04-10T04:32:42.773669",
     "status": "completed"
    },
    "tags": []
   },
   "outputs": [
    {
     "data": {
      "text/plain": [
       "['###24293578\\n',\n",
       " 'OBJECTIVE\\tTo investigate the efficacy of @ weeks of daily low-dose oral prednisolone in improving pain , mobility , and systemic low-grade inflammation in the short term and whether the effect would be sustained at @ weeks in older adults with moderate to severe knee osteoarthritis ( OA ) .\\n',\n",
       " 'METHODS\\tA total of @ patients with primary knee OA were randomized @:@ ; @ received @ mg/day of prednisolone and @ received placebo for @ weeks .\\n',\n",
       " 'METHODS\\tOutcome measures included pain reduction and improvement in function scores and systemic inflammation markers .\\n',\n",
       " 'METHODS\\tPain was assessed using the visual analog pain scale ( @-@ mm ) .\\n',\n",
       " 'METHODS\\tSecondary outcome measures included the Western Ontario and McMaster Universities Osteoarthritis Index scores , patient global assessment ( PGA ) of the severity of knee OA , and @-min walk distance ( @MWD ) .\\n',\n",
       " 'METHODS\\tSerum levels of interleukin @ ( IL-@ ) , IL-@ , tumor necrosis factor ( TNF ) - , and high-sensitivity C-reactive protein ( hsCRP ) were measured .\\n',\n",
       " 'RESULTS\\tThere was a clinically relevant reduction in the intervention group compared to the placebo group for knee pain , physical function , PGA , and @MWD at @ weeks .\\n',\n",
       " 'RESULTS\\tThe mean difference between treatment arms ( @ % CI ) was @ ( @-@ @ ) , p < @ ; @ ( @-@ @ ) , p < @ ; @ ( @-@ @ ) , p < @ ; and @ ( @-@ @ ) , p < @ , respectively .\\n',\n",
       " 'RESULTS\\tFurther , there was a clinically relevant reduction in the serum levels of IL-@ , IL-@ , TNF - , and hsCRP at @ weeks in the intervention group when compared to the placebo group .\\n',\n",
       " 'RESULTS\\tThese differences remained significant at @ weeks .\\n',\n",
       " 'RESULTS\\tThe Outcome Measures in Rheumatology Clinical Trials-Osteoarthritis Research Society International responder rate was @ % in the intervention group and @ % in the placebo group ( p < @ ) .\\n',\n",
       " 'CONCLUSIONS\\tLow-dose oral prednisolone had both a short-term and a longer sustained effect resulting in less knee pain , better physical function , and attenuation of systemic inflammation in older patients with knee OA ( ClinicalTrials.gov identifier NCT@ ) .\\n',\n",
       " '\\n',\n",
       " '###24854809\\n',\n",
       " 'BACKGROUND\\tEmotional eating is associated with overeating and the development of obesity .\\n',\n",
       " 'BACKGROUND\\tYet , empirical evidence for individual ( trait ) differences in emotional eating and cognitive mechanisms that contribute to eating during sad mood remain equivocal .\\n',\n",
       " 'OBJECTIVE\\tThe aim of this study was to test if attention bias for food moderates the effect of self-reported emotional eating during sad mood ( vs neutral mood ) on actual food intake .\\n',\n",
       " 'OBJECTIVE\\tIt was expected that emotional eating is predictive of elevated attention for food and higher food intake after an experimentally induced sad mood and that attentional maintenance on food predicts food intake during a sad versus a neutral mood .\\n',\n",
       " 'METHODS\\tParticipants ( N = @ ) were randomly assigned to one of the two experimental mood induction conditions ( sad/neutral ) .\\n']"
      ]
     },
     "execution_count": 4,
     "metadata": {},
     "output_type": "execute_result"
    }
   ],
   "source": [
    "train_lines = get_lines(data_dir+\"train.txt\")\n",
    "train_lines[:20] # the whole first example of an abstract + a little more of the next one"
   ]
  },
  {
   "cell_type": "code",
   "execution_count": 5,
   "id": "2d3e228d",
   "metadata": {
    "execution": {
     "iopub.execute_input": "2022-04-10T04:32:43.471560Z",
     "iopub.status.busy": "2022-04-10T04:32:43.470611Z",
     "iopub.status.idle": "2022-04-10T04:32:43.472334Z",
     "shell.execute_reply": "2022-04-10T04:32:43.472842Z",
     "shell.execute_reply.started": "2022-04-10T02:30:51.477855Z"
    },
    "papermill": {
     "duration": 0.104849,
     "end_time": "2022-04-10T04:32:43.472995",
     "exception": false,
     "start_time": "2022-04-10T04:32:43.368146",
     "status": "completed"
    },
    "tags": []
   },
   "outputs": [],
   "source": [
    "def preprocess_text_with_line_numbers(filename):\n",
    "    \"\"\"Returns a list of dictionaries of abstract line data.\n",
    "    \n",
    "    Takes in Filename,reads its content and sorts through each line,\n",
    "    extracting things like target label, the text of the sentence,\n",
    "    how many sentences are in the current abstract and what sentence \n",
    "    number the target line is.\n",
    "    \n",
    "     Args:\n",
    "      filename: a string of the target text file to read and extract line \n",
    "      data from\n",
    "      \n",
    "     Returns:\n",
    "     A list of dictionaries each containing a line from an abstract,\n",
    "     the lines label,the line position in the abstract and the total number \n",
    "     of lines in the abstract where the line is from, For example:\n",
    "     \n",
    "     [{\"target\": 'CONCLUSION',\n",
    "        \"text\": The study couldn't have gone better, turns out people are kinder than you think\",\n",
    "        \"line_number\": 8,\n",
    "        \"total_lines\": 8}]\n",
    "    \"\"\"\n",
    "    input_lines = get_lines(filename)\n",
    "    abstract_lines = \"\"  # create an empty abstract\n",
    "    abstract_samples = []  # create an empty list of abstracts\n",
    "    \n",
    "    # Loop through each line in target file\n",
    "    for line in input_lines:\n",
    "        if line.startswith('###'):\n",
    "            abstract_id = line\n",
    "            abstract_lines = \"\" # reset abstract string\n",
    "        elif line.isspace():\n",
    "            abstract_line_split = abstract_lines.splitlines() # split abstract into separate lines\n",
    "            \n",
    "            # Iterate through each line in abstract and count them at the same time\n",
    "            for abstract_line_number,abstract_line in enumerate(abstract_line_split):\n",
    "                line_data = {} # create empty dict to store data from line\n",
    "                target_text_split = abstract_line.split('\\t') # split target label from text\n",
    "                line_data['target'] = target_text_split[0] # get target label\n",
    "                line_data[\"text\"] = target_text_split[1].lower() # get target text and lower it\n",
    "                line_data['line_number'] = abstract_line_number # what number line does the line appear in the abstract?\n",
    "                line_data['total_lines'] = len(abstract_line_split) - 1 # how many total lines are in the abstract? (start from 0)\n",
    "                abstract_samples.append(line_data)\n",
    "        \n",
    "        else:abstract_lines += line\n",
    "            \n",
    "    return abstract_samples        "
   ]
  },
  {
   "cell_type": "code",
   "execution_count": 6,
   "id": "89e8e86b",
   "metadata": {
    "execution": {
     "iopub.execute_input": "2022-04-10T04:32:43.670067Z",
     "iopub.status.busy": "2022-04-10T04:32:43.668341Z",
     "iopub.status.idle": "2022-04-10T04:32:44.421892Z",
     "shell.execute_reply": "2022-04-10T04:32:44.422602Z",
     "shell.execute_reply.started": "2022-04-10T02:30:51.4895Z"
    },
    "papermill": {
     "duration": 0.8549,
     "end_time": "2022-04-10T04:32:44.422776",
     "exception": false,
     "start_time": "2022-04-10T04:32:43.567876",
     "status": "completed"
    },
    "tags": []
   },
   "outputs": [
    {
     "data": {
      "text/plain": [
       "(180040, 30212, 30135)"
      ]
     },
     "execution_count": 6,
     "metadata": {},
     "output_type": "execute_result"
    }
   ],
   "source": [
    "# Get data from file and preprocess it\n",
    "train_samples = preprocess_text_with_line_numbers(data_dir + \"train.txt\")\n",
    "val_samples = preprocess_text_with_line_numbers(data_dir + \"dev.txt\")\n",
    "test_samples = preprocess_text_with_line_numbers(data_dir + \"test.txt\")\n",
    "len(train_samples), len(val_samples), len(test_samples)"
   ]
  },
  {
   "cell_type": "code",
   "execution_count": 7,
   "id": "9d4c6501",
   "metadata": {
    "execution": {
     "iopub.execute_input": "2022-04-10T04:32:44.750464Z",
     "iopub.status.busy": "2022-04-10T04:32:44.749579Z",
     "iopub.status.idle": "2022-04-10T04:32:44.756193Z",
     "shell.execute_reply": "2022-04-10T04:32:44.756786Z",
     "shell.execute_reply.started": "2022-04-10T02:30:58.614617Z"
    },
    "papermill": {
     "duration": 0.178888,
     "end_time": "2022-04-10T04:32:44.757006",
     "exception": false,
     "start_time": "2022-04-10T04:32:44.578118",
     "status": "completed"
    },
    "tags": []
   },
   "outputs": [
    {
     "data": {
      "text/plain": [
       "[{'target': 'OBJECTIVE',\n",
       "  'text': 'to investigate the efficacy of @ weeks of daily low-dose oral prednisolone in improving pain , mobility , and systemic low-grade inflammation in the short term and whether the effect would be sustained at @ weeks in older adults with moderate to severe knee osteoarthritis ( oa ) .',\n",
       "  'line_number': 0,\n",
       "  'total_lines': 11},\n",
       " {'target': 'METHODS',\n",
       "  'text': 'a total of @ patients with primary knee oa were randomized @:@ ; @ received @ mg/day of prednisolone and @ received placebo for @ weeks .',\n",
       "  'line_number': 1,\n",
       "  'total_lines': 11},\n",
       " {'target': 'METHODS',\n",
       "  'text': 'outcome measures included pain reduction and improvement in function scores and systemic inflammation markers .',\n",
       "  'line_number': 2,\n",
       "  'total_lines': 11},\n",
       " {'target': 'METHODS',\n",
       "  'text': 'pain was assessed using the visual analog pain scale ( @-@ mm ) .',\n",
       "  'line_number': 3,\n",
       "  'total_lines': 11},\n",
       " {'target': 'METHODS',\n",
       "  'text': 'secondary outcome measures included the western ontario and mcmaster universities osteoarthritis index scores , patient global assessment ( pga ) of the severity of knee oa , and @-min walk distance ( @mwd ) .',\n",
       "  'line_number': 4,\n",
       "  'total_lines': 11},\n",
       " {'target': 'METHODS',\n",
       "  'text': 'serum levels of interleukin @ ( il-@ ) , il-@ , tumor necrosis factor ( tnf ) - , and high-sensitivity c-reactive protein ( hscrp ) were measured .',\n",
       "  'line_number': 5,\n",
       "  'total_lines': 11},\n",
       " {'target': 'RESULTS',\n",
       "  'text': 'there was a clinically relevant reduction in the intervention group compared to the placebo group for knee pain , physical function , pga , and @mwd at @ weeks .',\n",
       "  'line_number': 6,\n",
       "  'total_lines': 11},\n",
       " {'target': 'RESULTS',\n",
       "  'text': 'the mean difference between treatment arms ( @ % ci ) was @ ( @-@ @ ) , p < @ ; @ ( @-@ @ ) , p < @ ; @ ( @-@ @ ) , p < @ ; and @ ( @-@ @ ) , p < @ , respectively .',\n",
       "  'line_number': 7,\n",
       "  'total_lines': 11},\n",
       " {'target': 'RESULTS',\n",
       "  'text': 'further , there was a clinically relevant reduction in the serum levels of il-@ , il-@ , tnf - , and hscrp at @ weeks in the intervention group when compared to the placebo group .',\n",
       "  'line_number': 8,\n",
       "  'total_lines': 11},\n",
       " {'target': 'RESULTS',\n",
       "  'text': 'these differences remained significant at @ weeks .',\n",
       "  'line_number': 9,\n",
       "  'total_lines': 11},\n",
       " {'target': 'RESULTS',\n",
       "  'text': 'the outcome measures in rheumatology clinical trials-osteoarthritis research society international responder rate was @ % in the intervention group and @ % in the placebo group ( p < @ ) .',\n",
       "  'line_number': 10,\n",
       "  'total_lines': 11},\n",
       " {'target': 'CONCLUSIONS',\n",
       "  'text': 'low-dose oral prednisolone had both a short-term and a longer sustained effect resulting in less knee pain , better physical function , and attenuation of systemic inflammation in older patients with knee oa ( clinicaltrials.gov identifier nct@ ) .',\n",
       "  'line_number': 11,\n",
       "  'total_lines': 11},\n",
       " {'target': 'BACKGROUND',\n",
       "  'text': 'emotional eating is associated with overeating and the development of obesity .',\n",
       "  'line_number': 0,\n",
       "  'total_lines': 10},\n",
       " {'target': 'BACKGROUND',\n",
       "  'text': 'yet , empirical evidence for individual ( trait ) differences in emotional eating and cognitive mechanisms that contribute to eating during sad mood remain equivocal .',\n",
       "  'line_number': 1,\n",
       "  'total_lines': 10}]"
      ]
     },
     "execution_count": 7,
     "metadata": {},
     "output_type": "execute_result"
    }
   ],
   "source": [
    "train_samples[:14]"
   ]
  },
  {
   "cell_type": "code",
   "execution_count": 8,
   "id": "b4534e6e",
   "metadata": {
    "execution": {
     "iopub.execute_input": "2022-04-10T04:32:45.091453Z",
     "iopub.status.busy": "2022-04-10T04:32:45.090598Z",
     "iopub.status.idle": "2022-04-10T04:32:45.702669Z",
     "shell.execute_reply": "2022-04-10T04:32:45.703814Z",
     "shell.execute_reply.started": "2022-04-10T02:30:58.626063Z"
    },
    "papermill": {
     "duration": 0.791229,
     "end_time": "2022-04-10T04:32:45.704032",
     "exception": false,
     "start_time": "2022-04-10T04:32:44.912803",
     "status": "completed"
    },
    "tags": []
   },
   "outputs": [],
   "source": [
    "import pandas as pd\n",
    "train_df = pd.DataFrame(train_samples)\n",
    "val_df = pd.DataFrame(val_samples)\n",
    "test_df = pd.DataFrame(test_samples)"
   ]
  },
  {
   "cell_type": "code",
   "execution_count": 9,
   "id": "3d5de5e3",
   "metadata": {
    "execution": {
     "iopub.execute_input": "2022-04-10T04:32:45.912919Z",
     "iopub.status.busy": "2022-04-10T04:32:45.912084Z",
     "iopub.status.idle": "2022-04-10T04:32:45.924821Z",
     "shell.execute_reply": "2022-04-10T04:32:45.925248Z",
     "shell.execute_reply.started": "2022-04-10T02:31:01.885787Z"
    },
    "papermill": {
     "duration": 0.114137,
     "end_time": "2022-04-10T04:32:45.925440",
     "exception": false,
     "start_time": "2022-04-10T04:32:45.811303",
     "status": "completed"
    },
    "tags": []
   },
   "outputs": [
    {
     "data": {
      "text/html": [
       "<div>\n",
       "<style scoped>\n",
       "    .dataframe tbody tr th:only-of-type {\n",
       "        vertical-align: middle;\n",
       "    }\n",
       "\n",
       "    .dataframe tbody tr th {\n",
       "        vertical-align: top;\n",
       "    }\n",
       "\n",
       "    .dataframe thead th {\n",
       "        text-align: right;\n",
       "    }\n",
       "</style>\n",
       "<table border=\"1\" class=\"dataframe\">\n",
       "  <thead>\n",
       "    <tr style=\"text-align: right;\">\n",
       "      <th></th>\n",
       "      <th>target</th>\n",
       "      <th>text</th>\n",
       "      <th>line_number</th>\n",
       "      <th>total_lines</th>\n",
       "    </tr>\n",
       "  </thead>\n",
       "  <tbody>\n",
       "    <tr>\n",
       "      <th>0</th>\n",
       "      <td>OBJECTIVE</td>\n",
       "      <td>to investigate the efficacy of @ weeks of dail...</td>\n",
       "      <td>0</td>\n",
       "      <td>11</td>\n",
       "    </tr>\n",
       "    <tr>\n",
       "      <th>1</th>\n",
       "      <td>METHODS</td>\n",
       "      <td>a total of @ patients with primary knee oa wer...</td>\n",
       "      <td>1</td>\n",
       "      <td>11</td>\n",
       "    </tr>\n",
       "    <tr>\n",
       "      <th>2</th>\n",
       "      <td>METHODS</td>\n",
       "      <td>outcome measures included pain reduction and i...</td>\n",
       "      <td>2</td>\n",
       "      <td>11</td>\n",
       "    </tr>\n",
       "    <tr>\n",
       "      <th>3</th>\n",
       "      <td>METHODS</td>\n",
       "      <td>pain was assessed using the visual analog pain...</td>\n",
       "      <td>3</td>\n",
       "      <td>11</td>\n",
       "    </tr>\n",
       "    <tr>\n",
       "      <th>4</th>\n",
       "      <td>METHODS</td>\n",
       "      <td>secondary outcome measures included the wester...</td>\n",
       "      <td>4</td>\n",
       "      <td>11</td>\n",
       "    </tr>\n",
       "    <tr>\n",
       "      <th>5</th>\n",
       "      <td>METHODS</td>\n",
       "      <td>serum levels of interleukin @ ( il-@ ) , il-@ ...</td>\n",
       "      <td>5</td>\n",
       "      <td>11</td>\n",
       "    </tr>\n",
       "    <tr>\n",
       "      <th>6</th>\n",
       "      <td>RESULTS</td>\n",
       "      <td>there was a clinically relevant reduction in t...</td>\n",
       "      <td>6</td>\n",
       "      <td>11</td>\n",
       "    </tr>\n",
       "    <tr>\n",
       "      <th>7</th>\n",
       "      <td>RESULTS</td>\n",
       "      <td>the mean difference between treatment arms ( @...</td>\n",
       "      <td>7</td>\n",
       "      <td>11</td>\n",
       "    </tr>\n",
       "    <tr>\n",
       "      <th>8</th>\n",
       "      <td>RESULTS</td>\n",
       "      <td>further , there was a clinically relevant redu...</td>\n",
       "      <td>8</td>\n",
       "      <td>11</td>\n",
       "    </tr>\n",
       "    <tr>\n",
       "      <th>9</th>\n",
       "      <td>RESULTS</td>\n",
       "      <td>these differences remained significant at @ we...</td>\n",
       "      <td>9</td>\n",
       "      <td>11</td>\n",
       "    </tr>\n",
       "    <tr>\n",
       "      <th>10</th>\n",
       "      <td>RESULTS</td>\n",
       "      <td>the outcome measures in rheumatology clinical ...</td>\n",
       "      <td>10</td>\n",
       "      <td>11</td>\n",
       "    </tr>\n",
       "    <tr>\n",
       "      <th>11</th>\n",
       "      <td>CONCLUSIONS</td>\n",
       "      <td>low-dose oral prednisolone had both a short-te...</td>\n",
       "      <td>11</td>\n",
       "      <td>11</td>\n",
       "    </tr>\n",
       "    <tr>\n",
       "      <th>12</th>\n",
       "      <td>BACKGROUND</td>\n",
       "      <td>emotional eating is associated with overeating...</td>\n",
       "      <td>0</td>\n",
       "      <td>10</td>\n",
       "    </tr>\n",
       "    <tr>\n",
       "      <th>13</th>\n",
       "      <td>BACKGROUND</td>\n",
       "      <td>yet , empirical evidence for individual ( trai...</td>\n",
       "      <td>1</td>\n",
       "      <td>10</td>\n",
       "    </tr>\n",
       "  </tbody>\n",
       "</table>\n",
       "</div>"
      ],
      "text/plain": [
       "         target                                               text  \\\n",
       "0     OBJECTIVE  to investigate the efficacy of @ weeks of dail...   \n",
       "1       METHODS  a total of @ patients with primary knee oa wer...   \n",
       "2       METHODS  outcome measures included pain reduction and i...   \n",
       "3       METHODS  pain was assessed using the visual analog pain...   \n",
       "4       METHODS  secondary outcome measures included the wester...   \n",
       "5       METHODS  serum levels of interleukin @ ( il-@ ) , il-@ ...   \n",
       "6       RESULTS  there was a clinically relevant reduction in t...   \n",
       "7       RESULTS  the mean difference between treatment arms ( @...   \n",
       "8       RESULTS  further , there was a clinically relevant redu...   \n",
       "9       RESULTS  these differences remained significant at @ we...   \n",
       "10      RESULTS  the outcome measures in rheumatology clinical ...   \n",
       "11  CONCLUSIONS  low-dose oral prednisolone had both a short-te...   \n",
       "12   BACKGROUND  emotional eating is associated with overeating...   \n",
       "13   BACKGROUND  yet , empirical evidence for individual ( trai...   \n",
       "\n",
       "    line_number  total_lines  \n",
       "0             0           11  \n",
       "1             1           11  \n",
       "2             2           11  \n",
       "3             3           11  \n",
       "4             4           11  \n",
       "5             5           11  \n",
       "6             6           11  \n",
       "7             7           11  \n",
       "8             8           11  \n",
       "9             9           11  \n",
       "10           10           11  \n",
       "11           11           11  \n",
       "12            0           10  \n",
       "13            1           10  "
      ]
     },
     "execution_count": 9,
     "metadata": {},
     "output_type": "execute_result"
    }
   ],
   "source": [
    "train_df.head(14)"
   ]
  },
  {
   "cell_type": "code",
   "execution_count": 10,
   "id": "894a2234",
   "metadata": {
    "execution": {
     "iopub.execute_input": "2022-04-10T04:32:46.164879Z",
     "iopub.status.busy": "2022-04-10T04:32:46.163998Z",
     "iopub.status.idle": "2022-04-10T04:32:46.424297Z",
     "shell.execute_reply": "2022-04-10T04:32:46.424732Z",
     "shell.execute_reply.started": "2022-04-10T02:31:01.905803Z"
    },
    "papermill": {
     "duration": 0.400196,
     "end_time": "2022-04-10T04:32:46.424881",
     "exception": false,
     "start_time": "2022-04-10T04:32:46.024685",
     "status": "completed"
    },
    "tags": []
   },
   "outputs": [
    {
     "name": "stdout",
     "output_type": "stream",
     "text": [
      "METHODS        59353\n",
      "RESULTS        57953\n",
      "CONCLUSIONS    27168\n",
      "BACKGROUND     21727\n",
      "OBJECTIVE      13839\n",
      "Name: target, dtype: int64\n"
     ]
    },
    {
     "data": {
      "image/png": "[encoded data removed]",
      "text/plain": [
       "<Figure size 432x288 with 1 Axes>"
      ]
     },
     "metadata": {
      "needs_background": "light"
     },
     "output_type": "display_data"
    }
   ],
   "source": [
    "# Distribution of labels in training data\n",
    "print(train_df.target.value_counts())\n",
    "train_df.target.value_counts().plot.bar();"
   ]
  },
  {
   "cell_type": "code",
   "execution_count": 11,
   "id": "e829dfb3",
   "metadata": {
    "execution": {
     "iopub.execute_input": "2022-04-10T04:32:46.625021Z",
     "iopub.status.busy": "2022-04-10T04:32:46.624057Z",
     "iopub.status.idle": "2022-04-10T04:32:46.967801Z",
     "shell.execute_reply": "2022-04-10T04:32:46.968290Z",
     "shell.execute_reply.started": "2022-04-10T02:31:02.824046Z"
    },
    "papermill": {
     "duration": 0.447794,
     "end_time": "2022-04-10T04:32:46.968459",
     "exception": false,
     "start_time": "2022-04-10T04:32:46.520665",
     "status": "completed"
    },
    "tags": []
   },
   "outputs": [
    {
     "data": {
      "image/png": "[encoded data removed]",
      "text/plain": [
       "<Figure size 432x288 with 1 Axes>"
      ]
     },
     "metadata": {
      "needs_background": "light"
     },
     "output_type": "display_data"
    }
   ],
   "source": [
    "train_df.total_lines.plot.hist(); # Most of the abstracts are around 7 to 15 sentences in length."
   ]
  },
  {
   "cell_type": "code",
   "execution_count": 12,
   "id": "559787d0",
   "metadata": {
    "execution": {
     "iopub.execute_input": "2022-04-10T04:32:47.177089Z",
     "iopub.status.busy": "2022-04-10T04:32:47.176386Z",
     "iopub.status.idle": "2022-04-10T04:32:47.179486Z",
     "shell.execute_reply": "2022-04-10T04:32:47.179910Z",
     "shell.execute_reply.started": "2022-04-10T02:31:03.234148Z"
    },
    "papermill": {
     "duration": 0.115092,
     "end_time": "2022-04-10T04:32:47.180056",
     "exception": false,
     "start_time": "2022-04-10T04:32:47.064964",
     "status": "completed"
    },
    "tags": []
   },
   "outputs": [
    {
     "data": {
      "text/plain": [
       "(180040, 30212, 30135)"
      ]
     },
     "execution_count": 12,
     "metadata": {},
     "output_type": "execute_result"
    }
   ],
   "source": [
    "# Convert abstract text lines into lists \n",
    "train_sentences = train_df[\"text\"].to_list()\n",
    "val_sentences = val_df[\"text\"].to_list()\n",
    "test_sentences = test_df[\"text\"].to_list()\n",
    "len(train_sentences), len(val_sentences), len(test_sentences)"
   ]
  },
  {
   "cell_type": "code",
   "execution_count": 13,
   "id": "ecc423e1",
   "metadata": {
    "execution": {
     "iopub.execute_input": "2022-04-10T04:32:47.382035Z",
     "iopub.status.busy": "2022-04-10T04:32:47.381356Z",
     "iopub.status.idle": "2022-04-10T04:32:47.384339Z",
     "shell.execute_reply": "2022-04-10T04:32:47.384740Z",
     "shell.execute_reply.started": "2022-04-10T02:31:03.313673Z"
    },
    "papermill": {
     "duration": 0.107131,
     "end_time": "2022-04-10T04:32:47.384880",
     "exception": false,
     "start_time": "2022-04-10T04:32:47.277749",
     "status": "completed"
    },
    "tags": []
   },
   "outputs": [
    {
     "data": {
      "text/plain": [
       "['to investigate the efficacy of @ weeks of daily low-dose oral prednisolone in improving pain , mobility , and systemic low-grade inflammation in the short term and whether the effect would be sustained at @ weeks in older adults with moderate to severe knee osteoarthritis ( oa ) .',\n",
       " 'a total of @ patients with primary knee oa were randomized @:@ ; @ received @ mg/day of prednisolone and @ received placebo for @ weeks .',\n",
       " 'outcome measures included pain reduction and improvement in function scores and systemic inflammation markers .',\n",
       " 'pain was assessed using the visual analog pain scale ( @-@ mm ) .',\n",
       " 'secondary outcome measures included the western ontario and mcmaster universities osteoarthritis index scores , patient global assessment ( pga ) of the severity of knee oa , and @-min walk distance ( @mwd ) .',\n",
       " 'serum levels of interleukin @ ( il-@ ) , il-@ , tumor necrosis factor ( tnf ) - , and high-sensitivity c-reactive protein ( hscrp ) were measured .',\n",
       " 'there was a clinically relevant reduction in the intervention group compared to the placebo group for knee pain , physical function , pga , and @mwd at @ weeks .',\n",
       " 'the mean difference between treatment arms ( @ % ci ) was @ ( @-@ @ ) , p < @ ; @ ( @-@ @ ) , p < @ ; @ ( @-@ @ ) , p < @ ; and @ ( @-@ @ ) , p < @ , respectively .',\n",
       " 'further , there was a clinically relevant reduction in the serum levels of il-@ , il-@ , tnf - , and hscrp at @ weeks in the intervention group when compared to the placebo group .',\n",
       " 'these differences remained significant at @ weeks .']"
      ]
     },
     "execution_count": 13,
     "metadata": {},
     "output_type": "execute_result"
    }
   ],
   "source": [
    "# View first 10 lines of training sentences\n",
    "train_sentences[:10]"
   ]
  },
  {
   "cell_type": "markdown",
   "id": "afaf7eb7",
   "metadata": {
    "papermill": {
     "duration": 0.098143,
     "end_time": "2022-04-10T04:32:47.581657",
     "exception": false,
     "start_time": "2022-04-10T04:32:47.483514",
     "status": "completed"
    },
    "tags": []
   },
   "source": [
    "## Make numeric labels (ML models require numeric labels)\n",
    "\n",
    "### One hot encode labels"
   ]
  },
  {
   "cell_type": "code",
   "execution_count": 14,
   "id": "482312eb",
   "metadata": {
    "execution": {
     "iopub.execute_input": "2022-04-10T04:32:47.783368Z",
     "iopub.status.busy": "2022-04-10T04:32:47.782591Z",
     "iopub.status.idle": "2022-04-10T04:32:48.665219Z",
     "shell.execute_reply": "2022-04-10T04:32:48.664777Z",
     "shell.execute_reply.started": "2022-04-10T02:31:03.321845Z"
    },
    "papermill": {
     "duration": 0.985408,
     "end_time": "2022-04-10T04:32:48.665374",
     "exception": false,
     "start_time": "2022-04-10T04:32:47.679966",
     "status": "completed"
    },
    "tags": []
   },
   "outputs": [
    {
     "data": {
      "text/plain": [
       "array([[0., 0., 0., 1., 0.],\n",
       "       [0., 0., 1., 0., 0.],\n",
       "       [0., 0., 1., 0., 0.],\n",
       "       ...,\n",
       "       [0., 0., 0., 0., 1.],\n",
       "       [0., 1., 0., 0., 0.],\n",
       "       [0., 1., 0., 0., 0.]])"
      ]
     },
     "execution_count": 14,
     "metadata": {},
     "output_type": "execute_result"
    }
   ],
   "source": [
    "from sklearn.preprocessing import OneHotEncoder\n",
    "one_hot_encoder = OneHotEncoder(sparse=False)\n",
    "train_labels_one_hot = one_hot_encoder.fit_transform(train_df[\"target\"].to_numpy().reshape(-1,1))\n",
    "val_labels_one_hot = one_hot_encoder.transform(val_df['target'].to_numpy().reshape(-1,1))\n",
    "test_labels_one_hot = one_hot_encoder.transform(test_df['target'].to_numpy().reshape(-1,1))\n",
    "\n",
    "# Check what training labels look like\n",
    "train_labels_one_hot"
   ]
  },
  {
   "cell_type": "markdown",
   "id": "39242ba2",
   "metadata": {
    "papermill": {
     "duration": 0.098925,
     "end_time": "2022-04-10T04:32:48.862667",
     "exception": false,
     "start_time": "2022-04-10T04:32:48.763742",
     "status": "completed"
    },
    "tags": []
   },
   "source": [
    "## Label encode labels"
   ]
  },
  {
   "cell_type": "code",
   "execution_count": 15,
   "id": "e1699273",
   "metadata": {
    "execution": {
     "iopub.execute_input": "2022-04-10T04:32:49.076984Z",
     "iopub.status.busy": "2022-04-10T04:32:49.076149Z",
     "iopub.status.idle": "2022-04-10T04:32:49.140129Z",
     "shell.execute_reply": "2022-04-10T04:32:49.140722Z",
     "shell.execute_reply.started": "2022-04-10T02:31:04.296139Z"
    },
    "papermill": {
     "duration": 0.179471,
     "end_time": "2022-04-10T04:32:49.140874",
     "exception": false,
     "start_time": "2022-04-10T04:32:48.961403",
     "status": "completed"
    },
    "tags": []
   },
   "outputs": [
    {
     "data": {
      "text/plain": [
       "array([3, 2, 2, ..., 4, 1, 1])"
      ]
     },
     "execution_count": 15,
     "metadata": {},
     "output_type": "execute_result"
    }
   ],
   "source": [
    "# Extract labels (\"target\" columns) and encode them into integers \n",
    "from sklearn.preprocessing import LabelEncoder\n",
    "label_encoder = LabelEncoder()\n",
    "train_labels_encoded = label_encoder.fit_transform(train_df['target'].to_numpy())\n",
    "val_labels_encoded = label_encoder.fit_transform(val_df['target'].to_numpy())\n",
    "test_labels_encoded = label_encoder.fit_transform(test_df['target'].to_numpy())\n",
    "\n",
    "# Check what training labels look like\n",
    "train_labels_encoded"
   ]
  },
  {
   "cell_type": "code",
   "execution_count": 16,
   "id": "b34f07e9",
   "metadata": {
    "execution": {
     "iopub.execute_input": "2022-04-10T04:32:49.351552Z",
     "iopub.status.busy": "2022-04-10T04:32:49.350863Z",
     "iopub.status.idle": "2022-04-10T04:32:49.353685Z",
     "shell.execute_reply": "2022-04-10T04:32:49.354085Z",
     "shell.execute_reply.started": "2022-04-10T02:31:04.962352Z"
    },
    "papermill": {
     "duration": 0.111488,
     "end_time": "2022-04-10T04:32:49.354226",
     "exception": false,
     "start_time": "2022-04-10T04:32:49.242738",
     "status": "completed"
    },
    "tags": []
   },
   "outputs": [
    {
     "data": {
      "text/plain": [
       "(5,\n",
       " array(['BACKGROUND', 'CONCLUSIONS', 'METHODS', 'OBJECTIVE', 'RESULTS'],\n",
       "       dtype=object))"
      ]
     },
     "execution_count": 16,
     "metadata": {},
     "output_type": "execute_result"
    }
   ],
   "source": [
    "# Get class names and number of classes from LabelEncoder instance \n",
    "class_names = label_encoder.classes_\n",
    "num_classes = len(label_encoder.classes_)\n",
    "num_classes, class_names"
   ]
  },
  {
   "cell_type": "markdown",
   "id": "e9521370",
   "metadata": {
    "papermill": {
     "duration": 0.097945,
     "end_time": "2022-04-10T04:32:49.551878",
     "exception": false,
     "start_time": "2022-04-10T04:32:49.453933",
     "status": "completed"
    },
    "tags": []
   },
   "source": [
    "## Creating a series of model experiments\n",
    "\n",
    "## Model 0: Getting a baseline"
   ]
  },
  {
   "cell_type": "code",
   "execution_count": 17,
   "id": "b1d5930c",
   "metadata": {
    "execution": {
     "iopub.execute_input": "2022-04-10T04:32:49.757227Z",
     "iopub.status.busy": "2022-04-10T04:32:49.756572Z",
     "iopub.status.idle": "2022-04-10T04:32:54.867000Z",
     "shell.execute_reply": "2022-04-10T04:32:54.865955Z",
     "shell.execute_reply.started": "2022-04-10T02:31:04.970863Z"
    },
    "papermill": {
     "duration": 5.216647,
     "end_time": "2022-04-10T04:32:54.867145",
     "exception": false,
     "start_time": "2022-04-10T04:32:49.650498",
     "status": "completed"
    },
    "tags": []
   },
   "outputs": [],
   "source": [
    "from sklearn.feature_extraction.text import TfidfVectorizer\n",
    "from sklearn.naive_bayes import MultinomialNB\n",
    "from sklearn.pipeline import Pipeline\n",
    "\n",
    "# Create a pipeline\n",
    "model_0 = Pipeline([\n",
    "    (\"tf-idf\",TfidfVectorizer()),\n",
    "    (\"clf\",MultinomialNB())\n",
    "])\n",
    "\n",
    "# Fit the pipeline to the training data\n",
    "model_0.fit(X=train_sentences,y=train_labels_encoded);"
   ]
  },
  {
   "cell_type": "code",
   "execution_count": 18,
   "id": "b359b501",
   "metadata": {
    "execution": {
     "iopub.execute_input": "2022-04-10T04:32:55.114348Z",
     "iopub.status.busy": "2022-04-10T04:32:55.113542Z",
     "iopub.status.idle": "2022-04-10T04:32:55.923682Z",
     "shell.execute_reply": "2022-04-10T04:32:55.924127Z",
     "shell.execute_reply.started": "2022-04-10T02:32:00.787008Z"
    },
    "papermill": {
     "duration": 0.936473,
     "end_time": "2022-04-10T04:32:55.924296",
     "exception": false,
     "start_time": "2022-04-10T04:32:54.987823",
     "status": "completed"
    },
    "tags": []
   },
   "outputs": [
    {
     "data": {
      "text/plain": [
       "0.7218323844829869"
      ]
     },
     "execution_count": 18,
     "metadata": {},
     "output_type": "execute_result"
    }
   ],
   "source": [
    "# Evaluate baseline on validation dataset\n",
    "model_0.score(X=val_sentences,y=val_labels_encoded)"
   ]
  },
  {
   "cell_type": "code",
   "execution_count": 19,
   "id": "cccb2b50",
   "metadata": {
    "execution": {
     "iopub.execute_input": "2022-04-10T04:32:56.159103Z",
     "iopub.status.busy": "2022-04-10T04:32:56.148880Z",
     "iopub.status.idle": "2022-04-10T04:32:56.887951Z",
     "shell.execute_reply": "2022-04-10T04:32:56.887323Z",
     "shell.execute_reply.started": "2022-04-10T02:32:01.612669Z"
    },
    "papermill": {
     "duration": 0.863106,
     "end_time": "2022-04-10T04:32:56.888098",
     "exception": false,
     "start_time": "2022-04-10T04:32:56.024992",
     "status": "completed"
    },
    "tags": []
   },
   "outputs": [
    {
     "data": {
      "text/plain": [
       "array([4, 1, 3, ..., 4, 4, 1])"
      ]
     },
     "execution_count": 19,
     "metadata": {},
     "output_type": "execute_result"
    }
   ],
   "source": [
    "# Make predictions\n",
    "baseline_preds=model_0.predict(val_sentences)\n",
    "baseline_preds"
   ]
  },
  {
   "cell_type": "code",
   "execution_count": 20,
   "id": "1cba422f",
   "metadata": {
    "execution": {
     "iopub.execute_input": "2022-04-10T04:32:57.116005Z",
     "iopub.status.busy": "2022-04-10T04:32:57.114952Z",
     "iopub.status.idle": "2022-04-10T04:32:57.117086Z",
     "shell.execute_reply": "2022-04-10T04:32:57.117573Z",
     "shell.execute_reply.started": "2022-04-10T02:32:02.501669Z"
    },
    "papermill": {
     "duration": 0.119906,
     "end_time": "2022-04-10T04:32:57.117735",
     "exception": false,
     "start_time": "2022-04-10T04:32:56.997829",
     "status": "completed"
    },
    "tags": []
   },
   "outputs": [],
   "source": [
    "# Function to evaluate: accuracy, precision, recall, f1-score\n",
    "from sklearn.metrics import accuracy_score,precision_recall_fscore_support\n",
    "\n",
    "def calculate_results(y_true,y_pred):\n",
    "    \"\"\"\n",
    "  Calculates model accuracy, precision, recall and f1 score of a binary classification model.\n",
    "\n",
    "  Args:\n",
    "  -----\n",
    "  y_true = true labels in the form of a 1D array\n",
    "  y_pred = predicted la_bels in the form of a 1D array\n",
    "\n",
    "  Returns a dictionary of accuracy, precision, recall, f1-score.\n",
    "  \"\"\"\n",
    "    # Calculate model accuracy\n",
    "    model_accuracy=accuracy_score(y_true,y_pred)*100\n",
    "    # Calculate model precision, recall and f1 score using \"weighted\" average\n",
    "    model_precision,model_recall,model_f1,_ = precision_recall_fscore_support(y_true,y_pred,average=\"weighted\")\n",
    "    model_results = {\"accuracy\": model_accuracy,\n",
    "                    \"precision\": model_precision,\n",
    "                    \"recall\": model_recall,\n",
    "                    \"f1-score\": model_f1}\n",
    "    \n",
    "    return model_results"
   ]
  },
  {
   "cell_type": "code",
   "execution_count": 21,
   "id": "927e245f",
   "metadata": {
    "execution": {
     "iopub.execute_input": "2022-04-10T04:32:57.342210Z",
     "iopub.status.busy": "2022-04-10T04:32:57.341352Z",
     "iopub.status.idle": "2022-04-10T04:32:57.356906Z",
     "shell.execute_reply": "2022-04-10T04:32:57.357356Z",
     "shell.execute_reply.started": "2022-04-10T02:32:02.510493Z"
    },
    "papermill": {
     "duration": 0.130107,
     "end_time": "2022-04-10T04:32:57.357511",
     "exception": false,
     "start_time": "2022-04-10T04:32:57.227404",
     "status": "completed"
    },
    "tags": []
   },
   "outputs": [
    {
     "data": {
      "text/plain": [
       "{'accuracy': 72.1832384482987,\n",
       " 'precision': 0.7186466952323352,\n",
       " 'recall': 0.7218323844829869,\n",
       " 'f1-score': 0.6989250353450294}"
      ]
     },
     "execution_count": 21,
     "metadata": {},
     "output_type": "execute_result"
    }
   ],
   "source": [
    "# Calculate baseline results\n",
    "baseline_results = calculate_results(y_true=val_labels_encoded,y_pred=baseline_preds)\n",
    "baseline_results"
   ]
  },
  {
   "cell_type": "markdown",
   "id": "dae6419a",
   "metadata": {
    "papermill": {
     "duration": 0.101218,
     "end_time": "2022-04-10T04:32:57.559428",
     "exception": false,
     "start_time": "2022-04-10T04:32:57.458210",
     "status": "completed"
    },
    "tags": []
   },
   "source": [
    "## Preparing data for deep sequence models"
   ]
  },
  {
   "cell_type": "code",
   "execution_count": 22,
   "id": "9924fa6d",
   "metadata": {
    "execution": {
     "iopub.execute_input": "2022-04-10T04:32:57.770218Z",
     "iopub.status.busy": "2022-04-10T04:32:57.769435Z",
     "iopub.status.idle": "2022-04-10T04:33:03.209225Z",
     "shell.execute_reply": "2022-04-10T04:33:03.208657Z",
     "shell.execute_reply.started": "2022-04-10T02:32:02.535702Z"
    },
    "papermill": {
     "duration": 5.547071,
     "end_time": "2022-04-10T04:33:03.209393",
     "exception": false,
     "start_time": "2022-04-10T04:32:57.662322",
     "status": "completed"
    },
    "tags": []
   },
   "outputs": [],
   "source": [
    "import numpy as np\n",
    "import tensorflow as tf\n",
    "from tensorflow.keras import layers"
   ]
  },
  {
   "cell_type": "code",
   "execution_count": 23,
   "id": "4e700852",
   "metadata": {
    "execution": {
     "iopub.execute_input": "2022-04-10T04:33:03.484632Z",
     "iopub.status.busy": "2022-04-10T04:33:03.459391Z",
     "iopub.status.idle": "2022-04-10T04:33:03.731954Z",
     "shell.execute_reply": "2022-04-10T04:33:03.731435Z",
     "shell.execute_reply.started": "2022-04-10T02:32:02.542927Z"
    },
    "papermill": {
     "duration": 0.41909,
     "end_time": "2022-04-10T04:33:03.732091",
     "exception": false,
     "start_time": "2022-04-10T04:33:03.313001",
     "status": "completed"
    },
    "tags": []
   },
   "outputs": [
    {
     "data": {
      "text/plain": [
       "26.338269273494777"
      ]
     },
     "execution_count": 23,
     "metadata": {},
     "output_type": "execute_result"
    }
   ],
   "source": [
    "# How long is each sentence on average?\n",
    "sent_lens = [len(sentence.split()) for sentence in train_sentences]\n",
    "avg_sent_lens = np.mean(sent_lens)\n",
    "avg_sent_lens"
   ]
  },
  {
   "cell_type": "code",
   "execution_count": 24,
   "id": "4b41ef7e",
   "metadata": {
    "execution": {
     "iopub.execute_input": "2022-04-10T04:33:04.011806Z",
     "iopub.status.busy": "2022-04-10T04:33:03.991513Z",
     "iopub.status.idle": "2022-04-10T04:33:05.385662Z",
     "shell.execute_reply": "2022-04-10T04:33:05.385131Z",
     "shell.execute_reply.started": "2022-04-10T02:32:06.087676Z"
    },
    "papermill": {
     "duration": 1.551027,
     "end_time": "2022-04-10T04:33:05.385808",
     "exception": false,
     "start_time": "2022-04-10T04:33:03.834781",
     "status": "completed"
    },
    "tags": []
   },
   "outputs": [
    {
     "data": {
      "image/png": "[encoded data removed]",
      "text/plain": [
       "<Figure size 432x288 with 1 Axes>"
      ]
     },
     "metadata": {
      "needs_background": "light"
     },
     "output_type": "display_data"
    }
   ],
   "source": [
    "# What's the distribution look like?\n",
    "import matplotlib.pyplot as plt\n",
    "plt.hist(sent_lens,bins=7);"
   ]
  },
  {
   "cell_type": "code",
   "execution_count": 25,
   "id": "cecc4371",
   "metadata": {
    "execution": {
     "iopub.execute_input": "2022-04-10T04:33:05.616127Z",
     "iopub.status.busy": "2022-04-10T04:33:05.615407Z",
     "iopub.status.idle": "2022-04-10T04:33:05.618313Z",
     "shell.execute_reply": "2022-04-10T04:33:05.618774Z",
     "shell.execute_reply.started": "2022-04-10T02:32:17.976411Z"
    },
    "papermill": {
     "duration": 0.12111,
     "end_time": "2022-04-10T04:33:05.618930",
     "exception": false,
     "start_time": "2022-04-10T04:33:05.497820",
     "status": "completed"
    },
    "tags": []
   },
   "outputs": [
    {
     "data": {
      "text/plain": [
       "296"
      ]
     },
     "execution_count": 25,
     "metadata": {},
     "output_type": "execute_result"
    }
   ],
   "source": [
    "# Maximum sentence length in the training set\n",
    "max(sent_lens)"
   ]
  },
  {
   "cell_type": "code",
   "execution_count": 26,
   "id": "c03ea56e",
   "metadata": {
    "execution": {
     "iopub.execute_input": "2022-04-10T04:33:05.872413Z",
     "iopub.status.busy": "2022-04-10T04:33:05.871745Z",
     "iopub.status.idle": "2022-04-10T04:33:05.879984Z",
     "shell.execute_reply": "2022-04-10T04:33:05.880505Z",
     "shell.execute_reply.started": "2022-04-10T02:32:18.018285Z"
    },
    "papermill": {
     "duration": 0.149569,
     "end_time": "2022-04-10T04:33:05.880680",
     "exception": false,
     "start_time": "2022-04-10T04:33:05.731111",
     "status": "completed"
    },
    "tags": []
   },
   "outputs": [
    {
     "data": {
      "text/plain": [
       "55"
      ]
     },
     "execution_count": 26,
     "metadata": {},
     "output_type": "execute_result"
    }
   ],
   "source": [
    "# How long of a sentence covers 95% of the lengths?\n",
    "output_seq_len = int(np.percentile(sent_lens,95))\n",
    "output_seq_len"
   ]
  },
  {
   "cell_type": "markdown",
   "id": "60d8d842",
   "metadata": {
    "papermill": {
     "duration": 0.108303,
     "end_time": "2022-04-10T04:33:06.097101",
     "exception": false,
     "start_time": "2022-04-10T04:33:05.988798",
     "status": "completed"
    },
    "tags": []
   },
   "source": [
    "## Create text vectorizer"
   ]
  },
  {
   "cell_type": "code",
   "execution_count": 27,
   "id": "062d37ec",
   "metadata": {
    "execution": {
     "iopub.execute_input": "2022-04-10T04:33:06.321306Z",
     "iopub.status.busy": "2022-04-10T04:33:06.320162Z",
     "iopub.status.idle": "2022-04-10T04:33:06.322063Z",
     "shell.execute_reply": "2022-04-10T04:33:06.322504Z",
     "shell.execute_reply.started": "2022-04-10T02:32:18.291963Z"
    },
    "papermill": {
     "duration": 0.116923,
     "end_time": "2022-04-10T04:33:06.322653",
     "exception": false,
     "start_time": "2022-04-10T04:33:06.205730",
     "status": "completed"
    },
    "tags": []
   },
   "outputs": [],
   "source": [
    "max_tokens = 68000\n",
    "max_token_length = 55"
   ]
  },
  {
   "cell_type": "code",
   "execution_count": 28,
   "id": "e2f17460",
   "metadata": {
    "execution": {
     "iopub.execute_input": "2022-04-10T04:33:06.547257Z",
     "iopub.status.busy": "2022-04-10T04:33:06.546362Z",
     "iopub.status.idle": "2022-04-10T04:33:09.320638Z",
     "shell.execute_reply": "2022-04-10T04:33:09.319845Z",
     "shell.execute_reply.started": "2022-04-10T02:32:18.298799Z"
    },
    "papermill": {
     "duration": 2.888724,
     "end_time": "2022-04-10T04:33:09.320826",
     "exception": false,
     "start_time": "2022-04-10T04:33:06.432102",
     "status": "completed"
    },
    "tags": []
   },
   "outputs": [
    {
     "name": "stderr",
     "output_type": "stream",
     "text": [
      "2022-04-10 04:33:06.634751: I tensorflow/stream_executor/cuda/cuda_gpu_executor.cc:937] successful NUMA node read from SysFS had negative value (-1), but there must be at least one NUMA node, so returning NUMA node zero\n",
      "2022-04-10 04:33:06.879913: I tensorflow/stream_executor/cuda/cuda_gpu_executor.cc:937] successful NUMA node read from SysFS had negative value (-1), but there must be at least one NUMA node, so returning NUMA node zero\n",
      "2022-04-10 04:33:06.880930: I tensorflow/stream_executor/cuda/cuda_gpu_executor.cc:937] successful NUMA node read from SysFS had negative value (-1), but there must be at least one NUMA node, so returning NUMA node zero\n",
      "2022-04-10 04:33:06.882841: I tensorflow/core/platform/cpu_feature_guard.cc:142] This TensorFlow binary is optimized with oneAPI Deep Neural Network Library (oneDNN) to use the following CPU instructions in performance-critical operations:  AVX2 AVX512F FMA\n",
      "To enable them in other operations, rebuild TensorFlow with the appropriate compiler flags.\n",
      "2022-04-10 04:33:06.883780: I tensorflow/stream_executor/cuda/cuda_gpu_executor.cc:937] successful NUMA node read from SysFS had negative value (-1), but there must be at least one NUMA node, so returning NUMA node zero\n",
      "2022-04-10 04:33:06.884979: I tensorflow/stream_executor/cuda/cuda_gpu_executor.cc:937] successful NUMA node read from SysFS had negative value (-1), but there must be at least one NUMA node, so returning NUMA node zero\n",
      "2022-04-10 04:33:06.885960: I tensorflow/stream_executor/cuda/cuda_gpu_executor.cc:937] successful NUMA node read from SysFS had negative value (-1), but there must be at least one NUMA node, so returning NUMA node zero\n",
      "2022-04-10 04:33:08.978605: I tensorflow/stream_executor/cuda/cuda_gpu_executor.cc:937] successful NUMA node read from SysFS had negative value (-1), but there must be at least one NUMA node, so returning NUMA node zero\n",
      "2022-04-10 04:33:08.979612: I tensorflow/stream_executor/cuda/cuda_gpu_executor.cc:937] successful NUMA node read from SysFS had negative value (-1), but there must be at least one NUMA node, so returning NUMA node zero\n",
      "2022-04-10 04:33:08.980374: I tensorflow/stream_executor/cuda/cuda_gpu_executor.cc:937] successful NUMA node read from SysFS had negative value (-1), but there must be at least one NUMA node, so returning NUMA node zero\n",
      "2022-04-10 04:33:08.981070: I tensorflow/core/common_runtime/gpu/gpu_device.cc:1510] Created device /job:localhost/replica:0/task:0/device:GPU:0 with 15403 MB memory:  -> device: 0, name: Tesla P100-PCIE-16GB, pci bus id: 0000:00:04.0, compute capability: 6.0\n"
     ]
    }
   ],
   "source": [
    "# Create text vectorizer\n",
    "from tensorflow.keras.layers.experimental.preprocessing import TextVectorization\n",
    "\n",
    "text_vectorizer = TextVectorization(max_tokens=max_tokens, # number of words in vocabulary\n",
    "                                output_sequence_length=max_token_length)  # desired output length of vectorized sequences"
   ]
  },
  {
   "cell_type": "code",
   "execution_count": 29,
   "id": "9efa5254",
   "metadata": {
    "execution": {
     "iopub.execute_input": "2022-04-10T04:33:09.547545Z",
     "iopub.status.busy": "2022-04-10T04:33:09.546725Z",
     "iopub.status.idle": "2022-04-10T04:33:25.044119Z",
     "shell.execute_reply": "2022-04-10T04:33:25.044623Z"
    },
    "papermill": {
     "duration": 15.609123,
     "end_time": "2022-04-10T04:33:25.044806",
     "exception": false,
     "start_time": "2022-04-10T04:33:09.435683",
     "status": "completed"
    },
    "tags": []
   },
   "outputs": [
    {
     "name": "stderr",
     "output_type": "stream",
     "text": [
      "2022-04-10 04:33:11.751278: I tensorflow/compiler/mlir/mlir_graph_optimization_pass.cc:185] None of the MLIR Optimization Passes are enabled (registered 2)\n"
     ]
    }
   ],
   "source": [
    "# Adapt text vectorizer to training sentences\n",
    "text_vectorizer.adapt(train_sentences)"
   ]
  },
  {
   "cell_type": "code",
   "execution_count": 30,
   "id": "cb7546b1",
   "metadata": {
    "execution": {
     "iopub.execute_input": "2022-04-10T04:33:25.262123Z",
     "iopub.status.busy": "2022-04-10T04:33:25.261374Z",
     "iopub.status.idle": "2022-04-10T04:33:25.320417Z",
     "shell.execute_reply": "2022-04-10T04:33:25.321022Z"
    },
    "papermill": {
     "duration": 0.169843,
     "end_time": "2022-04-10T04:33:25.321215",
     "exception": false,
     "start_time": "2022-04-10T04:33:25.151372",
     "status": "completed"
    },
    "tags": []
   },
   "outputs": [
    {
     "name": "stdout",
     "output_type": "stream",
     "text": [
      "Text:\n",
      " cross-sectional study .\n",
      "\n",
      "Length of text: 3\n",
      "\n",
      "Vectorized text:\n",
      " [[1804   17    0    0    0    0    0    0    0    0    0    0    0    0\n",
      "     0    0    0    0    0    0    0    0    0    0    0    0    0    0\n",
      "     0    0    0    0    0    0    0    0    0    0    0    0    0    0\n",
      "     0    0    0    0    0    0    0    0    0    0    0    0    0]]\n"
     ]
    }
   ],
   "source": [
    "# Test out text vectorizer\n",
    "import random\n",
    "target_sentence = random.choice(train_sentences)\n",
    "print(f\"Text:\\n {target_sentence}\")\n",
    "print(f\"\\nLength of text: {len(target_sentence.split())}\")\n",
    "print(f\"\\nVectorized text:\\n {text_vectorizer([target_sentence])}\")"
   ]
  },
  {
   "cell_type": "code",
   "execution_count": 31,
   "id": "32994f3f",
   "metadata": {
    "execution": {
     "iopub.execute_input": "2022-04-10T04:33:25.541014Z",
     "iopub.status.busy": "2022-04-10T04:33:25.540018Z",
     "iopub.status.idle": "2022-04-10T04:33:25.748709Z",
     "shell.execute_reply": "2022-04-10T04:33:25.748200Z"
    },
    "papermill": {
     "duration": 0.31948,
     "end_time": "2022-04-10T04:33:25.748843",
     "exception": false,
     "start_time": "2022-04-10T04:33:25.429363",
     "status": "completed"
    },
    "tags": []
   },
   "outputs": [
    {
     "name": "stdout",
     "output_type": "stream",
     "text": [
      "Number of words in vocabulary: 64841\n",
      "Most common words in the vocabulary: ['', '[UNK]', 'the', 'and', 'of']\n",
      "Least common words in the vocabulary: ['aainduced', 'aaigroup', 'aachener', 'aachen', 'aaacp']\n"
     ]
    }
   ],
   "source": [
    "# How many words in our training vocabulary?\n",
    "rct_20k_text_vocab = text_vectorizer.get_vocabulary()\n",
    "print(f\"Number of words in vocabulary: {len(rct_20k_text_vocab)}\"), \n",
    "print(f\"Most common words in the vocabulary: {rct_20k_text_vocab[:5]}\")\n",
    "print(f\"Least common words in the vocabulary: {rct_20k_text_vocab[-5:]}\")"
   ]
  },
  {
   "cell_type": "markdown",
   "id": "d5741e20",
   "metadata": {
    "papermill": {
     "duration": 0.106315,
     "end_time": "2022-04-10T04:33:25.963448",
     "exception": false,
     "start_time": "2022-04-10T04:33:25.857133",
     "status": "completed"
    },
    "tags": []
   },
   "source": [
    "## Create custom text embedding"
   ]
  },
  {
   "cell_type": "code",
   "execution_count": 32,
   "id": "a5094aa5",
   "metadata": {
    "execution": {
     "iopub.execute_input": "2022-04-10T04:33:26.266415Z",
     "iopub.status.busy": "2022-04-10T04:33:26.265520Z",
     "iopub.status.idle": "2022-04-10T04:33:26.303733Z",
     "shell.execute_reply": "2022-04-10T04:33:26.304543Z"
    },
    "papermill": {
     "duration": 0.232648,
     "end_time": "2022-04-10T04:33:26.304754",
     "exception": false,
     "start_time": "2022-04-10T04:33:26.072106",
     "status": "completed"
    },
    "tags": []
   },
   "outputs": [
    {
     "name": "stdout",
     "output_type": "stream",
     "text": [
      "Sentence before vectorization:\n",
      "cross-sectional study .\n",
      "\n",
      "Sentence after vectorization (before embedding):\n",
      "[[1804   17    0    0    0    0    0    0    0    0    0    0    0    0\n",
      "     0    0    0    0    0    0    0    0    0    0    0    0    0    0\n",
      "     0    0    0    0    0    0    0    0    0    0    0    0    0    0\n",
      "     0    0    0    0    0    0    0    0    0    0    0    0    0]]\n",
      "\n",
      "Sentence after embedding:\n",
      "[[[-0.03909416  0.02657211  0.04773784 ...  0.04362703 -0.01149116\n",
      "    0.02404248]\n",
      "  [-0.03220256  0.01344572  0.04529491 ...  0.0429869  -0.03963304\n",
      "   -0.00531738]\n",
      "  [-0.00032208  0.02481908 -0.03856493 ... -0.00766939  0.02722286\n",
      "    0.02499733]\n",
      "  ...\n",
      "  [-0.00032208  0.02481908 -0.03856493 ... -0.00766939  0.02722286\n",
      "    0.02499733]\n",
      "  [-0.00032208  0.02481908 -0.03856493 ... -0.00766939  0.02722286\n",
      "    0.02499733]\n",
      "  [-0.00032208  0.02481908 -0.03856493 ... -0.00766939  0.02722286\n",
      "    0.02499733]]]\n",
      "\n",
      "Embedded sentence shape: (1, 55, 256)\n"
     ]
    }
   ],
   "source": [
    "# Create token embedding layer\n",
    "token_embed = layers.Embedding(input_dim=len(rct_20k_text_vocab),# length of vocabulary\n",
    "                              output_dim=256,\n",
    "                              mask_zero=True, # Use masking to handle variable sequence lengths (save space)\n",
    "                              name=\"token_embedding\")\n",
    "\n",
    "# Show example embedding\n",
    "print(f\"Sentence before vectorization:\\n{target_sentence}\\n\")\n",
    "vectorized_sentence = text_vectorizer([target_sentence])\n",
    "print(f\"Sentence after vectorization (before embedding):\\n{vectorized_sentence}\\n\")\n",
    "embedded_sentence = token_embed(vectorized_sentence)\n",
    "print(f\"Sentence after embedding:\\n{embedded_sentence}\\n\")\n",
    "print(f\"Embedded sentence shape: {embedded_sentence.shape}\")"
   ]
  },
  {
   "cell_type": "markdown",
   "id": "3c26b632",
   "metadata": {
    "papermill": {
     "duration": 0.176641,
     "end_time": "2022-04-10T04:33:26.655801",
     "exception": false,
     "start_time": "2022-04-10T04:33:26.479160",
     "status": "completed"
    },
    "tags": []
   },
   "source": [
    "## Create datasets "
   ]
  },
  {
   "cell_type": "code",
   "execution_count": 33,
   "id": "0240bc76",
   "metadata": {
    "execution": {
     "iopub.execute_input": "2022-04-10T04:33:26.947311Z",
     "iopub.status.busy": "2022-04-10T04:33:26.937284Z",
     "iopub.status.idle": "2022-04-10T04:33:28.029383Z",
     "shell.execute_reply": "2022-04-10T04:33:28.029805Z"
    },
    "papermill": {
     "duration": 1.234723,
     "end_time": "2022-04-10T04:33:28.029978",
     "exception": false,
     "start_time": "2022-04-10T04:33:26.795255",
     "status": "completed"
    },
    "tags": []
   },
   "outputs": [
    {
     "data": {
      "text/plain": [
       "<TensorSliceDataset shapes: ((), (5,)), types: (tf.string, tf.float64)>"
      ]
     },
     "execution_count": 33,
     "metadata": {},
     "output_type": "execute_result"
    }
   ],
   "source": [
    "# Turn our data into TensorFlow Datasets\n",
    "train_dataset = tf.data.Dataset.from_tensor_slices((train_sentences,train_labels_one_hot))\n",
    "valid_dataset = tf.data.Dataset.from_tensor_slices((val_sentences,val_labels_one_hot))\n",
    "test_dataset = tf.data.Dataset.from_tensor_slices((test_sentences,test_labels_one_hot))\n",
    "\n",
    "train_dataset"
   ]
  },
  {
   "cell_type": "code",
   "execution_count": 34,
   "id": "c07da505",
   "metadata": {
    "execution": {
     "iopub.execute_input": "2022-04-10T04:33:28.255240Z",
     "iopub.status.busy": "2022-04-10T04:33:28.254320Z",
     "iopub.status.idle": "2022-04-10T04:33:28.261958Z",
     "shell.execute_reply": "2022-04-10T04:33:28.262470Z"
    },
    "papermill": {
     "duration": 0.122807,
     "end_time": "2022-04-10T04:33:28.262640",
     "exception": false,
     "start_time": "2022-04-10T04:33:28.139833",
     "status": "completed"
    },
    "tags": []
   },
   "outputs": [
    {
     "data": {
      "text/plain": [
       "<PrefetchDataset shapes: ((None,), (None, 5)), types: (tf.string, tf.float64)>"
      ]
     },
     "execution_count": 34,
     "metadata": {},
     "output_type": "execute_result"
    }
   ],
   "source": [
    "# Take the TensorSliceDataset's and turn them into prefetched batches\n",
    "train_dataset = train_dataset.batch(32).prefetch(tf.data.AUTOTUNE)\n",
    "valid_dataset = valid_dataset.batch(32).prefetch(tf.data.AUTOTUNE)\n",
    "test_dataset = test_dataset.batch(32).prefetch(tf.data.AUTOTUNE)\n",
    "\n",
    "train_dataset"
   ]
  },
  {
   "cell_type": "markdown",
   "id": "878c7389",
   "metadata": {
    "papermill": {
     "duration": 0.113146,
     "end_time": "2022-04-10T04:33:28.491132",
     "exception": false,
     "start_time": "2022-04-10T04:33:28.377986",
     "status": "completed"
    },
    "tags": []
   },
   "source": [
    "## Model 1: Conv1D with token embeddings"
   ]
  },
  {
   "cell_type": "code",
   "execution_count": 35,
   "id": "67d35142",
   "metadata": {
    "execution": {
     "iopub.execute_input": "2022-04-10T04:33:28.726501Z",
     "iopub.status.busy": "2022-04-10T04:33:28.725549Z",
     "iopub.status.idle": "2022-04-10T04:33:28.797615Z",
     "shell.execute_reply": "2022-04-10T04:33:28.798121Z"
    },
    "papermill": {
     "duration": 0.19588,
     "end_time": "2022-04-10T04:33:28.798311",
     "exception": false,
     "start_time": "2022-04-10T04:33:28.602431",
     "status": "completed"
    },
    "tags": []
   },
   "outputs": [],
   "source": [
    "# Create 1D convolutional model to process sequences\n",
    "inputs = layers.Input(shape=(1,),dtype=tf.string)\n",
    "text_vectors = text_vectorizer(inputs) # vectorize text inputs\n",
    "token_embeddings = token_embed(text_vectors) # create embedding\n",
    "x = layers.Conv1D(64,kernel_size=5,padding=\"same\",activation=\"relu\")(token_embeddings)\n",
    "x=layers.GlobalAveragePooling1D()(x) # condense the output of our feature vector\n",
    "outputs = layers.Dense(num_classes,activation=\"softmax\")(x)\n",
    "model_1 = tf.keras.Model(inputs,outputs)\n",
    "\n",
    "model_1.compile(loss=\"categorical_crossentropy\",\n",
    "               optimizer=tf.keras.optimizers.Adam(),\n",
    "               metrics=['accuracy'])"
   ]
  },
  {
   "cell_type": "code",
   "execution_count": 36,
   "id": "9b5a3aa2",
   "metadata": {
    "execution": {
     "iopub.execute_input": "2022-04-10T04:33:29.035130Z",
     "iopub.status.busy": "2022-04-10T04:33:29.030748Z",
     "iopub.status.idle": "2022-04-10T04:33:29.039357Z",
     "shell.execute_reply": "2022-04-10T04:33:29.039805Z"
    },
    "papermill": {
     "duration": 0.128844,
     "end_time": "2022-04-10T04:33:29.039970",
     "exception": false,
     "start_time": "2022-04-10T04:33:28.911126",
     "status": "completed"
    },
    "tags": []
   },
   "outputs": [
    {
     "name": "stdout",
     "output_type": "stream",
     "text": [
      "Model: \"model\"\n",
      "_________________________________________________________________\n",
      "Layer (type)                 Output Shape              Param #   \n",
      "=================================================================\n",
      "input_1 (InputLayer)         [(None, 1)]               0         \n",
      "_________________________________________________________________\n",
      "text_vectorization (TextVect (None, 55)                0         \n",
      "_________________________________________________________________\n",
      "token_embedding (Embedding)  (None, 55, 256)           16599296  \n",
      "_________________________________________________________________\n",
      "conv1d (Conv1D)              (None, 55, 64)            81984     \n",
      "_________________________________________________________________\n",
      "global_average_pooling1d (Gl (None, 64)                0         \n",
      "_________________________________________________________________\n",
      "dense (Dense)                (None, 5)                 325       \n",
      "=================================================================\n",
      "Total params: 16,681,605\n",
      "Trainable params: 16,681,605\n",
      "Non-trainable params: 0\n",
      "_________________________________________________________________\n"
     ]
    }
   ],
   "source": [
    "model_1.summary()"
   ]
  },
  {
   "cell_type": "code",
   "execution_count": 37,
   "id": "ed0ad52d",
   "metadata": {
    "execution": {
     "iopub.execute_input": "2022-04-10T04:33:29.273345Z",
     "iopub.status.busy": "2022-04-10T04:33:29.272417Z",
     "iopub.status.idle": "2022-04-10T04:34:27.981800Z",
     "shell.execute_reply": "2022-04-10T04:34:27.982457Z"
    },
    "papermill": {
     "duration": 58.82802,
     "end_time": "2022-04-10T04:34:27.982677",
     "exception": false,
     "start_time": "2022-04-10T04:33:29.154657",
     "status": "completed"
    },
    "tags": []
   },
   "outputs": [
    {
     "name": "stdout",
     "output_type": "stream",
     "text": [
      "Epoch 1/5\n"
     ]
    },
    {
     "name": "stderr",
     "output_type": "stream",
     "text": [
      "2022-04-10 04:33:30.746041: I tensorflow/stream_executor/cuda/cuda_dnn.cc:369] Loaded cuDNN version 8005\n"
     ]
    },
    {
     "name": "stdout",
     "output_type": "stream",
     "text": [
      "1125/1125 [==============================] - 17s 9ms/step - loss: 0.7534 - accuracy: 0.7127 - val_loss: 0.6184 - val_accuracy: 0.7745\n",
      "Epoch 2/5\n",
      "1125/1125 [==============================] - 10s 9ms/step - loss: 0.5946 - accuracy: 0.7860 - val_loss: 0.5618 - val_accuracy: 0.7984\n",
      "Epoch 3/5\n",
      "1125/1125 [==============================] - 10s 9ms/step - loss: 0.5784 - accuracy: 0.7936 - val_loss: 0.5364 - val_accuracy: 0.8122\n",
      "Epoch 4/5\n",
      "1125/1125 [==============================] - 10s 9ms/step - loss: 0.5423 - accuracy: 0.8066 - val_loss: 0.5191 - val_accuracy: 0.8160\n",
      "Epoch 5/5\n",
      "1125/1125 [==============================] - 11s 9ms/step - loss: 0.5348 - accuracy: 0.8102 - val_loss: 0.5233 - val_accuracy: 0.8128\n"
     ]
    }
   ],
   "source": [
    "model_1_history = model_1.fit(train_dataset,\n",
    "                              steps_per_epoch = int(0.2*len(train_dataset)),\n",
    "                              epochs=5,\n",
    "                              validation_data=valid_dataset,\n",
    "                              validation_steps=int(0.2*len(valid_dataset)))"
   ]
  },
  {
   "cell_type": "markdown",
   "id": "a7ff3a90",
   "metadata": {
    "papermill": {
     "duration": 0.405611,
     "end_time": "2022-04-10T04:34:28.791746",
     "exception": false,
     "start_time": "2022-04-10T04:34:28.386135",
     "status": "completed"
    },
    "tags": []
   },
   "source": [
    "# "
   ]
  },
  {
   "cell_type": "code",
   "execution_count": 38,
   "id": "d0ca5b74",
   "metadata": {
    "execution": {
     "iopub.execute_input": "2022-04-10T04:34:29.598896Z",
     "iopub.status.busy": "2022-04-10T04:34:29.598108Z",
     "iopub.status.idle": "2022-04-10T04:34:33.000927Z",
     "shell.execute_reply": "2022-04-10T04:34:33.000153Z"
    },
    "papermill": {
     "duration": 3.810035,
     "end_time": "2022-04-10T04:34:33.001128",
     "exception": false,
     "start_time": "2022-04-10T04:34:29.191093",
     "status": "completed"
    },
    "tags": []
   },
   "outputs": [
    {
     "name": "stdout",
     "output_type": "stream",
     "text": [
      "945/945 [==============================] - 3s 4ms/step - loss: 0.5259 - accuracy: 0.8115\n"
     ]
    },
    {
     "data": {
      "text/plain": [
       "[0.5259221196174622, 0.8115318417549133]"
      ]
     },
     "execution_count": 38,
     "metadata": {},
     "output_type": "execute_result"
    }
   ],
   "source": [
    "model_1.evaluate(valid_dataset)"
   ]
  },
  {
   "cell_type": "code",
   "execution_count": 39,
   "id": "f54bf299",
   "metadata": {
    "execution": {
     "iopub.execute_input": "2022-04-10T04:34:33.963650Z",
     "iopub.status.busy": "2022-04-10T04:34:33.962630Z",
     "iopub.status.idle": "2022-04-10T04:34:36.090702Z",
     "shell.execute_reply": "2022-04-10T04:34:36.090211Z"
    },
    "papermill": {
     "duration": 2.612104,
     "end_time": "2022-04-10T04:34:36.090835",
     "exception": false,
     "start_time": "2022-04-10T04:34:33.478731",
     "status": "completed"
    },
    "tags": []
   },
   "outputs": [
    {
     "data": {
      "text/plain": [
       "array([[6.00433111e-01, 1.03541240e-01, 1.02579273e-01, 1.35141313e-01,\n",
       "        5.83051071e-02],\n",
       "       [5.26033521e-01, 2.34607905e-01, 9.66538675e-03, 1.96233839e-01,\n",
       "        3.34593393e-02],\n",
       "       [1.96956128e-01, 6.13258313e-03, 1.22834742e-03, 7.95577943e-01,\n",
       "        1.04948595e-04],\n",
       "       ...,\n",
       "       [4.41230986e-06, 9.38473240e-05, 1.59935630e-03, 2.66201278e-06,\n",
       "        9.98299778e-01],\n",
       "       [9.65190753e-02, 5.01907885e-01, 1.15364216e-01, 6.60418198e-02,\n",
       "        2.20167071e-01],\n",
       "       [2.73273345e-02, 9.48846400e-01, 1.84927378e-02, 7.14276277e-04,\n",
       "        4.61920816e-03]], dtype=float32)"
      ]
     },
     "execution_count": 39,
     "metadata": {},
     "output_type": "execute_result"
    }
   ],
   "source": [
    "model_1_pred_probs = model_1.predict(valid_dataset)\n",
    "model_1_pred_probs"
   ]
  },
  {
   "cell_type": "code",
   "execution_count": 40,
   "id": "39e6a5ad",
   "metadata": {
    "execution": {
     "iopub.execute_input": "2022-04-10T04:34:36.941729Z",
     "iopub.status.busy": "2022-04-10T04:34:36.940744Z",
     "iopub.status.idle": "2022-04-10T04:34:36.945717Z",
     "shell.execute_reply": "2022-04-10T04:34:36.946118Z"
    },
    "papermill": {
     "duration": 0.433664,
     "end_time": "2022-04-10T04:34:36.946280",
     "exception": false,
     "start_time": "2022-04-10T04:34:36.512616",
     "status": "completed"
    },
    "tags": []
   },
   "outputs": [
    {
     "data": {
      "text/plain": [
       "<tf.Tensor: shape=(30212,), dtype=int64, numpy=array([0, 0, 3, ..., 4, 1, 1])>"
      ]
     },
     "execution_count": 40,
     "metadata": {},
     "output_type": "execute_result"
    }
   ],
   "source": [
    "model_1_preds = tf.argmax(model_1_pred_probs, axis=1)\n",
    "model_1_preds"
   ]
  },
  {
   "cell_type": "code",
   "execution_count": 41,
   "id": "0b8ace7e",
   "metadata": {
    "execution": {
     "iopub.execute_input": "2022-04-10T04:34:37.810853Z",
     "iopub.status.busy": "2022-04-10T04:34:37.809910Z",
     "iopub.status.idle": "2022-04-10T04:34:37.826238Z",
     "shell.execute_reply": "2022-04-10T04:34:37.826713Z"
    },
    "papermill": {
     "duration": 0.451907,
     "end_time": "2022-04-10T04:34:37.826862",
     "exception": false,
     "start_time": "2022-04-10T04:34:37.374955",
     "status": "completed"
    },
    "tags": []
   },
   "outputs": [
    {
     "data": {
      "text/plain": [
       "{'accuracy': 81.15318416523236,\n",
       " 'precision': 0.8089883584468552,\n",
       " 'recall': 0.8115318416523236,\n",
       " 'f1-score': 0.8076385532280271}"
      ]
     },
     "execution_count": 41,
     "metadata": {},
     "output_type": "execute_result"
    }
   ],
   "source": [
    "model_1_results = calculate_results(y_true=val_labels_encoded,\n",
    "                                    y_pred=model_1_preds)\n",
    "model_1_results"
   ]
  },
  {
   "cell_type": "markdown",
   "id": "c3fbd22e",
   "metadata": {
    "papermill": {
     "duration": 0.433276,
     "end_time": "2022-04-10T04:34:38.680848",
     "exception": false,
     "start_time": "2022-04-10T04:34:38.247572",
     "status": "completed"
    },
    "tags": []
   },
   "source": [
    "## Model 2: Feature extraction with pretrained token embeddings"
   ]
  },
  {
   "cell_type": "code",
   "execution_count": 42,
   "id": "c1ff55d1",
   "metadata": {
    "execution": {
     "iopub.execute_input": "2022-04-10T04:34:39.551579Z",
     "iopub.status.busy": "2022-04-10T04:34:39.550825Z",
     "iopub.status.idle": "2022-04-10T04:34:56.964318Z",
     "shell.execute_reply": "2022-04-10T04:34:56.963432Z"
    },
    "papermill": {
     "duration": 17.84991,
     "end_time": "2022-04-10T04:34:56.964482",
     "exception": false,
     "start_time": "2022-04-10T04:34:39.114572",
     "status": "completed"
    },
    "tags": []
   },
   "outputs": [],
   "source": [
    "# Download pretrained TensorFlow Hub USE\n",
    "import tensorflow_hub as hub\n",
    "tf_hub_embedding_layer = hub.KerasLayer(\"https://tfhub.dev/google/universal-sentence-encoder/4\",\n",
    "                                       trainable=False,\n",
    "                                       name=\"universal_sentence_encoder\")"
   ]
  },
  {
   "cell_type": "code",
   "execution_count": 43,
   "id": "41dc0715",
   "metadata": {
    "execution": {
     "iopub.execute_input": "2022-04-10T04:34:57.849740Z",
     "iopub.status.busy": "2022-04-10T04:34:57.848864Z",
     "iopub.status.idle": "2022-04-10T04:34:58.212249Z",
     "shell.execute_reply": "2022-04-10T04:34:58.212857Z"
    },
    "papermill": {
     "duration": 0.795519,
     "end_time": "2022-04-10T04:34:58.213019",
     "exception": false,
     "start_time": "2022-04-10T04:34:57.417500",
     "status": "completed"
    },
    "tags": []
   },
   "outputs": [
    {
     "name": "stdout",
     "output_type": "stream",
     "text": [
      "Sentence before vectorization:\n",
      "a time-dependent receiver-operating characteristic ( roc ) curve analysis was subsequently utilised to evaluate the best cut-off for ttc , identifying @ weeks as the best threshold for longer os ( p = @ ) : @-year os @ % ( @ % ci @-@ ) for patients with a ttc < @ weeks and @ % ( @ % ci @-@ ) for the other group .\n",
      "\n",
      "Sentence after embedding:\n",
      "[-0.06652591 -0.06888856 -0.03254263 -0.01828805 -0.06178    -0.06733356\n",
      " -0.0293075  -0.06624928  0.05186497  0.03706954  0.03502547 -0.07918306\n",
      "  0.01056911  0.00542757 -0.0446127   0.03968067 -0.05555139  0.06204312\n",
      "  0.05555771  0.02599577 -0.02324497  0.00527467 -0.05932018 -0.02834898\n",
      "  0.06285089  0.04880187 -0.07793096 -0.03933313 -0.03540422 -0.02740093]\n",
      "\n",
      "Embedded sentence shape: (1, 512)\n"
     ]
    }
   ],
   "source": [
    "target_sentence = random.choice(train_sentences)\n",
    "print(f\"Sentence before vectorization:\\n{target_sentence}\\n\")\n",
    "embedded_sentence = tf_hub_embedding_layer([target_sentence])\n",
    "print(f\"Sentence after embedding:\\n{embedded_sentence[0][:30]}\\n\")\n",
    "print(f\"Embedded sentence shape: {embedded_sentence.shape}\")"
   ]
  },
  {
   "cell_type": "code",
   "execution_count": 44,
   "id": "17265b7e",
   "metadata": {
    "execution": {
     "iopub.execute_input": "2022-04-10T04:34:59.081841Z",
     "iopub.status.busy": "2022-04-10T04:34:59.080891Z",
     "iopub.status.idle": "2022-04-10T04:34:59.625735Z",
     "shell.execute_reply": "2022-04-10T04:34:59.624827Z"
    },
    "papermill": {
     "duration": 0.980829,
     "end_time": "2022-04-10T04:34:59.625878",
     "exception": false,
     "start_time": "2022-04-10T04:34:58.645049",
     "status": "completed"
    },
    "tags": []
   },
   "outputs": [],
   "source": [
    "inputs = layers.Input(shape=[],dtype=tf.string)\n",
    "pretrained_embedding = tf_hub_embedding_layer(inputs) # tokenize text and create embedding\n",
    "x = layers.Dense(1024,activation='relu')(pretrained_embedding)\n",
    "x = layers.Dense(1024,activation='relu')(x)\n",
    "outputs = layers.Dense(5,activation=\"softmax\")(x)\n",
    "model_2 = tf.keras.Model(inputs=inputs,\n",
    "                        outputs=outputs)\n",
    "\n",
    "model_2.compile(loss=\"categorical_crossentropy\",\n",
    "               optimizer=tf.keras.optimizers.Adam(),\n",
    "               metrics=['accuracy'])"
   ]
  },
  {
   "cell_type": "code",
   "execution_count": 45,
   "id": "5852634c",
   "metadata": {
    "execution": {
     "iopub.execute_input": "2022-04-10T04:35:00.509929Z",
     "iopub.status.busy": "2022-04-10T04:35:00.509323Z",
     "iopub.status.idle": "2022-04-10T04:35:00.514114Z",
     "shell.execute_reply": "2022-04-10T04:35:00.513658Z"
    },
    "papermill": {
     "duration": 0.462058,
     "end_time": "2022-04-10T04:35:00.514232",
     "exception": false,
     "start_time": "2022-04-10T04:35:00.052174",
     "status": "completed"
    },
    "tags": []
   },
   "outputs": [
    {
     "name": "stdout",
     "output_type": "stream",
     "text": [
      "Model: \"model_1\"\n",
      "_________________________________________________________________\n",
      "Layer (type)                 Output Shape              Param #   \n",
      "=================================================================\n",
      "input_2 (InputLayer)         [(None,)]                 0         \n",
      "_________________________________________________________________\n",
      "universal_sentence_encoder ( (None, 512)               256797824 \n",
      "_________________________________________________________________\n",
      "dense_1 (Dense)              (None, 1024)              525312    \n",
      "_________________________________________________________________\n",
      "dense_2 (Dense)              (None, 1024)              1049600   \n",
      "_________________________________________________________________\n",
      "dense_3 (Dense)              (None, 5)                 5125      \n",
      "=================================================================\n",
      "Total params: 258,377,861\n",
      "Trainable params: 1,580,037\n",
      "Non-trainable params: 256,797,824\n",
      "_________________________________________________________________\n"
     ]
    }
   ],
   "source": [
    "model_2.summary()"
   ]
  },
  {
   "cell_type": "code",
   "execution_count": 46,
   "id": "e95f1a54",
   "metadata": {
    "execution": {
     "iopub.execute_input": "2022-04-10T04:35:01.442746Z",
     "iopub.status.busy": "2022-04-10T04:35:01.439468Z",
     "iopub.status.idle": "2022-04-10T04:36:32.710572Z",
     "shell.execute_reply": "2022-04-10T04:36:32.710042Z"
    },
    "papermill": {
     "duration": 91.703829,
     "end_time": "2022-04-10T04:36:32.710749",
     "exception": false,
     "start_time": "2022-04-10T04:35:01.006920",
     "status": "completed"
    },
    "tags": []
   },
   "outputs": [
    {
     "name": "stdout",
     "output_type": "stream",
     "text": [
      "Epoch 1/5\n",
      "1125/1125 [==============================] - 20s 16ms/step - loss: 0.7577 - accuracy: 0.7076 - val_loss: 0.6686 - val_accuracy: 0.7411\n",
      "Epoch 2/5\n",
      "1125/1125 [==============================] - 18s 16ms/step - loss: 0.6628 - accuracy: 0.7451 - val_loss: 0.6369 - val_accuracy: 0.7576\n",
      "Epoch 3/5\n",
      "1125/1125 [==============================] - 17s 15ms/step - loss: 0.6542 - accuracy: 0.7499 - val_loss: 0.6117 - val_accuracy: 0.7760\n",
      "Epoch 4/5\n",
      "1125/1125 [==============================] - 19s 17ms/step - loss: 0.6216 - accuracy: 0.7648 - val_loss: 0.6046 - val_accuracy: 0.7713\n",
      "Epoch 5/5\n",
      "1125/1125 [==============================] - 18s 16ms/step - loss: 0.6142 - accuracy: 0.7641 - val_loss: 0.5999 - val_accuracy: 0.7740\n"
     ]
    },
    {
     "data": {
      "text/plain": [
       "<keras.callbacks.History at 0x7fa7004457d0>"
      ]
     },
     "execution_count": 46,
     "metadata": {},
     "output_type": "execute_result"
    }
   ],
   "source": [
    "model_2.fit(train_dataset,\n",
    "           steps_per_epoch=int(0.2*len(train_dataset)),\n",
    "           epochs=5,\n",
    "           validation_data=valid_dataset,\n",
    "           validation_steps=int(0.2 * len(valid_dataset)))"
   ]
  },
  {
   "cell_type": "code",
   "execution_count": 47,
   "id": "8657e38b",
   "metadata": {
    "execution": {
     "iopub.execute_input": "2022-04-10T04:36:34.765106Z",
     "iopub.status.busy": "2022-04-10T04:36:34.764241Z",
     "iopub.status.idle": "2022-04-10T04:36:46.652575Z",
     "shell.execute_reply": "2022-04-10T04:36:46.653023Z"
    },
    "papermill": {
     "duration": 12.785349,
     "end_time": "2022-04-10T04:36:46.653184",
     "exception": false,
     "start_time": "2022-04-10T04:36:33.867835",
     "status": "completed"
    },
    "tags": []
   },
   "outputs": [
    {
     "name": "stdout",
     "output_type": "stream",
     "text": [
      "945/945 [==============================] - 12s 13ms/step - loss: 0.6019 - accuracy: 0.7721\n"
     ]
    },
    {
     "data": {
      "text/plain": [
       "[0.6018733978271484, 0.7721104025840759]"
      ]
     },
     "execution_count": 47,
     "metadata": {},
     "output_type": "execute_result"
    }
   ],
   "source": [
    "model_2.evaluate(valid_dataset)"
   ]
  },
  {
   "cell_type": "code",
   "execution_count": 48,
   "id": "16e5b141",
   "metadata": {
    "execution": {
     "iopub.execute_input": "2022-04-10T04:36:48.591069Z",
     "iopub.status.busy": "2022-04-10T04:36:48.589991Z",
     "iopub.status.idle": "2022-04-10T04:36:59.204339Z",
     "shell.execute_reply": "2022-04-10T04:36:59.203680Z"
    },
    "papermill": {
     "duration": 11.591263,
     "end_time": "2022-04-10T04:36:59.204493",
     "exception": false,
     "start_time": "2022-04-10T04:36:47.613230",
     "status": "completed"
    },
    "tags": []
   },
   "outputs": [
    {
     "data": {
      "text/plain": [
       "array([[4.1212553e-01, 4.5386446e-01, 4.2924532e-04, 1.2867634e-01,\n",
       "        4.9043428e-03],\n",
       "       [5.1843524e-01, 3.1472987e-01, 2.7716102e-04, 1.6529354e-01,\n",
       "        1.2641422e-03],\n",
       "       [3.7529051e-01, 1.2138572e-02, 3.4420904e-02, 5.7007337e-01,\n",
       "        8.0766855e-03],\n",
       "       ...,\n",
       "       [1.1901461e-04, 1.3625633e-03, 1.2731204e-02, 2.7070038e-05,\n",
       "        9.8576015e-01],\n",
       "       [8.9727687e-03, 1.4339100e-01, 4.4072177e-02, 2.4280238e-03,\n",
       "        8.0113602e-01],\n",
       "       [1.1436114e-03, 9.9884832e-01, 6.2482814e-06, 3.5816139e-08,\n",
       "        1.7485066e-06]], dtype=float32)"
      ]
     },
     "execution_count": 48,
     "metadata": {},
     "output_type": "execute_result"
    }
   ],
   "source": [
    "model_2_pred_probs = model_2.predict(valid_dataset)\n",
    "model_2_pred_probs"
   ]
  },
  {
   "cell_type": "code",
   "execution_count": 49,
   "id": "39ab6419",
   "metadata": {
    "execution": {
     "iopub.execute_input": "2022-04-10T04:37:01.204989Z",
     "iopub.status.busy": "2022-04-10T04:37:01.204041Z",
     "iopub.status.idle": "2022-04-10T04:37:01.208592Z",
     "shell.execute_reply": "2022-04-10T04:37:01.208141Z"
    },
    "papermill": {
     "duration": 0.964353,
     "end_time": "2022-04-10T04:37:01.208717",
     "exception": false,
     "start_time": "2022-04-10T04:37:00.244364",
     "status": "completed"
    },
    "tags": []
   },
   "outputs": [
    {
     "data": {
      "text/plain": [
       "<tf.Tensor: shape=(30212,), dtype=int64, numpy=array([1, 0, 3, ..., 4, 4, 1])>"
      ]
     },
     "execution_count": 49,
     "metadata": {},
     "output_type": "execute_result"
    }
   ],
   "source": [
    "model_2_preds = tf.argmax(model_2_pred_probs,axis=1)\n",
    "model_2_preds"
   ]
  },
  {
   "cell_type": "code",
   "execution_count": 50,
   "id": "4d6b7e95",
   "metadata": {
    "execution": {
     "iopub.execute_input": "2022-04-10T04:37:03.796314Z",
     "iopub.status.busy": "2022-04-10T04:37:03.795319Z",
     "iopub.status.idle": "2022-04-10T04:37:03.812588Z",
     "shell.execute_reply": "2022-04-10T04:37:03.813107Z"
    },
    "papermill": {
     "duration": 1.586908,
     "end_time": "2022-04-10T04:37:03.813352",
     "exception": false,
     "start_time": "2022-04-10T04:37:02.226444",
     "status": "completed"
    },
    "tags": []
   },
   "outputs": [
    {
     "data": {
      "text/plain": [
       "{'accuracy': 77.21104197007811,\n",
       " 'precision': 0.7680778186617097,\n",
       " 'recall': 0.7721104197007811,\n",
       " 'f1-score': 0.7681908910189578}"
      ]
     },
     "execution_count": 50,
     "metadata": {},
     "output_type": "execute_result"
    }
   ],
   "source": [
    "model_2_results = calculate_results(y_true=val_labels_encoded,\n",
    "                                    y_pred=model_2_preds)\n",
    "model_2_results"
   ]
  },
  {
   "cell_type": "markdown",
   "id": "cac0dd28",
   "metadata": {
    "papermill": {
     "duration": 0.961094,
     "end_time": "2022-04-10T04:37:05.746962",
     "exception": false,
     "start_time": "2022-04-10T04:37:04.785868",
     "status": "completed"
    },
    "tags": []
   },
   "source": [
    "## Model 3: Conv1D with character embeddings\n",
    "\n",
    "### Creating a character-level tokenizer"
   ]
  },
  {
   "cell_type": "code",
   "execution_count": 51,
   "id": "b31a8e8b",
   "metadata": {
    "execution": {
     "iopub.execute_input": "2022-04-10T04:37:07.958956Z",
     "iopub.status.busy": "2022-04-10T04:37:07.957258Z",
     "iopub.status.idle": "2022-04-10T04:37:07.961193Z",
     "shell.execute_reply": "2022-04-10T04:37:07.960744Z"
    },
    "papermill": {
     "duration": 0.970782,
     "end_time": "2022-04-10T04:37:07.961341",
     "exception": false,
     "start_time": "2022-04-10T04:37:06.990559",
     "status": "completed"
    },
    "tags": []
   },
   "outputs": [
    {
     "data": {
      "text/plain": [
       "'a   t i m e - d e p e n d e n t   r e c e i v e r - o p e r a t i n g   c h a r a c t e r i s t i c   (   r o c   )   c u r v e   a n a l y s i s   w a s   s u b s e q u e n t l y   u t i l i s e d   t o   e v a l u a t e   t h e   b e s t   c u t - o f f   f o r   t t c   ,   i d e n t i f y i n g   @   w e e k s   a s   t h e   b e s t   t h r e s h o l d   f o r   l o n g e r   o s   (   p   =   @   )   :   @ - y e a r   o s   @   %   (   @   %   c i   @ - @   )   f o r   p a t i e n t s   w i t h   a   t t c   <   @   w e e k s   a n d   @   %   (   @   %   c i   @ - @   )   f o r   t h e   o t h e r   g r o u p   .'"
      ]
     },
     "execution_count": 51,
     "metadata": {},
     "output_type": "execute_result"
    }
   ],
   "source": [
    "# Make function to split sentences into characters\n",
    "def split_chars(text):\n",
    "    return \" \".join(list(text))\n",
    "\n",
    "split_chars(target_sentence)"
   ]
  },
  {
   "cell_type": "code",
   "execution_count": 52,
   "id": "f8b3dc0b",
   "metadata": {
    "execution": {
     "iopub.execute_input": "2022-04-10T04:37:09.931848Z",
     "iopub.status.busy": "2022-04-10T04:37:09.927372Z",
     "iopub.status.idle": "2022-04-10T04:37:11.326973Z",
     "shell.execute_reply": "2022-04-10T04:37:11.327536Z"
    },
    "papermill": {
     "duration": 2.409162,
     "end_time": "2022-04-10T04:37:11.327729",
     "exception": false,
     "start_time": "2022-04-10T04:37:08.918567",
     "status": "completed"
    },
    "tags": []
   },
   "outputs": [
    {
     "name": "stdout",
     "output_type": "stream",
     "text": [
      "t o   i n v e s t i g a t e   t h e   e f f i c a c y   o f   @   w e e k s   o f   d a i l y   l o w - d o s e   o r a l   p r e d n i s o l o n e   i n   i m p r o v i n g   p a i n   ,   m o b i l i t y   ,   a n d   s y s t e m i c   l o w - g r a d e   i n f l a m m a t i o n   i n   t h e   s h o r t   t e r m   a n d   w h e t h e r   t h e   e f f e c t   w o u l d   b e   s u s t a i n e d   a t   @   w e e k s   i n   o l d e r   a d u l t s   w i t h   m o d e r a t e   t o   s e v e r e   k n e e   o s t e o a r t h r i t i s   (   o a   )   .\n"
     ]
    }
   ],
   "source": [
    "# Split sequence-level data splits into character-level data splits\n",
    "train_chars = [split_chars(sentence) for sentence in train_sentences]\n",
    "valid_chars = [split_chars(sentence) for sentence in val_sentences]\n",
    "test_chars = [split_chars(sentence) for sentence in test_sentences]\n",
    "print(train_chars[0])"
   ]
  },
  {
   "cell_type": "code",
   "execution_count": 53,
   "id": "31806ac7",
   "metadata": {
    "execution": {
     "iopub.execute_input": "2022-04-10T04:37:13.293338Z",
     "iopub.status.busy": "2022-04-10T04:37:13.281970Z",
     "iopub.status.idle": "2022-04-10T04:37:13.335084Z",
     "shell.execute_reply": "2022-04-10T04:37:13.335527Z"
    },
    "papermill": {
     "duration": 1.013167,
     "end_time": "2022-04-10T04:37:13.335680",
     "exception": false,
     "start_time": "2022-04-10T04:37:12.322513",
     "status": "completed"
    },
    "tags": []
   },
   "outputs": [
    {
     "data": {
      "text/plain": [
       "149.3662574983337"
      ]
     },
     "execution_count": 53,
     "metadata": {},
     "output_type": "execute_result"
    }
   ],
   "source": [
    "# What's the average character length?\n",
    "char_lens = [len(sentence) for sentence in train_sentences]\n",
    "mean_char_len = np.mean(char_lens)\n",
    "mean_char_len"
   ]
  },
  {
   "cell_type": "code",
   "execution_count": 54,
   "id": "6e8cd59d",
   "metadata": {
    "execution": {
     "iopub.execute_input": "2022-04-10T04:37:15.351162Z",
     "iopub.status.busy": "2022-04-10T04:37:15.331438Z",
     "iopub.status.idle": "2022-04-10T04:37:16.566555Z",
     "shell.execute_reply": "2022-04-10T04:37:16.567031Z"
    },
    "papermill": {
     "duration": 2.23133,
     "end_time": "2022-04-10T04:37:16.567181",
     "exception": false,
     "start_time": "2022-04-10T04:37:14.335851",
     "status": "completed"
    },
    "tags": []
   },
   "outputs": [
    {
     "data": {
      "image/png": "[encoded data removed]",
      "text/plain": [
       "<Figure size 432x288 with 1 Axes>"
      ]
     },
     "metadata": {
      "needs_background": "light"
     },
     "output_type": "display_data"
    }
   ],
   "source": [
    "# Check the distribution of our sequences at character-level\n",
    "import matplotlib.pyplot as plt\n",
    "plt.hist(char_lens, bins=7);"
   ]
  },
  {
   "cell_type": "code",
   "execution_count": 55,
   "id": "88b0a275",
   "metadata": {
    "execution": {
     "iopub.execute_input": "2022-04-10T04:37:18.753541Z",
     "iopub.status.busy": "2022-04-10T04:37:18.752466Z",
     "iopub.status.idle": "2022-04-10T04:37:18.757872Z",
     "shell.execute_reply": "2022-04-10T04:37:18.757434Z"
    },
    "papermill": {
     "duration": 0.977504,
     "end_time": "2022-04-10T04:37:18.757996",
     "exception": false,
     "start_time": "2022-04-10T04:37:17.780492",
     "status": "completed"
    },
    "tags": []
   },
   "outputs": [
    {
     "data": {
      "text/plain": [
       "290"
      ]
     },
     "execution_count": 55,
     "metadata": {},
     "output_type": "execute_result"
    }
   ],
   "source": [
    "# Find what character length covers 95% of sequences\n",
    "output_seq_char_len = int(np.percentile(char_lens, 95))\n",
    "output_seq_char_len"
   ]
  },
  {
   "cell_type": "code",
   "execution_count": 56,
   "id": "bf7c3491",
   "metadata": {
    "execution": {
     "iopub.execute_input": "2022-04-10T04:37:20.730456Z",
     "iopub.status.busy": "2022-04-10T04:37:20.729419Z",
     "iopub.status.idle": "2022-04-10T04:37:20.733036Z",
     "shell.execute_reply": "2022-04-10T04:37:20.733559Z"
    },
    "papermill": {
     "duration": 0.991574,
     "end_time": "2022-04-10T04:37:20.733726",
     "exception": false,
     "start_time": "2022-04-10T04:37:19.742152",
     "status": "completed"
    },
    "tags": []
   },
   "outputs": [
    {
     "data": {
      "text/plain": [
       "'abcdefghijklmnopqrstuvwxyz0123456789!\"#$%&\\'()*+,-./:;<=>?@[\\\\]^_`{|}~'"
      ]
     },
     "execution_count": 56,
     "metadata": {},
     "output_type": "execute_result"
    }
   ],
   "source": [
    "# Get all keyboard characters for char-level embedding\n",
    "import string\n",
    "alphabet = string.ascii_lowercase + string.digits + string.punctuation\n",
    "alphabet"
   ]
  },
  {
   "cell_type": "code",
   "execution_count": 57,
   "id": "e5d8288b",
   "metadata": {
    "execution": {
     "iopub.execute_input": "2022-04-10T04:37:22.662806Z",
     "iopub.status.busy": "2022-04-10T04:37:22.661954Z",
     "iopub.status.idle": "2022-04-10T04:37:38.900619Z",
     "shell.execute_reply": "2022-04-10T04:37:38.901078Z"
    },
    "papermill": {
     "duration": 17.209831,
     "end_time": "2022-04-10T04:37:38.901243",
     "exception": false,
     "start_time": "2022-04-10T04:37:21.691412",
     "status": "completed"
    },
    "tags": []
   },
   "outputs": [],
   "source": [
    "# Create char-level token vectorizer instance\n",
    "Num_char_tokens = len(alphabet) + 2 # num characters in alphabet + space + OOV token\n",
    "char_vectorizer = TextVectorization(max_tokens=Num_char_tokens,\n",
    "                                output_sequence_length=output_seq_char_len,\n",
    "                                standardize=\"lower_and_strip_punctuation\",\n",
    "                                name=\"char_vectorizer\")\n",
    "\n",
    "# Adapt character vectorizer to training characters\n",
    "char_vectorizer.adapt(train_chars)"
   ]
  },
  {
   "cell_type": "code",
   "execution_count": 58,
   "id": "486f95cd",
   "metadata": {
    "execution": {
     "iopub.execute_input": "2022-04-10T04:37:41.113146Z",
     "iopub.status.busy": "2022-04-10T04:37:41.110894Z",
     "iopub.status.idle": "2022-04-10T04:37:41.116275Z",
     "shell.execute_reply": "2022-04-10T04:37:41.116840Z"
    },
    "papermill": {
     "duration": 0.97206,
     "end_time": "2022-04-10T04:37:41.117005",
     "exception": false,
     "start_time": "2022-04-10T04:37:40.144945",
     "status": "completed"
    },
    "tags": []
   },
   "outputs": [
    {
     "name": "stdout",
     "output_type": "stream",
     "text": [
      "Number of different characters in character vocab : 28\n",
      "5 most common characters: ['', '[UNK]', 'e', 't', 'i']\n",
      "5 most common characters: ['k', 'x', 'z', 'q', 'j']\n"
     ]
    }
   ],
   "source": [
    "# Check character vocabulary characteristics\n",
    "char_vocab = char_vectorizer.get_vocabulary()\n",
    "print(f\"Number of different characters in character vocab : {len(char_vocab)}\")\n",
    "print(f\"5 most common characters: {char_vocab[:5]}\")\n",
    "print(f\"5 most common characters: {char_vocab[-5:]}\")"
   ]
  },
  {
   "cell_type": "code",
   "execution_count": 59,
   "id": "3ba586dd",
   "metadata": {
    "execution": {
     "iopub.execute_input": "2022-04-10T04:37:43.112750Z",
     "iopub.status.busy": "2022-04-10T04:37:43.111961Z",
     "iopub.status.idle": "2022-04-10T04:37:43.123932Z",
     "shell.execute_reply": "2022-04-10T04:37:43.124502Z"
    },
    "papermill": {
     "duration": 1.036497,
     "end_time": "2022-04-10T04:37:43.124668",
     "exception": false,
     "start_time": "2022-04-10T04:37:42.088171",
     "status": "completed"
    },
    "tags": []
   },
   "outputs": [
    {
     "name": "stdout",
     "output_type": "stream",
     "text": [
      "Charified text:\n",
      "s i g n i f i c a n c e   w a s   d e t e r m i n e d   u s i n g   s t u d e n t   ' s   t - t e s t s   .\n",
      "\n",
      "Length of chars: 47\n",
      "\n",
      "Vectorized chars:\n",
      "[[ 9  4 18  6  4 17  4 11  5  6 11  2 20  5  9 10  2  3  2  8 15  4  6  2\n",
      "  10 16  9  4  6 18  9  3 16 10  2  6  3  9  3  3  2  9  3  9  0  0  0  0\n",
      "   0  0  0  0  0  0  0  0  0  0  0  0  0  0  0  0  0  0  0  0  0  0  0  0\n",
      "   0  0  0  0  0  0  0  0  0  0  0  0  0  0  0  0  0  0  0  0  0  0  0  0\n",
      "   0  0  0  0  0  0  0  0  0  0  0  0  0  0  0  0  0  0  0  0  0  0  0  0\n",
      "   0  0  0  0  0  0  0  0  0  0  0  0  0  0  0  0  0  0  0  0  0  0  0  0\n",
      "   0  0  0  0  0  0  0  0  0  0  0  0  0  0  0  0  0  0  0  0  0  0  0  0\n",
      "   0  0  0  0  0  0  0  0  0  0  0  0  0  0  0  0  0  0  0  0  0  0  0  0\n",
      "   0  0  0  0  0  0  0  0  0  0  0  0  0  0  0  0  0  0  0  0  0  0  0  0\n",
      "   0  0  0  0  0  0  0  0  0  0  0  0  0  0  0  0  0  0  0  0  0  0  0  0\n",
      "   0  0  0  0  0  0  0  0  0  0  0  0  0  0  0  0  0  0  0  0  0  0  0  0\n",
      "   0  0  0  0  0  0  0  0  0  0  0  0  0  0  0  0  0  0  0  0  0  0  0  0\n",
      "   0  0]]\n",
      "\n",
      "Length of vectorized chars: 290\n"
     ]
    }
   ],
   "source": [
    "# Test out character vectorizer\n",
    "target_chars = random.choice(train_chars)\n",
    "print(f\"Charified text:\\n{target_chars}\")\n",
    "print(f\"\\nLength of chars: {len(target_chars.split())}\")\n",
    "vectorized_chars = char_vectorizer([target_chars])\n",
    "print(f\"\\nVectorized chars:\\n{vectorized_chars}\")\n",
    "print(f\"\\nLength of vectorized chars: {len(vectorized_chars[0])}\")"
   ]
  },
  {
   "cell_type": "markdown",
   "id": "f617fc3c",
   "metadata": {
    "papermill": {
     "duration": 0.965872,
     "end_time": "2022-04-10T04:37:45.061609",
     "exception": false,
     "start_time": "2022-04-10T04:37:44.095737",
     "status": "completed"
    },
    "tags": []
   },
   "source": [
    "### Creating a character-level embedding"
   ]
  },
  {
   "cell_type": "code",
   "execution_count": 60,
   "id": "f1fa3c02",
   "metadata": {
    "execution": {
     "iopub.execute_input": "2022-04-10T04:37:47.008179Z",
     "iopub.status.busy": "2022-04-10T04:37:47.007194Z",
     "iopub.status.idle": "2022-04-10T04:37:47.019889Z",
     "shell.execute_reply": "2022-04-10T04:37:47.019453Z"
    },
    "papermill": {
     "duration": 0.982707,
     "end_time": "2022-04-10T04:37:47.020011",
     "exception": false,
     "start_time": "2022-04-10T04:37:46.037304",
     "status": "completed"
    },
    "tags": []
   },
   "outputs": [
    {
     "name": "stdout",
     "output_type": "stream",
     "text": [
      "Charified text (before vectorization and embedding):\n",
      "s i g n i f i c a n c e   w a s   d e t e r m i n e d   u s i n g   s t u d e n t   ' s   t - t e s t s   .\n",
      "\n",
      "Embedded chars (after vectorization and embedding):\n",
      "[[[-0.00609721  0.01149335 -0.02625491 ... -0.0265941  -0.01058467\n",
      "    0.01494901]\n",
      "  [-0.01948273 -0.02473109  0.0336698  ...  0.01529373 -0.03916073\n",
      "   -0.00429332]\n",
      "  [ 0.0270722  -0.0349207  -0.01685765 ... -0.00390316 -0.032887\n",
      "    0.04156351]\n",
      "  ...\n",
      "  [-0.0230955  -0.0078739  -0.02324952 ... -0.04928761 -0.01644159\n",
      "    0.01038627]\n",
      "  [-0.0230955  -0.0078739  -0.02324952 ... -0.04928761 -0.01644159\n",
      "    0.01038627]\n",
      "  [-0.0230955  -0.0078739  -0.02324952 ... -0.04928761 -0.01644159\n",
      "    0.01038627]]]\n",
      "\n",
      "Character embedding shape: (1, 290, 24)\n"
     ]
    }
   ],
   "source": [
    "# Create char embedding layer\n",
    "char_embed = layers.Embedding(input_dim=Num_char_tokens,\n",
    "                             output_dim=24,\n",
    "                             mask_zero=False,\n",
    "                             name=\"char_embed\")\n",
    "\n",
    "# Test out character embedding layer\n",
    "print(f\"Charified text (before vectorization and embedding):\\n{target_chars}\\n\")\n",
    "char_embed_example = char_embed(char_vectorizer([target_chars]))\n",
    "print(f\"Embedded chars (after vectorization and embedding):\\n{char_embed_example}\\n\")\n",
    "print(f\"Character embedding shape: {char_embed_example.shape}\")"
   ]
  },
  {
   "cell_type": "markdown",
   "id": "5295da6e",
   "metadata": {
    "papermill": {
     "duration": 0.962515,
     "end_time": "2022-04-10T04:37:48.947593",
     "exception": false,
     "start_time": "2022-04-10T04:37:47.985078",
     "status": "completed"
    },
    "tags": []
   },
   "source": [
    "### Building a Conv1D model to fit on character embeddings"
   ]
  },
  {
   "cell_type": "code",
   "execution_count": 61,
   "id": "b570e983",
   "metadata": {
    "execution": {
     "iopub.execute_input": "2022-04-10T04:37:51.187256Z",
     "iopub.status.busy": "2022-04-10T04:37:51.186401Z",
     "iopub.status.idle": "2022-04-10T04:37:51.257881Z",
     "shell.execute_reply": "2022-04-10T04:37:51.256930Z"
    },
    "papermill": {
     "duration": 1.351303,
     "end_time": "2022-04-10T04:37:51.258021",
     "exception": false,
     "start_time": "2022-04-10T04:37:49.906718",
     "status": "completed"
    },
    "tags": []
   },
   "outputs": [],
   "source": [
    "inputs = layers.Input(shape=(1,),dtype=tf.string)\n",
    "char_vectors = char_vectorizer(inputs)\n",
    "char_embeddings = char_embed(char_vectors)\n",
    "x = layers.Conv1D(2096,kernel_size=7,padding=\"same\",activation=\"relu\")(char_embeddings)\n",
    "x=layers.GlobalAveragePooling1D()(x) # condense the output of our feature vector\n",
    "x = layers.Dense(2096,activation=\"relu\")(x)\n",
    "x = layers.Dense(2096,activation=\"relu\")(x)\n",
    "outputs = layers.Dense(num_classes,activation=\"softmax\")(x)\n",
    "model_3 = tf.keras.Model(inputs,outputs)\n",
    "\n",
    "model_3.compile(loss=\"categorical_crossentropy\",\n",
    "               optimizer=tf.keras.optimizers.Adam(),\n",
    "               metrics=['accuracy'])"
   ]
  },
  {
   "cell_type": "code",
   "execution_count": 62,
   "id": "4eb79c6c",
   "metadata": {
    "execution": {
     "iopub.execute_input": "2022-04-10T04:37:53.272192Z",
     "iopub.status.busy": "2022-04-10T04:37:53.269669Z",
     "iopub.status.idle": "2022-04-10T04:37:53.275877Z",
     "shell.execute_reply": "2022-04-10T04:37:53.276529Z"
    },
    "papermill": {
     "duration": 1.048565,
     "end_time": "2022-04-10T04:37:53.276783",
     "exception": false,
     "start_time": "2022-04-10T04:37:52.228218",
     "status": "completed"
    },
    "tags": []
   },
   "outputs": [
    {
     "name": "stdout",
     "output_type": "stream",
     "text": [
      "Model: \"model_2\"\n",
      "_________________________________________________________________\n",
      "Layer (type)                 Output Shape              Param #   \n",
      "=================================================================\n",
      "input_3 (InputLayer)         [(None, 1)]               0         \n",
      "_________________________________________________________________\n",
      "char_vectorizer (TextVectori (None, 290)               0         \n",
      "_________________________________________________________________\n",
      "char_embed (Embedding)       (None, 290, 24)           1680      \n",
      "_________________________________________________________________\n",
      "conv1d_1 (Conv1D)            (None, 290, 2096)         354224    \n",
      "_________________________________________________________________\n",
      "global_average_pooling1d_1 ( (None, 2096)              0         \n",
      "_________________________________________________________________\n",
      "dense_4 (Dense)              (None, 2096)              4395312   \n",
      "_________________________________________________________________\n",
      "dense_5 (Dense)              (None, 2096)              4395312   \n",
      "_________________________________________________________________\n",
      "dense_6 (Dense)              (None, 5)                 10485     \n",
      "=================================================================\n",
      "Total params: 9,157,013\n",
      "Trainable params: 9,157,013\n",
      "Non-trainable params: 0\n",
      "_________________________________________________________________\n"
     ]
    }
   ],
   "source": [
    "model_3.summary()"
   ]
  },
  {
   "cell_type": "code",
   "execution_count": 63,
   "id": "e02087ac",
   "metadata": {
    "execution": {
     "iopub.execute_input": "2022-04-10T04:37:55.246319Z",
     "iopub.status.busy": "2022-04-10T04:37:55.245669Z",
     "iopub.status.idle": "2022-04-10T04:37:56.380350Z",
     "shell.execute_reply": "2022-04-10T04:37:56.379677Z"
    },
    "papermill": {
     "duration": 2.131022,
     "end_time": "2022-04-10T04:37:56.380503",
     "exception": false,
     "start_time": "2022-04-10T04:37:54.249481",
     "status": "completed"
    },
    "tags": []
   },
   "outputs": [],
   "source": [
    "train_char_dataset = tf.data.Dataset.from_tensor_slices((train_chars,train_labels_one_hot)).batch(32).prefetch(tf.data.AUTOTUNE)\n",
    "valid_char_dataset = tf.data.Dataset.from_tensor_slices((valid_chars,val_labels_one_hot)).batch(32).prefetch(tf.data.AUTOTUNE)"
   ]
  },
  {
   "cell_type": "code",
   "execution_count": 64,
   "id": "a66eb4ad",
   "metadata": {
    "execution": {
     "iopub.execute_input": "2022-04-10T04:37:58.347938Z",
     "iopub.status.busy": "2022-04-10T04:37:58.346934Z",
     "iopub.status.idle": "2022-04-10T04:39:18.844756Z",
     "shell.execute_reply": "2022-04-10T04:39:18.845320Z"
    },
    "papermill": {
     "duration": 81.464662,
     "end_time": "2022-04-10T04:39:18.845519",
     "exception": false,
     "start_time": "2022-04-10T04:37:57.380857",
     "status": "completed"
    },
    "tags": []
   },
   "outputs": [
    {
     "name": "stdout",
     "output_type": "stream",
     "text": [
      "Epoch 1/5\n",
      "1125/1125 [==============================] - 17s 14ms/step - loss: 1.1712 - accuracy: 0.4695 - val_loss: 0.8971 - val_accuracy: 0.6159\n",
      "Epoch 2/5\n",
      "1125/1125 [==============================] - 16s 14ms/step - loss: 0.8354 - accuracy: 0.6616 - val_loss: 0.7747 - val_accuracy: 0.6811\n",
      "Epoch 3/5\n",
      "1125/1125 [==============================] - 16s 14ms/step - loss: 0.7510 - accuracy: 0.7074 - val_loss: 0.6500 - val_accuracy: 0.7495\n",
      "Epoch 4/5\n",
      "1125/1125 [==============================] - 16s 14ms/step - loss: 0.6775 - accuracy: 0.7395 - val_loss: 0.6325 - val_accuracy: 0.7588\n",
      "Epoch 5/5\n",
      "1125/1125 [==============================] - 16s 14ms/step - loss: 0.6438 - accuracy: 0.7560 - val_loss: 0.6069 - val_accuracy: 0.7763\n"
     ]
    }
   ],
   "source": [
    "model_3_history = model_3.fit(train_char_dataset,\n",
    "                             steps_per_epoch=int(0.2*len(train_char_dataset)),\n",
    "                             epochs=5,\n",
    "                             validation_data=valid_char_dataset,\n",
    "                             validation_steps=int(0.2*len(valid_char_dataset)))"
   ]
  },
  {
   "cell_type": "code",
   "execution_count": 65,
   "id": "213af1fa",
   "metadata": {
    "execution": {
     "iopub.execute_input": "2022-04-10T04:39:21.768164Z",
     "iopub.status.busy": "2022-04-10T04:39:21.767302Z",
     "iopub.status.idle": "2022-04-10T04:39:27.714860Z",
     "shell.execute_reply": "2022-04-10T04:39:27.715368Z"
    },
    "papermill": {
     "duration": 7.447127,
     "end_time": "2022-04-10T04:39:27.715573",
     "exception": false,
     "start_time": "2022-04-10T04:39:20.268446",
     "status": "completed"
    },
    "tags": []
   },
   "outputs": [
    {
     "name": "stdout",
     "output_type": "stream",
     "text": [
      "945/945 [==============================] - 6s 6ms/step - loss: 0.6134 - accuracy: 0.7725\n"
     ]
    },
    {
     "data": {
      "text/plain": [
       "[0.6133646368980408, 0.7724745273590088]"
      ]
     },
     "execution_count": 65,
     "metadata": {},
     "output_type": "execute_result"
    }
   ],
   "source": [
    "model_3.evaluate(valid_char_dataset)"
   ]
  },
  {
   "cell_type": "code",
   "execution_count": 66,
   "id": "71a613d4",
   "metadata": {
    "execution": {
     "iopub.execute_input": "2022-04-10T04:39:30.945432Z",
     "iopub.status.busy": "2022-04-10T04:39:30.944522Z",
     "iopub.status.idle": "2022-04-10T04:39:34.375603Z",
     "shell.execute_reply": "2022-04-10T04:39:34.375014Z"
    },
    "papermill": {
     "duration": 5.158347,
     "end_time": "2022-04-10T04:39:34.375757",
     "exception": false,
     "start_time": "2022-04-10T04:39:29.217410",
     "status": "completed"
    },
    "tags": []
   },
   "outputs": [
    {
     "data": {
      "text/plain": [
       "array([[1.44896641e-01, 7.51126051e-01, 2.86275111e-02, 4.17139865e-02,\n",
       "        3.36357541e-02],\n",
       "       [1.45242393e-01, 7.99752355e-01, 4.76791663e-03, 3.56824137e-02,\n",
       "        1.45549495e-02],\n",
       "       [4.10873383e-01, 6.33046851e-02, 1.19507303e-02, 5.07753491e-01,\n",
       "        6.11769129e-03],\n",
       "       ...,\n",
       "       [1.41511491e-05, 1.41731848e-03, 1.36488129e-03, 4.88911201e-06,\n",
       "        9.97198701e-01],\n",
       "       [2.32040193e-02, 3.46030384e-01, 3.21496204e-02, 1.10930428e-02,\n",
       "        5.87522924e-01],\n",
       "       [2.80472916e-02, 9.35935676e-01, 5.82603924e-03, 4.78183245e-03,\n",
       "        2.54092515e-02]], dtype=float32)"
      ]
     },
     "execution_count": 66,
     "metadata": {},
     "output_type": "execute_result"
    }
   ],
   "source": [
    "model_3_pred_probs = model_3.predict(valid_char_dataset)\n",
    "model_3_pred_probs"
   ]
  },
  {
   "cell_type": "code",
   "execution_count": 67,
   "id": "761305eb",
   "metadata": {
    "execution": {
     "iopub.execute_input": "2022-04-10T04:39:37.282608Z",
     "iopub.status.busy": "2022-04-10T04:39:37.280731Z",
     "iopub.status.idle": "2022-04-10T04:39:37.285227Z",
     "shell.execute_reply": "2022-04-10T04:39:37.285666Z"
    },
    "papermill": {
     "duration": 1.456286,
     "end_time": "2022-04-10T04:39:37.285812",
     "exception": false,
     "start_time": "2022-04-10T04:39:35.829526",
     "status": "completed"
    },
    "tags": []
   },
   "outputs": [
    {
     "data": {
      "text/plain": [
       "<tf.Tensor: shape=(30212,), dtype=int64, numpy=array([1, 1, 3, ..., 4, 4, 1])>"
      ]
     },
     "execution_count": 67,
     "metadata": {},
     "output_type": "execute_result"
    }
   ],
   "source": [
    "model_3_preds = tf.argmax(model_3_pred_probs, axis=1)\n",
    "model_3_preds"
   ]
  },
  {
   "cell_type": "code",
   "execution_count": 68,
   "id": "0c031c68",
   "metadata": {
    "execution": {
     "iopub.execute_input": "2022-04-10T04:39:40.407375Z",
     "iopub.status.busy": "2022-04-10T04:39:40.406413Z",
     "iopub.status.idle": "2022-04-10T04:39:40.428855Z",
     "shell.execute_reply": "2022-04-10T04:39:40.429730Z"
    },
    "papermill": {
     "duration": 1.682933,
     "end_time": "2022-04-10T04:39:40.429961",
     "exception": false,
     "start_time": "2022-04-10T04:39:38.747028",
     "status": "completed"
    },
    "tags": []
   },
   "outputs": [
    {
     "data": {
      "text/plain": [
       "{'accuracy': 77.24745134383689,\n",
       " 'precision': 0.7744984941284319,\n",
       " 'recall': 0.7724745134383688,\n",
       " 'f1-score': 0.7683964657217408}"
      ]
     },
     "execution_count": 68,
     "metadata": {},
     "output_type": "execute_result"
    }
   ],
   "source": [
    "model_3_results = calculate_results(y_true=val_labels_encoded,\n",
    "                                        y_pred=model_3_preds)\n",
    "model_3_results"
   ]
  },
  {
   "cell_type": "markdown",
   "id": "5e3eec0b",
   "metadata": {
    "papermill": {
     "duration": 1.918434,
     "end_time": "2022-04-10T04:39:44.031222",
     "exception": false,
     "start_time": "2022-04-10T04:39:42.112788",
     "status": "completed"
    },
    "tags": []
   },
   "source": [
    "## Model 4: Combining pretrained token embeddings + character embeddings (hybrid embedding layer)\n",
    "\n",
    "1. Create a token-level model (similar to model_1)\n",
    "1. Create a character-level model \n",
    "1. Combine (using layers.Concatenate) the outputs of 1 and 2\n",
    "1. Build a series of output layers on top of 3 \n",
    "1. Construct a model which takes token and character-level sequences as input and produces sequence label probabilities as output"
   ]
  },
  {
   "cell_type": "code",
   "execution_count": 69,
   "id": "68fb5396",
   "metadata": {
    "execution": {
     "iopub.execute_input": "2022-04-10T04:39:46.968732Z",
     "iopub.status.busy": "2022-04-10T04:39:46.963548Z",
     "iopub.status.idle": "2022-04-10T04:39:47.799663Z",
     "shell.execute_reply": "2022-04-10T04:39:47.798630Z"
    },
    "papermill": {
     "duration": 2.308847,
     "end_time": "2022-04-10T04:39:47.799855",
     "exception": false,
     "start_time": "2022-04-10T04:39:45.491008",
     "status": "completed"
    },
    "tags": []
   },
   "outputs": [],
   "source": [
    "# 1. Setup token inputs/model\n",
    "token_inputs = layers.Input(shape=[],dtype=tf.string,name=\"token_input\")\n",
    "token_embeddings = tf_hub_embedding_layer(token_inputs)\n",
    "x = layers.Dense(1024,activation='relu')(token_embeddings)\n",
    "token_output = layers.Dense(1024,activation='relu')(x)\n",
    "token_model = tf.keras.Model(inputs=token_inputs,\n",
    "                            outputs=token_output)\n",
    "\n",
    "# 2. Setup char inputs/model\n",
    "char_inputs = layers.Input(shape=(1,),dtype=tf.string,name=\"char_input\")\n",
    "char_vectors = char_vectorizer(char_inputs)\n",
    "char_embeddings = char_embed(char_vectors)\n",
    "char_bi_lstm = layers.Bidirectional(layers.LSTM(25))(char_embeddings)\n",
    "char_model = tf.keras.Model(inputs=char_inputs,\n",
    "                           outputs=char_bi_lstm)\n",
    "\n",
    "# 3. Concatenate token and char inputs (create hybrid token embedding)\n",
    "token_char_concat = layers.Concatenate(name=\"token_char_hybrid\")([token_model.output,\n",
    "                                                                 char_model.output])\n",
    "\n",
    "# 4. Create output layers - addition of dropout\n",
    "combined_dropout = layers.Dropout(0.5)(token_char_concat)\n",
    "combined_dense = layers.Dense(200,activation=\"relu\")(combined_dropout)\n",
    "final_dropout = layers.Dropout(0.5)(combined_dense)\n",
    "output_layer = layers.Dense(num_classes,activation=\"softmax\")(final_dropout)\n",
    "\n",
    "# 5. Construct model with char and token inputs\n",
    "model_4 = tf.keras.Model(inputs = [token_model.input,char_model.input],\n",
    "                         outputs=output_layer,\n",
    "                         name=\"model_4_token_and_char_embeddings\")"
   ]
  },
  {
   "cell_type": "code",
   "execution_count": 70,
   "id": "22eb9098",
   "metadata": {
    "execution": {
     "iopub.execute_input": "2022-04-10T04:39:50.826223Z",
     "iopub.status.busy": "2022-04-10T04:39:50.820610Z",
     "iopub.status.idle": "2022-04-10T04:39:50.831112Z",
     "shell.execute_reply": "2022-04-10T04:39:50.831561Z"
    },
    "papermill": {
     "duration": 1.557555,
     "end_time": "2022-04-10T04:39:50.831726",
     "exception": false,
     "start_time": "2022-04-10T04:39:49.274171",
     "status": "completed"
    },
    "tags": []
   },
   "outputs": [
    {
     "name": "stdout",
     "output_type": "stream",
     "text": [
      "Model: \"model_4_token_and_char_embeddings\"\n",
      "__________________________________________________________________________________________________\n",
      "Layer (type)                    Output Shape         Param #     Connected to                     \n",
      "==================================================================================================\n",
      "token_input (InputLayer)        [(None,)]            0                                            \n",
      "__________________________________________________________________________________________________\n",
      "char_input (InputLayer)         [(None, 1)]          0                                            \n",
      "__________________________________________________________________________________________________\n",
      "universal_sentence_encoder (Ker (None, 512)          256797824   token_input[0][0]                \n",
      "__________________________________________________________________________________________________\n",
      "char_vectorizer (TextVectorizat (None, 290)          0           char_input[0][0]                 \n",
      "__________________________________________________________________________________________________\n",
      "dense_7 (Dense)                 (None, 1024)         525312      universal_sentence_encoder[1][0] \n",
      "__________________________________________________________________________________________________\n",
      "char_embed (Embedding)          (None, 290, 24)      1680        char_vectorizer[1][0]            \n",
      "__________________________________________________________________________________________________\n",
      "dense_8 (Dense)                 (None, 1024)         1049600     dense_7[0][0]                    \n",
      "__________________________________________________________________________________________________\n",
      "bidirectional (Bidirectional)   (None, 50)           10000       char_embed[1][0]                 \n",
      "__________________________________________________________________________________________________\n",
      "token_char_hybrid (Concatenate) (None, 1074)         0           dense_8[0][0]                    \n",
      "                                                                 bidirectional[0][0]              \n",
      "__________________________________________________________________________________________________\n",
      "dropout (Dropout)               (None, 1074)         0           token_char_hybrid[0][0]          \n",
      "__________________________________________________________________________________________________\n",
      "dense_9 (Dense)                 (None, 200)          215000      dropout[0][0]                    \n",
      "__________________________________________________________________________________________________\n",
      "dropout_1 (Dropout)             (None, 200)          0           dense_9[0][0]                    \n",
      "__________________________________________________________________________________________________\n",
      "dense_10 (Dense)                (None, 5)            1005        dropout_1[0][0]                  \n",
      "==================================================================================================\n",
      "Total params: 258,600,421\n",
      "Trainable params: 1,802,597\n",
      "Non-trainable params: 256,797,824\n",
      "__________________________________________________________________________________________________\n"
     ]
    }
   ],
   "source": [
    "model_4.summary()"
   ]
  },
  {
   "cell_type": "code",
   "execution_count": 71,
   "id": "987b3cf3",
   "metadata": {
    "execution": {
     "iopub.execute_input": "2022-04-10T04:39:54.034739Z",
     "iopub.status.busy": "2022-04-10T04:39:54.033822Z",
     "iopub.status.idle": "2022-04-10T04:39:54.965042Z",
     "shell.execute_reply": "2022-04-10T04:39:54.965700Z"
    },
    "papermill": {
     "duration": 2.422698,
     "end_time": "2022-04-10T04:39:54.965896",
     "exception": false,
     "start_time": "2022-04-10T04:39:52.543198",
     "status": "completed"
    },
    "tags": []
   },
   "outputs": [
    {
     "data": {
      "image/png": "[encoded data removed]",
      "text/plain": [
       "<IPython.core.display.Image object>"
      ]
     },
     "execution_count": 71,
     "metadata": {},
     "output_type": "execute_result"
    }
   ],
   "source": [
    "from tensorflow.keras.utils import plot_model\n",
    "plot_model(model_4)"
   ]
  },
  {
   "cell_type": "code",
   "execution_count": 72,
   "id": "7b1305f1",
   "metadata": {
    "execution": {
     "iopub.execute_input": "2022-04-10T04:39:57.920711Z",
     "iopub.status.busy": "2022-04-10T04:39:57.918992Z",
     "iopub.status.idle": "2022-04-10T04:39:57.926494Z",
     "shell.execute_reply": "2022-04-10T04:39:57.925902Z"
    },
    "papermill": {
     "duration": 1.492616,
     "end_time": "2022-04-10T04:39:57.926639",
     "exception": false,
     "start_time": "2022-04-10T04:39:56.434023",
     "status": "completed"
    },
    "tags": []
   },
   "outputs": [],
   "source": [
    "model_4.compile(loss=\"categorical_crossentropy\",\n",
    "                optimizer=tf.keras.optimizers.Adam(), # section 4.2 of https://arxiv.org/pdf/1612.05251.pdf mentions using SGD but we'll stick with Adam\n",
    "                metrics=[\"accuracy\"])"
   ]
  },
  {
   "cell_type": "markdown",
   "id": "fbf2d493",
   "metadata": {
    "papermill": {
     "duration": 1.537979,
     "end_time": "2022-04-10T04:40:01.006687",
     "exception": false,
     "start_time": "2022-04-10T04:39:59.468708",
     "status": "completed"
    },
    "tags": []
   },
   "source": [
    "### Combining token and character data into a tf.data dataset"
   ]
  },
  {
   "cell_type": "code",
   "execution_count": 73,
   "id": "cf04accf",
   "metadata": {
    "execution": {
     "iopub.execute_input": "2022-04-10T04:40:04.218439Z",
     "iopub.status.busy": "2022-04-10T04:40:04.182352Z",
     "iopub.status.idle": "2022-04-10T04:40:06.303939Z",
     "shell.execute_reply": "2022-04-10T04:40:06.303285Z"
    },
    "papermill": {
     "duration": 3.609404,
     "end_time": "2022-04-10T04:40:06.304109",
     "exception": false,
     "start_time": "2022-04-10T04:40:02.694705",
     "status": "completed"
    },
    "tags": []
   },
   "outputs": [],
   "source": [
    "# combine chars and tokens into a dataset\n",
    "train_chars_token_data = tf.data.Dataset.from_tensor_slices((train_sentences,train_chars)) # make data\n",
    "train_char_token_labels = tf.data.Dataset.from_tensor_slices(train_labels_one_hot) # make labels\n",
    "train_char_token_dataset = tf.data.Dataset.zip((train_chars_token_data,train_char_token_labels)) # combine data and labels\n",
    "\n",
    "# prefetch and batch train data\n",
    "train_char_token_dataset = train_char_token_dataset.batch(32).prefetch(tf.data.AUTOTUNE)\n",
    "\n",
    "# Repeat same steps validation data\n",
    "val_chars_token_data = tf.data.Dataset.from_tensor_slices((val_sentences,valid_chars)) # make data\n",
    "val_char_token_labels = tf.data.Dataset.from_tensor_slices(val_labels_one_hot) # make labels\n",
    "val_char_token_dataset = tf.data.Dataset.zip((val_chars_token_data,val_char_token_labels)) # combine data and labels\n",
    "\n",
    "# prefetch and batch val data\n",
    "val_char_token_dataset = val_char_token_dataset.batch(32).prefetch(tf.data.AUTOTUNE)"
   ]
  },
  {
   "cell_type": "code",
   "execution_count": 74,
   "id": "7b8f5cca",
   "metadata": {
    "execution": {
     "iopub.execute_input": "2022-04-10T04:40:09.231695Z",
     "iopub.status.busy": "2022-04-10T04:40:09.231031Z",
     "iopub.status.idle": "2022-04-10T04:40:09.233953Z",
     "shell.execute_reply": "2022-04-10T04:40:09.234363Z"
    },
    "papermill": {
     "duration": 1.466523,
     "end_time": "2022-04-10T04:40:09.234511",
     "exception": false,
     "start_time": "2022-04-10T04:40:07.767988",
     "status": "completed"
    },
    "tags": []
   },
   "outputs": [
    {
     "data": {
      "text/plain": [
       "(<PrefetchDataset shapes: (((None,), (None,)), (None, 5)), types: ((tf.string, tf.string), tf.float64)>,\n",
       " <PrefetchDataset shapes: (((None,), (None,)), (None, 5)), types: ((tf.string, tf.string), tf.float64)>)"
      ]
     },
     "execution_count": 74,
     "metadata": {},
     "output_type": "execute_result"
    }
   ],
   "source": [
    "train_char_token_dataset, val_char_token_dataset"
   ]
  },
  {
   "cell_type": "markdown",
   "id": "b0dd60ac",
   "metadata": {
    "papermill": {
     "duration": 1.50902,
     "end_time": "2022-04-10T04:40:12.195529",
     "exception": false,
     "start_time": "2022-04-10T04:40:10.686509",
     "status": "completed"
    },
    "tags": []
   },
   "source": [
    "### Fitting a model on token and character-level sequences"
   ]
  },
  {
   "cell_type": "code",
   "execution_count": 75,
   "id": "56605be3",
   "metadata": {
    "execution": {
     "iopub.execute_input": "2022-04-10T04:40:15.943979Z",
     "iopub.status.busy": "2022-04-10T04:40:15.943087Z",
     "iopub.status.idle": "2022-04-10T04:44:08.254328Z",
     "shell.execute_reply": "2022-04-10T04:44:08.253321Z"
    },
    "papermill": {
     "duration": 234.326495,
     "end_time": "2022-04-10T04:44:08.254490",
     "exception": false,
     "start_time": "2022-04-10T04:40:13.927995",
     "status": "completed"
    },
    "tags": []
   },
   "outputs": [
    {
     "name": "stdout",
     "output_type": "stream",
     "text": [
      "Epoch 1/5\n",
      "1125/1125 [==============================] - 50s 41ms/step - loss: 0.7987 - accuracy: 0.6951 - val_loss: 0.6687 - val_accuracy: 0.7521\n",
      "Epoch 2/5\n",
      "1125/1125 [==============================] - 45s 40ms/step - loss: 0.6880 - accuracy: 0.7402 - val_loss: 0.6300 - val_accuracy: 0.7627\n",
      "Epoch 3/5\n",
      "1125/1125 [==============================] - 47s 42ms/step - loss: 0.6762 - accuracy: 0.7485 - val_loss: 0.6069 - val_accuracy: 0.7778\n",
      "Epoch 4/5\n",
      "1125/1125 [==============================] - 45s 40ms/step - loss: 0.6416 - accuracy: 0.7623 - val_loss: 0.5979 - val_accuracy: 0.7784\n",
      "Epoch 5/5\n",
      "1125/1125 [==============================] - 46s 41ms/step - loss: 0.6352 - accuracy: 0.7642 - val_loss: 0.5874 - val_accuracy: 0.7791\n"
     ]
    }
   ],
   "source": [
    "# Fit the model on tokens and chars\n",
    "model_4_history = model_4.fit(train_char_token_dataset, # train on dataset of token and characters\n",
    "                              steps_per_epoch=int(0.2 * len(train_char_token_dataset)),\n",
    "                              epochs=5,\n",
    "                              validation_data=val_char_token_dataset,\n",
    "                              validation_steps=int(0.2 * len(val_char_token_dataset)))"
   ]
  },
  {
   "cell_type": "code",
   "execution_count": 76,
   "id": "dbe0566f",
   "metadata": {
    "execution": {
     "iopub.execute_input": "2022-04-10T04:44:13.180773Z",
     "iopub.status.busy": "2022-04-10T04:44:13.179919Z",
     "iopub.status.idle": "2022-04-10T04:44:56.678598Z",
     "shell.execute_reply": "2022-04-10T04:44:56.679095Z"
    },
    "papermill": {
     "duration": 45.922906,
     "end_time": "2022-04-10T04:44:56.679270",
     "exception": false,
     "start_time": "2022-04-10T04:44:10.756364",
     "status": "completed"
    },
    "tags": []
   },
   "outputs": [
    {
     "name": "stdout",
     "output_type": "stream",
     "text": [
      "945/945 [==============================] - 24s 25ms/step - loss: 0.5914 - accuracy: 0.7764\n"
     ]
    },
    {
     "data": {
      "text/plain": [
       "[0.5913600325584412, 0.7764133214950562]"
      ]
     },
     "execution_count": 76,
     "metadata": {},
     "output_type": "execute_result"
    }
   ],
   "source": [
    "model_4.evaluate(val_char_token_dataset)"
   ]
  },
  {
   "cell_type": "code",
   "execution_count": 77,
   "id": "dafc5dfc",
   "metadata": {
    "execution": {
     "iopub.execute_input": "2022-04-10T04:45:02.191555Z",
     "iopub.status.busy": "2022-04-10T04:45:02.188896Z",
     "iopub.status.idle": "2022-04-10T04:45:23.916806Z",
     "shell.execute_reply": "2022-04-10T04:45:23.916062Z"
    },
    "papermill": {
     "duration": 24.419117,
     "end_time": "2022-04-10T04:45:23.916955",
     "exception": false,
     "start_time": "2022-04-10T04:44:59.497838",
     "status": "completed"
    },
    "tags": []
   },
   "outputs": [
    {
     "data": {
      "text/plain": [
       "array([[5.6517196e-01, 2.2000375e-01, 7.0749479e-04, 2.1143989e-01,\n",
       "        2.6768881e-03],\n",
       "       [5.0297958e-01, 3.5677913e-01, 3.6233940e-04, 1.3786787e-01,\n",
       "        2.0111324e-03],\n",
       "       [4.5113549e-01, 1.4082466e-02, 2.6106244e-02, 5.0565976e-01,\n",
       "        3.0160104e-03],\n",
       "       ...,\n",
       "       [3.2288958e-06, 2.7687673e-04, 2.3145981e-03, 4.5334912e-07,\n",
       "        9.9740487e-01],\n",
       "       [4.5060627e-03, 1.6003869e-01, 2.9903674e-02, 1.4165743e-03,\n",
       "        8.0413496e-01],\n",
       "       [2.4191469e-03, 9.9749666e-01, 2.3658536e-06, 7.3863334e-06,\n",
       "        7.4404728e-05]], dtype=float32)"
      ]
     },
     "execution_count": 77,
     "metadata": {},
     "output_type": "execute_result"
    }
   ],
   "source": [
    "model_4_pred_probs = model_4.predict(val_char_token_dataset)\n",
    "model_4_pred_probs"
   ]
  },
  {
   "cell_type": "code",
   "execution_count": 78,
   "id": "565b8eed",
   "metadata": {
    "execution": {
     "iopub.execute_input": "2022-04-10T04:45:29.155671Z",
     "iopub.status.busy": "2022-04-10T04:45:29.154248Z",
     "iopub.status.idle": "2022-04-10T04:45:29.158634Z",
     "shell.execute_reply": "2022-04-10T04:45:29.159344Z"
    },
    "papermill": {
     "duration": 2.654674,
     "end_time": "2022-04-10T04:45:29.159527",
     "exception": false,
     "start_time": "2022-04-10T04:45:26.504853",
     "status": "completed"
    },
    "tags": []
   },
   "outputs": [
    {
     "data": {
      "text/plain": [
       "<tf.Tensor: shape=(30212,), dtype=int64, numpy=array([0, 0, 3, ..., 4, 4, 1])>"
      ]
     },
     "execution_count": 78,
     "metadata": {},
     "output_type": "execute_result"
    }
   ],
   "source": [
    "model_4_preds = tf.argmax(model_4_pred_probs, axis=1)\n",
    "model_4_preds"
   ]
  },
  {
   "cell_type": "code",
   "execution_count": 79,
   "id": "aaa9ce28",
   "metadata": {
    "execution": {
     "iopub.execute_input": "2022-04-10T04:45:34.685367Z",
     "iopub.status.busy": "2022-04-10T04:45:34.684443Z",
     "iopub.status.idle": "2022-04-10T04:45:34.701496Z",
     "shell.execute_reply": "2022-04-10T04:45:34.701950Z"
    },
    "papermill": {
     "duration": 2.909873,
     "end_time": "2022-04-10T04:45:34.702102",
     "exception": false,
     "start_time": "2022-04-10T04:45:31.792229",
     "status": "completed"
    },
    "tags": []
   },
   "outputs": [
    {
     "data": {
      "text/plain": [
       "{'accuracy': 77.64133456904541,\n",
       " 'precision': 0.7728957445775495,\n",
       " 'recall': 0.7764133456904542,\n",
       " 'f1-score': 0.7729706945160371}"
      ]
     },
     "execution_count": 79,
     "metadata": {},
     "output_type": "execute_result"
    }
   ],
   "source": [
    "model_4_results = calculate_results(y_true=val_labels_encoded,\n",
    "                                    y_pred=model_4_preds)\n",
    "model_4_results"
   ]
  },
  {
   "cell_type": "markdown",
   "id": "35444800",
   "metadata": {
    "papermill": {
     "duration": 2.640564,
     "end_time": "2022-04-10T04:45:40.683598",
     "exception": false,
     "start_time": "2022-04-10T04:45:38.043034",
     "status": "completed"
    },
    "tags": []
   },
   "source": [
    "## Model 5: Transfer Learning with pretrained token embeddings + character embeddings + positional embeddings\n",
    "\n",
    "### Create positional embeddings"
   ]
  },
  {
   "cell_type": "code",
   "execution_count": 80,
   "id": "be9f32d7",
   "metadata": {
    "execution": {
     "iopub.execute_input": "2022-04-10T04:45:46.220342Z",
     "iopub.status.busy": "2022-04-10T04:45:46.216960Z",
     "iopub.status.idle": "2022-04-10T04:45:46.223857Z",
     "shell.execute_reply": "2022-04-10T04:45:46.224483Z"
    },
    "papermill": {
     "duration": 2.804295,
     "end_time": "2022-04-10T04:45:46.224645",
     "exception": false,
     "start_time": "2022-04-10T04:45:43.420350",
     "status": "completed"
    },
    "tags": []
   },
   "outputs": [
    {
     "data": {
      "text/plain": [
       "0     15000\n",
       "1     15000\n",
       "2     15000\n",
       "3     15000\n",
       "4     14992\n",
       "5     14949\n",
       "6     14758\n",
       "7     14279\n",
       "8     13346\n",
       "9     11981\n",
       "10    10041\n",
       "11     7892\n",
       "12     5853\n",
       "13     4152\n",
       "14     2835\n",
       "15     1861\n",
       "16     1188\n",
       "17      751\n",
       "18      462\n",
       "19      286\n",
       "20      162\n",
       "21      101\n",
       "22       66\n",
       "23       33\n",
       "24       22\n",
       "25       14\n",
       "26        7\n",
       "27        4\n",
       "28        3\n",
       "29        1\n",
       "30        1\n",
       "Name: line_number, dtype: int64"
      ]
     },
     "execution_count": 80,
     "metadata": {},
     "output_type": "execute_result"
    }
   ],
   "source": [
    "# How many different line numbers are there?\n",
    "train_df[\"line_number\"].value_counts()"
   ]
  },
  {
   "cell_type": "code",
   "execution_count": 81,
   "id": "16fc069d",
   "metadata": {
    "execution": {
     "iopub.execute_input": "2022-04-10T04:45:51.399385Z",
     "iopub.status.busy": "2022-04-10T04:45:51.398559Z",
     "iopub.status.idle": "2022-04-10T04:45:51.405059Z",
     "shell.execute_reply": "2022-04-10T04:45:51.404569Z"
    },
    "papermill": {
     "duration": 2.611983,
     "end_time": "2022-04-10T04:45:51.405182",
     "exception": false,
     "start_time": "2022-04-10T04:45:48.793199",
     "status": "completed"
    },
    "tags": []
   },
   "outputs": [],
   "source": [
    "# Use TensorFlow to create one-hot-encoded tensors of our \"line_number\" column\n",
    "train_line_numbers_one_hot = tf.one_hot(train_df['line_number'].to_numpy(),depth=15)\n",
    "val_line_numbers_one_hot = tf.one_hot(val_df['line_number'].to_numpy(),depth=15)\n",
    "test_line_number_one_hot = tf.one_hot(test_df['line_number'].to_numpy(),depth=15)"
   ]
  },
  {
   "cell_type": "code",
   "execution_count": 82,
   "id": "4dd74196",
   "metadata": {
    "execution": {
     "iopub.execute_input": "2022-04-10T04:45:56.923592Z",
     "iopub.status.busy": "2022-04-10T04:45:56.922657Z",
     "iopub.status.idle": "2022-04-10T04:45:56.929785Z",
     "shell.execute_reply": "2022-04-10T04:45:56.930349Z"
    },
    "papermill": {
     "duration": 2.928433,
     "end_time": "2022-04-10T04:45:56.930513",
     "exception": false,
     "start_time": "2022-04-10T04:45:54.002080",
     "status": "completed"
    },
    "tags": []
   },
   "outputs": [
    {
     "data": {
      "text/plain": [
       "(TensorShape([180040, 15]),\n",
       " <tf.Tensor: shape=(15, 15), dtype=float32, numpy=\n",
       " array([[1., 0., 0., 0., 0., 0., 0., 0., 0., 0., 0., 0., 0., 0., 0.],\n",
       "        [0., 1., 0., 0., 0., 0., 0., 0., 0., 0., 0., 0., 0., 0., 0.],\n",
       "        [0., 0., 1., 0., 0., 0., 0., 0., 0., 0., 0., 0., 0., 0., 0.],\n",
       "        [0., 0., 0., 1., 0., 0., 0., 0., 0., 0., 0., 0., 0., 0., 0.],\n",
       "        [0., 0., 0., 0., 1., 0., 0., 0., 0., 0., 0., 0., 0., 0., 0.],\n",
       "        [0., 0., 0., 0., 0., 1., 0., 0., 0., 0., 0., 0., 0., 0., 0.],\n",
       "        [0., 0., 0., 0., 0., 0., 1., 0., 0., 0., 0., 0., 0., 0., 0.],\n",
       "        [0., 0., 0., 0., 0., 0., 0., 1., 0., 0., 0., 0., 0., 0., 0.],\n",
       "        [0., 0., 0., 0., 0., 0., 0., 0., 1., 0., 0., 0., 0., 0., 0.],\n",
       "        [0., 0., 0., 0., 0., 0., 0., 0., 0., 1., 0., 0., 0., 0., 0.],\n",
       "        [0., 0., 0., 0., 0., 0., 0., 0., 0., 0., 1., 0., 0., 0., 0.],\n",
       "        [0., 0., 0., 0., 0., 0., 0., 0., 0., 0., 0., 1., 0., 0., 0.],\n",
       "        [1., 0., 0., 0., 0., 0., 0., 0., 0., 0., 0., 0., 0., 0., 0.],\n",
       "        [0., 1., 0., 0., 0., 0., 0., 0., 0., 0., 0., 0., 0., 0., 0.],\n",
       "        [0., 0., 1., 0., 0., 0., 0., 0., 0., 0., 0., 0., 0., 0., 0.]],\n",
       "       dtype=float32)>)"
      ]
     },
     "execution_count": 82,
     "metadata": {},
     "output_type": "execute_result"
    }
   ],
   "source": [
    "train_line_numbers_one_hot.shape , train_line_numbers_one_hot[:15]"
   ]
  },
  {
   "cell_type": "code",
   "execution_count": 83,
   "id": "0f6331ee",
   "metadata": {
    "execution": {
     "iopub.execute_input": "2022-04-10T04:46:02.091803Z",
     "iopub.status.busy": "2022-04-10T04:46:02.090962Z",
     "iopub.status.idle": "2022-04-10T04:46:02.097597Z",
     "shell.execute_reply": "2022-04-10T04:46:02.097011Z"
    },
    "papermill": {
     "duration": 2.591575,
     "end_time": "2022-04-10T04:46:02.097746",
     "exception": false,
     "start_time": "2022-04-10T04:45:59.506171",
     "status": "completed"
    },
    "tags": []
   },
   "outputs": [
    {
     "data": {
      "text/plain": [
       "11    24468\n",
       "10    23639\n",
       "12    22113\n",
       "9     19400\n",
       "13    18438\n",
       "14    14610\n",
       "8     12285\n",
       "15    10768\n",
       "7      7464\n",
       "16     7429\n",
       "17     5202\n",
       "6      3353\n",
       "18     3344\n",
       "19     2480\n",
       "20     1281\n",
       "5      1146\n",
       "21      770\n",
       "22      759\n",
       "23      264\n",
       "4       215\n",
       "24      200\n",
       "25      182\n",
       "26       81\n",
       "28       58\n",
       "3        32\n",
       "30       31\n",
       "27       28\n",
       "Name: total_lines, dtype: int64"
      ]
     },
     "execution_count": 83,
     "metadata": {},
     "output_type": "execute_result"
    }
   ],
   "source": [
    "# How many different numbers of lines are there?\n",
    "train_df[\"total_lines\"].value_counts()"
   ]
  },
  {
   "cell_type": "code",
   "execution_count": 84,
   "id": "5a6443e0",
   "metadata": {
    "execution": {
     "iopub.execute_input": "2022-04-10T04:46:07.628444Z",
     "iopub.status.busy": "2022-04-10T04:46:07.627408Z",
     "iopub.status.idle": "2022-04-10T04:46:07.632260Z",
     "shell.execute_reply": "2022-04-10T04:46:07.632947Z"
    },
    "papermill": {
     "duration": 2.908788,
     "end_time": "2022-04-10T04:46:07.633136",
     "exception": false,
     "start_time": "2022-04-10T04:46:04.724348",
     "status": "completed"
    },
    "tags": []
   },
   "outputs": [
    {
     "data": {
      "text/plain": [
       "20.0"
      ]
     },
     "execution_count": 84,
     "metadata": {},
     "output_type": "execute_result"
    }
   ],
   "source": [
    "np.percentile(train_df.total_lines, 98)"
   ]
  },
  {
   "cell_type": "code",
   "execution_count": 85,
   "id": "f47848d0",
   "metadata": {
    "execution": {
     "iopub.execute_input": "2022-04-10T04:46:13.361965Z",
     "iopub.status.busy": "2022-04-10T04:46:13.360985Z",
     "iopub.status.idle": "2022-04-10T04:46:13.368487Z",
     "shell.execute_reply": "2022-04-10T04:46:13.368960Z"
    },
    "papermill": {
     "duration": 2.607019,
     "end_time": "2022-04-10T04:46:13.369126",
     "exception": false,
     "start_time": "2022-04-10T04:46:10.762107",
     "status": "completed"
    },
    "tags": []
   },
   "outputs": [
    {
     "data": {
      "text/plain": [
       "(TensorShape([180040, 20]),\n",
       " <tf.Tensor: shape=(10, 20), dtype=float32, numpy=\n",
       " array([[0., 0., 0., 0., 0., 0., 0., 0., 0., 0., 0., 1., 0., 0., 0., 0.,\n",
       "         0., 0., 0., 0.],\n",
       "        [0., 0., 0., 0., 0., 0., 0., 0., 0., 0., 0., 1., 0., 0., 0., 0.,\n",
       "         0., 0., 0., 0.],\n",
       "        [0., 0., 0., 0., 0., 0., 0., 0., 0., 0., 0., 1., 0., 0., 0., 0.,\n",
       "         0., 0., 0., 0.],\n",
       "        [0., 0., 0., 0., 0., 0., 0., 0., 0., 0., 0., 1., 0., 0., 0., 0.,\n",
       "         0., 0., 0., 0.],\n",
       "        [0., 0., 0., 0., 0., 0., 0., 0., 0., 0., 0., 1., 0., 0., 0., 0.,\n",
       "         0., 0., 0., 0.],\n",
       "        [0., 0., 0., 0., 0., 0., 0., 0., 0., 0., 0., 1., 0., 0., 0., 0.,\n",
       "         0., 0., 0., 0.],\n",
       "        [0., 0., 0., 0., 0., 0., 0., 0., 0., 0., 0., 1., 0., 0., 0., 0.,\n",
       "         0., 0., 0., 0.],\n",
       "        [0., 0., 0., 0., 0., 0., 0., 0., 0., 0., 0., 1., 0., 0., 0., 0.,\n",
       "         0., 0., 0., 0.],\n",
       "        [0., 0., 0., 0., 0., 0., 0., 0., 0., 0., 0., 1., 0., 0., 0., 0.,\n",
       "         0., 0., 0., 0.],\n",
       "        [0., 0., 0., 0., 0., 0., 0., 0., 0., 0., 0., 1., 0., 0., 0., 0.,\n",
       "         0., 0., 0., 0.]], dtype=float32)>)"
      ]
     },
     "execution_count": 85,
     "metadata": {},
     "output_type": "execute_result"
    }
   ],
   "source": [
    "# Use TensorFlow to create one-hot-encoded tensors of our \"total_lines\" column \n",
    "train_total_lines_one_hot = tf.one_hot(train_df[\"total_lines\"].to_numpy(),depth=20)\n",
    "val_total_lines_one_hot = tf.one_hot(val_df['total_lines'].to_numpy(),depth=20)\n",
    "test_total_lines_one_hot = tf.one_hot(test_df['total_lines'].to_numpy(),depth=20)\n",
    "\n",
    "# Check shape and samples of total lines one-hot tensor\n",
    "train_total_lines_one_hot.shape, train_total_lines_one_hot[:10]"
   ]
  },
  {
   "cell_type": "markdown",
   "id": "57ebd3c6",
   "metadata": {
    "papermill": {
     "duration": 2.784316,
     "end_time": "2022-04-10T04:46:18.697345",
     "exception": false,
     "start_time": "2022-04-10T04:46:15.913029",
     "status": "completed"
    },
    "tags": []
   },
   "source": [
    "### Building a tribrid embedding model\n",
    "\n",
    "1. Create a token-level model (similar to model_1)\n",
    "1. Create a character-level model \n",
    "1. Create a \"line_number\" model (takes in one-hot-encoded \"line_number\" tensor and passes it through a non-linear layer)\n",
    "1. Create a \"total_lines\" model (takes in one-hot-encoded \"total_lines\" tensor and passes it through a non-linear layer)\n",
    "1. Combine (using layers.Concatenate) the outputs of 1 and 2 into a token-character-hybrid embedding and pass it series of output .\n",
    "1. Combine (using layers.Concatenate) the outputs of 3, 4 and 5 into a token-character-positional tribrid embedding\n",
    "1. Create an output layer to accept the tribrid embedding and output predicted label probabilities\n",
    "1. Combine the inputs of 1, 2, 3, 4 and outputs of 7 into a tf.keras.Model"
   ]
  },
  {
   "cell_type": "code",
   "execution_count": 86,
   "id": "37737c29",
   "metadata": {
    "execution": {
     "iopub.execute_input": "2022-04-10T04:46:23.847326Z",
     "iopub.status.busy": "2022-04-10T04:46:23.846163Z",
     "iopub.status.idle": "2022-04-10T04:46:24.433141Z",
     "shell.execute_reply": "2022-04-10T04:46:24.433724Z"
    },
    "papermill": {
     "duration": 3.158487,
     "end_time": "2022-04-10T04:46:24.433887",
     "exception": false,
     "start_time": "2022-04-10T04:46:21.275400",
     "status": "completed"
    },
    "tags": []
   },
   "outputs": [],
   "source": [
    "# 1. Setup token inputs/model\n",
    "token_inputs = layers.Input(shape=[],dtype=tf.string,name=\"token_input\")\n",
    "token_embeddings = tf_hub_embedding_layer(token_inputs)\n",
    "x = layers.Dense(1024,activation='relu')(token_embeddings)\n",
    "token_output = layers.Dense(1024,activation='relu')(x)\n",
    "token_model = tf.keras.Model(inputs=token_inputs,\n",
    "                            outputs=token_output)\n",
    "\n",
    "\n",
    "# 2. Setup char inputs/model\n",
    "char_inputs = layers.Input(shape=(1,),dtype=tf.string,name=\"char_input\")\n",
    "char_vectors = char_vectorizer(char_inputs)\n",
    "char_embeddings = char_embed(char_vectors)\n",
    "char_bi_lstm = layers.Bidirectional(layers.LSTM(32))(char_embeddings)\n",
    "char_model = tf.keras.Model(inputs=char_inputs,\n",
    "                           outputs=char_bi_lstm)\n",
    "\n",
    "# 3. Line number Inputs\n",
    "line_number_inputs = layers.Input(shape=(15,),dtype=tf.int32, name=\"line_number_input\")\n",
    "x = layers.Dense(32,activation=\"relu\")(line_number_inputs)\n",
    "line_number_model = tf.keras.Model(inputs = line_number_inputs,\n",
    "                                  outputs=x)\n",
    "\n",
    "# 4. Total lines Inputs\n",
    "total_lines_inputs = layers.Input(shape=(20,),dtype=tf.int32, name=\"total_lines_input\")\n",
    "y = layers.Dense(32,activation=\"relu\")(total_lines_inputs)\n",
    "total_lines_model = tf.keras.Model(inputs = total_lines_inputs,\n",
    "                                  outputs=y)\n",
    "\n",
    "# 5. Combine token and char embeddings into a hybrid embedding\n",
    "combined_embeddings = layers.Concatenate(name=\"token_char_hybrid_embedding\")([token_model.output,char_model.output])\n",
    "\n",
    "# Addition of dropout\n",
    "#combined_dropout = layers.Dropout(0.5)(token_char_concat)\n",
    "z = layers.Dense(256,activation=\"relu\")(combined_embeddings)\n",
    "z = layers.Dropout(0.5)(z)\n",
    "\n",
    "# 6. Combine positional embeddings with combined token and char embeddings into a tribrid embedding\n",
    "z = layers.Concatenate(name=\"token_char_positional_embedding\")([line_number_model.output,\n",
    "                                                                total_lines_model.output,\n",
    "                                                                z])\n",
    "\n",
    "# 7. Create output layer\n",
    "output_layer = layers.Dense(5,activation=\"softmax\",name=\"output_layer\")(z)\n",
    "\n",
    "# 8. Put together model\n",
    "model_5 = tf.keras.Model(inputs = [line_number_model.input,\n",
    "                                   total_lines_model.input,\n",
    "                                   token_model.input,\n",
    "                                   char_model.input \n",
    "],outputs = output_layer)"
   ]
  },
  {
   "cell_type": "code",
   "execution_count": 87,
   "id": "a2e6b0f4",
   "metadata": {
    "execution": {
     "iopub.execute_input": "2022-04-10T04:46:29.893365Z",
     "iopub.status.busy": "2022-04-10T04:46:29.892319Z",
     "iopub.status.idle": "2022-04-10T04:46:29.903254Z",
     "shell.execute_reply": "2022-04-10T04:46:29.902592Z"
    },
    "papermill": {
     "duration": 2.909251,
     "end_time": "2022-04-10T04:46:29.903433",
     "exception": false,
     "start_time": "2022-04-10T04:46:26.994182",
     "status": "completed"
    },
    "tags": []
   },
   "outputs": [
    {
     "name": "stdout",
     "output_type": "stream",
     "text": [
      "Model: \"model_9\"\n",
      "__________________________________________________________________________________________________\n",
      "Layer (type)                    Output Shape         Param #     Connected to                     \n",
      "==================================================================================================\n",
      "token_input (InputLayer)        [(None,)]            0                                            \n",
      "__________________________________________________________________________________________________\n",
      "char_input (InputLayer)         [(None, 1)]          0                                            \n",
      "__________________________________________________________________________________________________\n",
      "universal_sentence_encoder (Ker (None, 512)          256797824   token_input[0][0]                \n",
      "__________________________________________________________________________________________________\n",
      "char_vectorizer (TextVectorizat (None, 290)          0           char_input[0][0]                 \n",
      "__________________________________________________________________________________________________\n",
      "dense_11 (Dense)                (None, 1024)         525312      universal_sentence_encoder[2][0] \n",
      "__________________________________________________________________________________________________\n",
      "char_embed (Embedding)          (None, 290, 24)      1680        char_vectorizer[2][0]            \n",
      "__________________________________________________________________________________________________\n",
      "dense_12 (Dense)                (None, 1024)         1049600     dense_11[0][0]                   \n",
      "__________________________________________________________________________________________________\n",
      "bidirectional_1 (Bidirectional) (None, 64)           14592       char_embed[2][0]                 \n",
      "__________________________________________________________________________________________________\n",
      "token_char_hybrid_embedding (Co (None, 1088)         0           dense_12[0][0]                   \n",
      "                                                                 bidirectional_1[0][0]            \n",
      "__________________________________________________________________________________________________\n",
      "line_number_input (InputLayer)  [(None, 15)]         0                                            \n",
      "__________________________________________________________________________________________________\n",
      "total_lines_input (InputLayer)  [(None, 20)]         0                                            \n",
      "__________________________________________________________________________________________________\n",
      "dense_15 (Dense)                (None, 256)          278784      token_char_hybrid_embedding[0][0]\n",
      "__________________________________________________________________________________________________\n",
      "dense_13 (Dense)                (None, 32)           512         line_number_input[0][0]          \n",
      "__________________________________________________________________________________________________\n",
      "dense_14 (Dense)                (None, 32)           672         total_lines_input[0][0]          \n",
      "__________________________________________________________________________________________________\n",
      "dropout_2 (Dropout)             (None, 256)          0           dense_15[0][0]                   \n",
      "__________________________________________________________________________________________________\n",
      "token_char_positional_embedding (None, 320)          0           dense_13[0][0]                   \n",
      "                                                                 dense_14[0][0]                   \n",
      "                                                                 dropout_2[0][0]                  \n",
      "__________________________________________________________________________________________________\n",
      "output_layer (Dense)            (None, 5)            1605        token_char_positional_embedding[0\n",
      "==================================================================================================\n",
      "Total params: 258,670,581\n",
      "Trainable params: 1,872,757\n",
      "Non-trainable params: 256,797,824\n",
      "__________________________________________________________________________________________________\n"
     ]
    }
   ],
   "source": [
    "model_5.summary()"
   ]
  },
  {
   "cell_type": "code",
   "execution_count": 88,
   "id": "1b84570b",
   "metadata": {
    "execution": {
     "iopub.execute_input": "2022-04-10T04:46:35.034688Z",
     "iopub.status.busy": "2022-04-10T04:46:35.033704Z",
     "iopub.status.idle": "2022-04-10T04:46:35.291751Z",
     "shell.execute_reply": "2022-04-10T04:46:35.292354Z"
    },
    "papermill": {
     "duration": 2.807783,
     "end_time": "2022-04-10T04:46:35.292571",
     "exception": false,
     "start_time": "2022-04-10T04:46:32.484788",
     "status": "completed"
    },
    "tags": []
   },
   "outputs": [
    {
     "data": {
      "image/png": "[encoded data removed]",
      "text/plain": [
       "<IPython.core.display.Image object>"
      ]
     },
     "execution_count": 88,
     "metadata": {},
     "output_type": "execute_result"
    }
   ],
   "source": [
    "from tensorflow.keras.utils import plot_model\n",
    "plot_model(model_5)"
   ]
  },
  {
   "cell_type": "code",
   "execution_count": 89,
   "id": "e4bdde44",
   "metadata": {
    "execution": {
     "iopub.execute_input": "2022-04-10T04:46:41.112801Z",
     "iopub.status.busy": "2022-04-10T04:46:41.111732Z",
     "iopub.status.idle": "2022-04-10T04:46:41.120021Z",
     "shell.execute_reply": "2022-04-10T04:46:41.120768Z"
    },
    "papermill": {
     "duration": 3.233724,
     "end_time": "2022-04-10T04:46:41.120984",
     "exception": false,
     "start_time": "2022-04-10T04:46:37.887260",
     "status": "completed"
    },
    "tags": []
   },
   "outputs": [],
   "source": [
    "model_5.compile(loss=tf.keras.losses.CategoricalCrossentropy(label_smoothing=0.2),\n",
    "               optimizer=tf.keras.optimizers.Adam(),\n",
    "               metrics=['accuracy'])"
   ]
  },
  {
   "cell_type": "markdown",
   "id": "a50b8ff3",
   "metadata": {
    "papermill": {
     "duration": 2.528835,
     "end_time": "2022-04-10T04:46:46.388121",
     "exception": false,
     "start_time": "2022-04-10T04:46:43.859286",
     "status": "completed"
    },
    "tags": []
   },
   "source": [
    "### Create tribrid embedding datasets and fit tribrid model"
   ]
  },
  {
   "cell_type": "code",
   "execution_count": 90,
   "id": "1acf6e31",
   "metadata": {
    "execution": {
     "iopub.execute_input": "2022-04-10T04:46:51.823917Z",
     "iopub.status.busy": "2022-04-10T04:46:51.823013Z",
     "iopub.status.idle": "2022-04-10T04:46:53.938035Z",
     "shell.execute_reply": "2022-04-10T04:46:53.938641Z"
    },
    "papermill": {
     "duration": 4.948548,
     "end_time": "2022-04-10T04:46:53.938793",
     "exception": false,
     "start_time": "2022-04-10T04:46:48.990245",
     "status": "completed"
    },
    "tags": []
   },
   "outputs": [
    {
     "data": {
      "text/plain": [
       "(<PrefetchDataset shapes: (((None, 15), (None, 20), (None,), (None,)), (None, 5)), types: ((tf.float32, tf.float32, tf.string, tf.string), tf.float64)>,\n",
       " <PrefetchDataset shapes: (((None, 15), (None, 20), (None,), (None,)), (None, 5)), types: ((tf.float32, tf.float32, tf.string, tf.string), tf.float64)>)"
      ]
     },
     "execution_count": 90,
     "metadata": {},
     "output_type": "execute_result"
    }
   ],
   "source": [
    "# Create training and validation datasets (all four kinds of inputs)\n",
    "train_pos_char_token_data = tf.data.Dataset.from_tensor_slices((train_line_numbers_one_hot,\n",
    "                                                          train_total_lines_one_hot,\n",
    "                                                          train_sentences,\n",
    "                                                           train_chars))\n",
    "\n",
    "train_pos_char_token_labels = tf.data.Dataset.from_tensor_slices(train_labels_one_hot)\n",
    "\n",
    "train_pos_char_token_dataset = train_pos_char_token_dataset = tf.data.Dataset.zip((train_pos_char_token_data, train_pos_char_token_labels))\n",
    "\n",
    "train_pos_char_token_dataset = train_pos_char_token_dataset.batch(32).prefetch(tf.data.AUTOTUNE)\n",
    "\n",
    "# Validation dataset\n",
    "val_pos_char_token_data = tf.data.Dataset.from_tensor_slices((val_line_numbers_one_hot,\n",
    "                                                              val_total_lines_one_hot,\n",
    "                                                              val_sentences,\n",
    "                                                              valid_chars))\n",
    "val_pos_char_token_labels = tf.data.Dataset.from_tensor_slices(val_labels_one_hot)\n",
    "val_pos_char_token_dataset = tf.data.Dataset.zip((val_pos_char_token_data, val_pos_char_token_labels))\n",
    "val_pos_char_token_dataset = val_pos_char_token_dataset.batch(32).prefetch(tf.data.AUTOTUNE) # turn into batches and prefetch appropriately\n",
    "\n",
    "# Check input shapes\n",
    "train_pos_char_token_dataset, val_pos_char_token_dataset"
   ]
  },
  {
   "cell_type": "code",
   "execution_count": 91,
   "id": "361516b9",
   "metadata": {
    "execution": {
     "iopub.execute_input": "2022-04-10T04:46:59.201678Z",
     "iopub.status.busy": "2022-04-10T04:46:59.200685Z",
     "iopub.status.idle": "2022-04-10T04:51:25.555733Z",
     "shell.execute_reply": "2022-04-10T04:51:25.555196Z"
    },
    "papermill": {
     "duration": 269.071931,
     "end_time": "2022-04-10T04:51:25.555868",
     "exception": false,
     "start_time": "2022-04-10T04:46:56.483937",
     "status": "completed"
    },
    "tags": []
   },
   "outputs": [
    {
     "name": "stdout",
     "output_type": "stream",
     "text": [
      "Epoch 1/5\n",
      "1125/1125 [==============================] - 51s 42ms/step - loss: 1.0233 - accuracy: 0.7768 - val_loss: 0.9344 - val_accuracy: 0.8328\n",
      "Epoch 2/5\n",
      "1125/1125 [==============================] - 45s 40ms/step - loss: 0.9404 - accuracy: 0.8311 - val_loss: 0.9215 - val_accuracy: 0.8320\n",
      "Epoch 3/5\n",
      "1125/1125 [==============================] - 46s 41ms/step - loss: 0.9342 - accuracy: 0.8331 - val_loss: 0.9067 - val_accuracy: 0.8480\n",
      "Epoch 4/5\n",
      "1125/1125 [==============================] - 46s 41ms/step - loss: 0.9222 - accuracy: 0.8434 - val_loss: 0.8995 - val_accuracy: 0.8583\n",
      "Epoch 5/5\n",
      "1125/1125 [==============================] - 47s 41ms/step - loss: 0.9198 - accuracy: 0.8453 - val_loss: 0.9010 - val_accuracy: 0.8490\n"
     ]
    }
   ],
   "source": [
    "history_model_5 = model_5.fit(train_pos_char_token_dataset,\n",
    "                             steps_per_epoch = int(0.2*len(train_pos_char_token_dataset)),\n",
    "                             epochs=5,\n",
    "                             validation_data = val_pos_char_token_dataset,\n",
    "                             validation_steps = int(0.2*len(val_pos_char_token_dataset)))"
   ]
  },
  {
   "cell_type": "code",
   "execution_count": 92,
   "id": "612879ee",
   "metadata": {
    "execution": {
     "iopub.execute_input": "2022-04-10T04:51:33.378444Z",
     "iopub.status.busy": "2022-04-10T04:51:33.377640Z",
     "iopub.status.idle": "2022-04-10T04:51:56.548003Z",
     "shell.execute_reply": "2022-04-10T04:51:56.547450Z"
    },
    "papermill": {
     "duration": 27.424846,
     "end_time": "2022-04-10T04:51:56.548145",
     "exception": false,
     "start_time": "2022-04-10T04:51:29.123299",
     "status": "completed"
    },
    "tags": []
   },
   "outputs": [
    {
     "name": "stdout",
     "output_type": "stream",
     "text": [
      "945/945 [==============================] - 23s 24ms/step - loss: 0.9031 - accuracy: 0.8486\n"
     ]
    },
    {
     "data": {
      "text/plain": [
       "[0.9031253457069397, 0.8486363291740417]"
      ]
     },
     "execution_count": 92,
     "metadata": {},
     "output_type": "execute_result"
    }
   ],
   "source": [
    "model_5.evaluate(val_pos_char_token_dataset)"
   ]
  },
  {
   "cell_type": "code",
   "execution_count": 93,
   "id": "95801eae",
   "metadata": {
    "execution": {
     "iopub.execute_input": "2022-04-10T04:52:04.960208Z",
     "iopub.status.busy": "2022-04-10T04:52:04.959356Z",
     "iopub.status.idle": "2022-04-10T04:52:27.562975Z",
     "shell.execute_reply": "2022-04-10T04:52:27.562148Z"
    },
    "papermill": {
     "duration": 26.865449,
     "end_time": "2022-04-10T04:52:27.563109",
     "exception": false,
     "start_time": "2022-04-10T04:52:00.697660",
     "status": "completed"
    },
    "tags": []
   },
   "outputs": [
    {
     "name": "stdout",
     "output_type": "stream",
     "text": [
      "945/945 [==============================] - 23s 23ms/step\n"
     ]
    },
    {
     "data": {
      "text/plain": [
       "array([[0.53943825, 0.08609208, 0.02683882, 0.3094004 , 0.03823049],\n",
       "       [0.55447465, 0.1063095 , 0.08329837, 0.226085  , 0.02983251],\n",
       "       [0.3878004 , 0.09073885, 0.09127869, 0.37159485, 0.05858722],\n",
       "       ...,\n",
       "       [0.02879129, 0.08947871, 0.02269344, 0.03309314, 0.82594347],\n",
       "       [0.0234911 , 0.36624473, 0.03389691, 0.02514307, 0.5512242 ],\n",
       "       [0.0841895 , 0.8409769 , 0.02328129, 0.03475738, 0.01679492]],\n",
       "      dtype=float32)"
      ]
     },
     "execution_count": 93,
     "metadata": {},
     "output_type": "execute_result"
    }
   ],
   "source": [
    "model_5_pred_probs = model_5.predict(val_pos_char_token_dataset, verbose=1)\n",
    "model_5_pred_probs"
   ]
  },
  {
   "cell_type": "code",
   "execution_count": 94,
   "id": "88466a2d",
   "metadata": {
    "execution": {
     "iopub.execute_input": "2022-04-10T04:52:35.621751Z",
     "iopub.status.busy": "2022-04-10T04:52:35.620852Z",
     "iopub.status.idle": "2022-04-10T04:52:35.629788Z",
     "shell.execute_reply": "2022-04-10T04:52:35.630528Z"
    },
    "papermill": {
     "duration": 3.984907,
     "end_time": "2022-04-10T04:52:35.630758",
     "exception": false,
     "start_time": "2022-04-10T04:52:31.645851",
     "status": "completed"
    },
    "tags": []
   },
   "outputs": [
    {
     "data": {
      "text/plain": [
       "<tf.Tensor: shape=(30212,), dtype=int64, numpy=array([0, 0, 0, ..., 4, 4, 1])>"
      ]
     },
     "execution_count": 94,
     "metadata": {},
     "output_type": "execute_result"
    }
   ],
   "source": [
    "model_5_preds = tf.argmax(model_5_pred_probs, axis=1)\n",
    "model_5_preds"
   ]
  },
  {
   "cell_type": "code",
   "execution_count": 95,
   "id": "8521b5f2",
   "metadata": {
    "execution": {
     "iopub.execute_input": "2022-04-10T04:52:43.912232Z",
     "iopub.status.busy": "2022-04-10T04:52:43.911382Z",
     "iopub.status.idle": "2022-04-10T04:52:43.926959Z",
     "shell.execute_reply": "2022-04-10T04:52:43.927430Z"
    },
    "papermill": {
     "duration": 4.150661,
     "end_time": "2022-04-10T04:52:43.927612",
     "exception": false,
     "start_time": "2022-04-10T04:52:39.776951",
     "status": "completed"
    },
    "tags": []
   },
   "outputs": [
    {
     "data": {
      "text/plain": [
       "{'accuracy': 84.86363034555806,\n",
       " 'precision': 0.8491923715419698,\n",
       " 'recall': 0.8486363034555806,\n",
       " 'f1-score': 0.8453371962263897}"
      ]
     },
     "execution_count": 95,
     "metadata": {},
     "output_type": "execute_result"
    }
   ],
   "source": [
    "model_5_results = calculate_results(y_true=val_labels_encoded,\n",
    "                                    y_pred=model_5_preds)\n",
    "model_5_results"
   ]
  },
  {
   "cell_type": "markdown",
   "id": "205a0568",
   "metadata": {
    "papermill": {
     "duration": 3.904423,
     "end_time": "2022-04-10T04:52:51.593902",
     "exception": false,
     "start_time": "2022-04-10T04:52:47.689479",
     "status": "completed"
    },
    "tags": []
   },
   "source": [
    "## Compare model results"
   ]
  },
  {
   "cell_type": "code",
   "execution_count": 96,
   "id": "26c36937",
   "metadata": {
    "execution": {
     "iopub.execute_input": "2022-04-10T04:52:59.701166Z",
     "iopub.status.busy": "2022-04-10T04:52:59.700377Z",
     "iopub.status.idle": "2022-04-10T04:52:59.703759Z",
     "shell.execute_reply": "2022-04-10T04:52:59.704229Z"
    },
    "papermill": {
     "duration": 3.894562,
     "end_time": "2022-04-10T04:52:59.704398",
     "exception": false,
     "start_time": "2022-04-10T04:52:55.809836",
     "status": "completed"
    },
    "tags": []
   },
   "outputs": [
    {
     "data": {
      "text/html": [
       "<div>\n",
       "<style scoped>\n",
       "    .dataframe tbody tr th:only-of-type {\n",
       "        vertical-align: middle;\n",
       "    }\n",
       "\n",
       "    .dataframe tbody tr th {\n",
       "        vertical-align: top;\n",
       "    }\n",
       "\n",
       "    .dataframe thead th {\n",
       "        text-align: right;\n",
       "    }\n",
       "</style>\n",
       "<table border=\"1\" class=\"dataframe\">\n",
       "  <thead>\n",
       "    <tr style=\"text-align: right;\">\n",
       "      <th></th>\n",
       "      <th>accuracy</th>\n",
       "      <th>precision</th>\n",
       "      <th>recall</th>\n",
       "      <th>f1-score</th>\n",
       "    </tr>\n",
       "  </thead>\n",
       "  <tbody>\n",
       "    <tr>\n",
       "      <th>baseline</th>\n",
       "      <td>72.183238</td>\n",
       "      <td>0.718647</td>\n",
       "      <td>0.721832</td>\n",
       "      <td>0.698925</td>\n",
       "    </tr>\n",
       "    <tr>\n",
       "      <th>custom_token_embed_conv1d</th>\n",
       "      <td>81.153184</td>\n",
       "      <td>0.808988</td>\n",
       "      <td>0.811532</td>\n",
       "      <td>0.807639</td>\n",
       "    </tr>\n",
       "    <tr>\n",
       "      <th>pretrained_token_embed</th>\n",
       "      <td>77.211042</td>\n",
       "      <td>0.768078</td>\n",
       "      <td>0.772110</td>\n",
       "      <td>0.768191</td>\n",
       "    </tr>\n",
       "    <tr>\n",
       "      <th>custom_char_embed_conv1d</th>\n",
       "      <td>77.247451</td>\n",
       "      <td>0.774498</td>\n",
       "      <td>0.772475</td>\n",
       "      <td>0.768396</td>\n",
       "    </tr>\n",
       "    <tr>\n",
       "      <th>hybrid_char_token_embed</th>\n",
       "      <td>77.641335</td>\n",
       "      <td>0.772896</td>\n",
       "      <td>0.776413</td>\n",
       "      <td>0.772971</td>\n",
       "    </tr>\n",
       "    <tr>\n",
       "      <th>tribrid_pos_char_token_embed</th>\n",
       "      <td>84.863630</td>\n",
       "      <td>0.849192</td>\n",
       "      <td>0.848636</td>\n",
       "      <td>0.845337</td>\n",
       "    </tr>\n",
       "  </tbody>\n",
       "</table>\n",
       "</div>"
      ],
      "text/plain": [
       "                               accuracy  precision    recall  f1-score\n",
       "baseline                      72.183238   0.718647  0.721832  0.698925\n",
       "custom_token_embed_conv1d     81.153184   0.808988  0.811532  0.807639\n",
       "pretrained_token_embed        77.211042   0.768078  0.772110  0.768191\n",
       "custom_char_embed_conv1d      77.247451   0.774498  0.772475  0.768396\n",
       "hybrid_char_token_embed       77.641335   0.772896  0.776413  0.772971\n",
       "tribrid_pos_char_token_embed  84.863630   0.849192  0.848636  0.845337"
      ]
     },
     "execution_count": 96,
     "metadata": {},
     "output_type": "execute_result"
    }
   ],
   "source": [
    "# Combine model results into a DataFrame\n",
    "all_model_results = pd.DataFrame({\"baseline\": baseline_results,\n",
    "                                  \"custom_token_embed_conv1d\": model_1_results,\n",
    "                                  \"pretrained_token_embed\": model_2_results,\n",
    "                                  \"custom_char_embed_conv1d\": model_3_results,\n",
    "                                  \"hybrid_char_token_embed\": model_4_results,\n",
    "                                  \"tribrid_pos_char_token_embed\": model_5_results})\n",
    "all_model_results = all_model_results.transpose()\n",
    "all_model_results"
   ]
  },
  {
   "cell_type": "code",
   "execution_count": 97,
   "id": "fc5149a8",
   "metadata": {
    "execution": {
     "iopub.execute_input": "2022-04-10T04:53:07.676873Z",
     "iopub.status.busy": "2022-04-10T04:53:07.675137Z",
     "iopub.status.idle": "2022-04-10T04:53:07.677611Z",
     "shell.execute_reply": "2022-04-10T04:53:07.678257Z"
    },
    "papermill": {
     "duration": 3.937208,
     "end_time": "2022-04-10T04:53:07.678490",
     "exception": false,
     "start_time": "2022-04-10T04:53:03.741282",
     "status": "completed"
    },
    "tags": []
   },
   "outputs": [],
   "source": [
    "# Reduce the accuracy to same scale as other metrics\n",
    "all_model_results[\"accuracy\"] = all_model_results[\"accuracy\"]/100"
   ]
  },
  {
   "cell_type": "code",
   "execution_count": 98,
   "id": "c893b33d",
   "metadata": {
    "execution": {
     "iopub.execute_input": "2022-04-10T04:53:15.982068Z",
     "iopub.status.busy": "2022-04-10T04:53:15.981083Z",
     "iopub.status.idle": "2022-04-10T04:53:16.317496Z",
     "shell.execute_reply": "2022-04-10T04:53:16.317922Z"
    },
    "papermill": {
     "duration": 4.423313,
     "end_time": "2022-04-10T04:53:16.318085",
     "exception": false,
     "start_time": "2022-04-10T04:53:11.894772",
     "status": "completed"
    },
    "tags": []
   },
   "outputs": [
    {
     "data": {
      "image/png": "[encoded data removed]",
      "text/plain": [
       "<Figure size 720x504 with 1 Axes>"
      ]
     },
     "metadata": {
      "needs_background": "light"
     },
     "output_type": "display_data"
    }
   ],
   "source": [
    "# Plot and compare all of the model results\n",
    "all_model_results.plot(kind=\"bar\", figsize=(10, 7)).legend(bbox_to_anchor=(1.0, 1.0));"
   ]
  },
  {
   "cell_type": "code",
   "execution_count": 99,
   "id": "964a006f",
   "metadata": {
    "execution": {
     "iopub.execute_input": "2022-04-10T04:53:23.989792Z",
     "iopub.status.busy": "2022-04-10T04:53:23.987748Z",
     "iopub.status.idle": "2022-04-10T04:53:24.216357Z",
     "shell.execute_reply": "2022-04-10T04:53:24.216834Z"
    },
    "papermill": {
     "duration": 4.128189,
     "end_time": "2022-04-10T04:53:24.217021",
     "exception": false,
     "start_time": "2022-04-10T04:53:20.088832",
     "status": "completed"
    },
    "tags": []
   },
   "outputs": [
    {
     "data": {
      "image/png": "[encoded data removed]",
      "text/plain": [
       "<Figure size 720x504 with 1 Axes>"
      ]
     },
     "metadata": {
      "needs_background": "light"
     },
     "output_type": "display_data"
    }
   ],
   "source": [
    "all_model_results.sort_values(\"f1-score\", ascending=False)[\"f1-score\"].plot(kind=\"bar\", figsize=(10, 7));"
   ]
  },
  {
   "cell_type": "markdown",
   "id": "cb78ae3e",
   "metadata": {
    "papermill": {
     "duration": 3.87825,
     "end_time": "2022-04-10T04:53:32.162030",
     "exception": false,
     "start_time": "2022-04-10T04:53:28.283780",
     "status": "completed"
    },
    "tags": []
   },
   "source": [
    "## Save and load best performing model"
   ]
  },
  {
   "cell_type": "code",
   "execution_count": 100,
   "id": "0826644e",
   "metadata": {
    "execution": {
     "iopub.execute_input": "2022-04-10T04:53:40.271991Z",
     "iopub.status.busy": "2022-04-10T04:53:40.271170Z",
     "iopub.status.idle": "2022-04-10T04:54:00.865171Z",
     "shell.execute_reply": "2022-04-10T04:54:00.862952Z"
    },
    "papermill": {
     "duration": 24.951603,
     "end_time": "2022-04-10T04:54:00.865351",
     "exception": false,
     "start_time": "2022-04-10T04:53:35.913748",
     "status": "completed"
    },
    "tags": []
   },
   "outputs": [
    {
     "name": "stderr",
     "output_type": "stream",
     "text": [
      "2022-04-10 04:53:46.778410: W tensorflow/python/util/util.cc:348] Sets are not currently considered sequences, but this may change in the future, so consider avoiding using them.\n"
     ]
    }
   ],
   "source": [
    "model_5.save(\"skimlit_tribrid_model\")"
   ]
  },
  {
   "cell_type": "code",
   "execution_count": 101,
   "id": "a1bcf819",
   "metadata": {
    "execution": {
     "iopub.execute_input": "2022-04-10T04:54:08.940117Z",
     "iopub.status.busy": "2022-04-10T04:54:08.938756Z",
     "iopub.status.idle": "2022-04-10T04:54:23.363281Z",
     "shell.execute_reply": "2022-04-10T04:54:23.362532Z"
    },
    "papermill": {
     "duration": 18.612751,
     "end_time": "2022-04-10T04:54:23.363480",
     "exception": false,
     "start_time": "2022-04-10T04:54:04.750729",
     "status": "completed"
    },
    "tags": []
   },
   "outputs": [],
   "source": [
    "# Load downloaded model from Google Storage\n",
    "loaded_model = tf.keras.models.load_model(\"./skimlit_tribrid_model\")"
   ]
  },
  {
   "cell_type": "code",
   "execution_count": 102,
   "id": "6a1cd0dd",
   "metadata": {
    "execution": {
     "iopub.execute_input": "2022-04-10T04:54:31.041563Z",
     "iopub.status.busy": "2022-04-10T04:54:31.040273Z",
     "iopub.status.idle": "2022-04-10T04:57:08.618062Z",
     "shell.execute_reply": "2022-04-10T04:57:08.617489Z"
    },
    "papermill": {
     "duration": 161.490463,
     "end_time": "2022-04-10T04:57:08.618185",
     "exception": false,
     "start_time": "2022-04-10T04:54:27.127722",
     "status": "completed"
    },
    "tags": []
   },
   "outputs": [
    {
     "name": "stdout",
     "output_type": "stream",
     "text": [
      "945/945 [==============================] - 158s 166ms/step\n"
     ]
    },
    {
     "data": {
      "text/plain": [
       "<tf.Tensor: shape=(10,), dtype=int64, numpy=array([0, 0, 0, 2, 2, 4, 4, 4, 4, 1])>"
      ]
     },
     "execution_count": 102,
     "metadata": {},
     "output_type": "execute_result"
    }
   ],
   "source": [
    "loaded_pred_probs = loaded_model.predict(val_pos_char_token_dataset, verbose=1)\n",
    "loaded_preds = tf.argmax(loaded_pred_probs, axis=1)\n",
    "loaded_preds[:10]"
   ]
  },
  {
   "cell_type": "code",
   "execution_count": 103,
   "id": "c4d42245",
   "metadata": {
    "execution": {
     "iopub.execute_input": "2022-04-10T04:57:17.234276Z",
     "iopub.status.busy": "2022-04-10T04:57:17.233567Z",
     "iopub.status.idle": "2022-04-10T04:57:17.249512Z",
     "shell.execute_reply": "2022-04-10T04:57:17.249969Z"
    },
    "papermill": {
     "duration": 4.422254,
     "end_time": "2022-04-10T04:57:17.250138",
     "exception": false,
     "start_time": "2022-04-10T04:57:12.827884",
     "status": "completed"
    },
    "tags": []
   },
   "outputs": [
    {
     "data": {
      "text/plain": [
       "{'accuracy': 84.89672977624785,\n",
       " 'precision': 0.8492855932262636,\n",
       " 'recall': 0.8489672977624785,\n",
       " 'f1-score': 0.84549361344781}"
      ]
     },
     "execution_count": 103,
     "metadata": {},
     "output_type": "execute_result"
    }
   ],
   "source": [
    "loaded_model_results = calculate_results(val_labels_encoded,loaded_preds)\n",
    "loaded_model_results"
   ]
  },
  {
   "cell_type": "markdown",
   "id": "2e3ec23f",
   "metadata": {
    "papermill": {
     "duration": 4.180368,
     "end_time": "2022-04-10T04:57:25.582418",
     "exception": false,
     "start_time": "2022-04-10T04:57:21.402050",
     "status": "completed"
    },
    "tags": []
   },
   "source": [
    "## Evaluate model on test dataset"
   ]
  },
  {
   "cell_type": "code",
   "execution_count": 104,
   "id": "c6737e0f",
   "metadata": {
    "execution": {
     "iopub.execute_input": "2022-04-10T04:57:34.816515Z",
     "iopub.status.busy": "2022-04-10T04:57:34.811274Z",
     "iopub.status.idle": "2022-04-10T04:57:35.111700Z",
     "shell.execute_reply": "2022-04-10T04:57:35.111124Z"
    },
    "papermill": {
     "duration": 4.402092,
     "end_time": "2022-04-10T04:57:35.111830",
     "exception": false,
     "start_time": "2022-04-10T04:57:30.709738",
     "status": "completed"
    },
    "tags": []
   },
   "outputs": [
    {
     "data": {
      "text/plain": [
       "<PrefetchDataset shapes: (((None, 15), (None, 20), (None,), (None,)), (None, 5)), types: ((tf.float32, tf.float32, tf.string, tf.string), tf.float64)>"
      ]
     },
     "execution_count": 104,
     "metadata": {},
     "output_type": "execute_result"
    }
   ],
   "source": [
    "# Create test dataset batch and prefetched\n",
    "test_pos_char_token_data = tf.data.Dataset.from_tensor_slices((test_line_number_one_hot,\n",
    "                                                              test_total_lines_one_hot,\n",
    "                                                              test_sentences,\n",
    "                                                              test_chars))\n",
    "\n",
    "test_pos_char_token_labels = tf.data.Dataset.from_tensor_slices(test_labels_one_hot)\n",
    "\n",
    "test_pos_char_token_dataset = tf.data.Dataset.zip((test_pos_char_token_data,test_pos_char_token_labels))\n",
    "test_pos_char_token_dataset = test_pos_char_token_dataset.batch(32).prefetch(tf.data.AUTOTUNE)\n",
    "\n",
    "# Check shapes\n",
    "test_pos_char_token_dataset"
   ]
  },
  {
   "cell_type": "code",
   "execution_count": 105,
   "id": "f737aa4d",
   "metadata": {
    "execution": {
     "iopub.execute_input": "2022-04-10T04:57:43.762174Z",
     "iopub.status.busy": "2022-04-10T04:57:43.761242Z",
     "iopub.status.idle": "2022-04-10T05:01:10.383386Z",
     "shell.execute_reply": "2022-04-10T05:01:10.384072Z"
    },
    "papermill": {
     "duration": 210.801631,
     "end_time": "2022-04-10T05:01:10.384237",
     "exception": false,
     "start_time": "2022-04-10T04:57:39.582606",
     "status": "completed"
    },
    "tags": []
   },
   "outputs": [
    {
     "name": "stdout",
     "output_type": "stream",
     "text": [
      "942/942 [==============================] - 157s 167ms/step\n"
     ]
    },
    {
     "data": {
      "text/plain": [
       "<tf.Tensor: shape=(10,), dtype=int64, numpy=array([0, 2, 2, 2, 4, 4, 4, 1, 1, 0])>"
      ]
     },
     "execution_count": 105,
     "metadata": {},
     "output_type": "execute_result"
    }
   ],
   "source": [
    "# Make predictions on the test dataset\n",
    "test_pred_probs = loaded_model.predict(test_pos_char_token_dataset,verbose=1)\n",
    "test_preds = tf.argmax(test_pred_probs,axis=1)\n",
    "test_preds[:10]"
   ]
  },
  {
   "cell_type": "code",
   "execution_count": 106,
   "id": "d65a3ea9",
   "metadata": {
    "execution": {
     "iopub.execute_input": "2022-04-10T05:01:20.015015Z",
     "iopub.status.busy": "2022-04-10T05:01:20.014057Z",
     "iopub.status.idle": "2022-04-10T05:01:20.029934Z",
     "shell.execute_reply": "2022-04-10T05:01:20.030475Z"
    },
    "papermill": {
     "duration": 4.671398,
     "end_time": "2022-04-10T05:01:20.030628",
     "exception": false,
     "start_time": "2022-04-10T05:01:15.359230",
     "status": "completed"
    },
    "tags": []
   },
   "outputs": [
    {
     "data": {
      "text/plain": [
       "{'accuracy': 84.39024390243902,\n",
       " 'precision': 0.8431245123129748,\n",
       " 'recall': 0.8439024390243902,\n",
       " 'f1-score': 0.8404709165125548}"
      ]
     },
     "execution_count": 106,
     "metadata": {},
     "output_type": "execute_result"
    }
   ],
   "source": [
    "# Evaluate loaded model test predictions\n",
    "loaded_model_test_results = calculate_results(y_true=test_labels_encoded,\n",
    "                                              y_pred=test_preds)\n",
    "loaded_model_test_results"
   ]
  },
  {
   "cell_type": "markdown",
   "id": "74d31528",
   "metadata": {
    "papermill": {
     "duration": 4.323994,
     "end_time": "2022-04-10T05:01:28.788549",
     "exception": false,
     "start_time": "2022-04-10T05:01:24.464555",
     "status": "completed"
    },
    "tags": []
   },
   "source": [
    "## Find most wrong Predictions"
   ]
  },
  {
   "cell_type": "code",
   "execution_count": 107,
   "id": "3319b367",
   "metadata": {
    "execution": {
     "iopub.execute_input": "2022-04-10T05:01:37.908719Z",
     "iopub.status.busy": "2022-04-10T05:01:37.907816Z",
     "iopub.status.idle": "2022-04-10T05:01:48.461634Z",
     "shell.execute_reply": "2022-04-10T05:01:48.460664Z"
    },
    "papermill": {
     "duration": 14.963296,
     "end_time": "2022-04-10T05:01:48.461772",
     "exception": false,
     "start_time": "2022-04-10T05:01:33.498476",
     "status": "completed"
    },
    "tags": []
   },
   "outputs": [],
   "source": [
    "# Get list of class names of test predictions\n",
    "test_pred_classes = [label_encoder.classes_[pred] for pred in test_preds]"
   ]
  },
  {
   "cell_type": "code",
   "execution_count": 108,
   "id": "e43319f5",
   "metadata": {
    "execution": {
     "iopub.execute_input": "2022-04-10T05:01:57.557445Z",
     "iopub.status.busy": "2022-04-10T05:01:57.556452Z",
     "iopub.status.idle": "2022-04-10T05:01:57.579315Z",
     "shell.execute_reply": "2022-04-10T05:01:57.579752Z"
    },
    "papermill": {
     "duration": 4.407212,
     "end_time": "2022-04-10T05:01:57.579900",
     "exception": false,
     "start_time": "2022-04-10T05:01:53.172688",
     "status": "completed"
    },
    "tags": []
   },
   "outputs": [
    {
     "data": {
      "text/html": [
       "<div>\n",
       "<style scoped>\n",
       "    .dataframe tbody tr th:only-of-type {\n",
       "        vertical-align: middle;\n",
       "    }\n",
       "\n",
       "    .dataframe tbody tr th {\n",
       "        vertical-align: top;\n",
       "    }\n",
       "\n",
       "    .dataframe thead th {\n",
       "        text-align: right;\n",
       "    }\n",
       "</style>\n",
       "<table border=\"1\" class=\"dataframe\">\n",
       "  <thead>\n",
       "    <tr style=\"text-align: right;\">\n",
       "      <th></th>\n",
       "      <th>target</th>\n",
       "      <th>text</th>\n",
       "      <th>line_number</th>\n",
       "      <th>total_lines</th>\n",
       "      <th>prediction</th>\n",
       "      <th>pred_prob</th>\n",
       "      <th>correct</th>\n",
       "    </tr>\n",
       "  </thead>\n",
       "  <tbody>\n",
       "    <tr>\n",
       "      <th>0</th>\n",
       "      <td>BACKGROUND</td>\n",
       "      <td>this study analyzed liver function abnormaliti...</td>\n",
       "      <td>0</td>\n",
       "      <td>8</td>\n",
       "      <td>BACKGROUND</td>\n",
       "      <td>0.352553</td>\n",
       "      <td>True</td>\n",
       "    </tr>\n",
       "    <tr>\n",
       "      <th>1</th>\n",
       "      <td>RESULTS</td>\n",
       "      <td>a post hoc analysis was conducted with the use...</td>\n",
       "      <td>1</td>\n",
       "      <td>8</td>\n",
       "      <td>METHODS</td>\n",
       "      <td>0.613585</td>\n",
       "      <td>False</td>\n",
       "    </tr>\n",
       "    <tr>\n",
       "      <th>2</th>\n",
       "      <td>RESULTS</td>\n",
       "      <td>liver function tests ( lfts ) were measured at...</td>\n",
       "      <td>2</td>\n",
       "      <td>8</td>\n",
       "      <td>METHODS</td>\n",
       "      <td>0.774262</td>\n",
       "      <td>False</td>\n",
       "    </tr>\n",
       "    <tr>\n",
       "      <th>3</th>\n",
       "      <td>RESULTS</td>\n",
       "      <td>survival analyses were used to assess the asso...</td>\n",
       "      <td>3</td>\n",
       "      <td>8</td>\n",
       "      <td>METHODS</td>\n",
       "      <td>0.716220</td>\n",
       "      <td>False</td>\n",
       "    </tr>\n",
       "    <tr>\n",
       "      <th>4</th>\n",
       "      <td>RESULTS</td>\n",
       "      <td>the percentage of patients with abnormal lfts ...</td>\n",
       "      <td>4</td>\n",
       "      <td>8</td>\n",
       "      <td>RESULTS</td>\n",
       "      <td>0.693792</td>\n",
       "      <td>True</td>\n",
       "    </tr>\n",
       "    <tr>\n",
       "      <th>5</th>\n",
       "      <td>RESULTS</td>\n",
       "      <td>when mean hemodynamic profiles were compared i...</td>\n",
       "      <td>5</td>\n",
       "      <td>8</td>\n",
       "      <td>RESULTS</td>\n",
       "      <td>0.829400</td>\n",
       "      <td>True</td>\n",
       "    </tr>\n",
       "    <tr>\n",
       "      <th>6</th>\n",
       "      <td>RESULTS</td>\n",
       "      <td>multivariable analyses revealed that patients ...</td>\n",
       "      <td>6</td>\n",
       "      <td>8</td>\n",
       "      <td>RESULTS</td>\n",
       "      <td>0.776915</td>\n",
       "      <td>True</td>\n",
       "    </tr>\n",
       "    <tr>\n",
       "      <th>7</th>\n",
       "      <td>CONCLUSIONS</td>\n",
       "      <td>abnormal lfts are common in the adhf populatio...</td>\n",
       "      <td>7</td>\n",
       "      <td>8</td>\n",
       "      <td>CONCLUSIONS</td>\n",
       "      <td>0.570484</td>\n",
       "      <td>True</td>\n",
       "    </tr>\n",
       "    <tr>\n",
       "      <th>8</th>\n",
       "      <td>CONCLUSIONS</td>\n",
       "      <td>elevated meld-xi scores are associated with po...</td>\n",
       "      <td>8</td>\n",
       "      <td>8</td>\n",
       "      <td>CONCLUSIONS</td>\n",
       "      <td>0.584780</td>\n",
       "      <td>True</td>\n",
       "    </tr>\n",
       "    <tr>\n",
       "      <th>9</th>\n",
       "      <td>BACKGROUND</td>\n",
       "      <td>minimally invasive endovascular aneurysm repai...</td>\n",
       "      <td>0</td>\n",
       "      <td>12</td>\n",
       "      <td>BACKGROUND</td>\n",
       "      <td>0.657310</td>\n",
       "      <td>True</td>\n",
       "    </tr>\n",
       "  </tbody>\n",
       "</table>\n",
       "</div>"
      ],
      "text/plain": [
       "        target                                               text  \\\n",
       "0   BACKGROUND  this study analyzed liver function abnormaliti...   \n",
       "1      RESULTS  a post hoc analysis was conducted with the use...   \n",
       "2      RESULTS  liver function tests ( lfts ) were measured at...   \n",
       "3      RESULTS  survival analyses were used to assess the asso...   \n",
       "4      RESULTS  the percentage of patients with abnormal lfts ...   \n",
       "5      RESULTS  when mean hemodynamic profiles were compared i...   \n",
       "6      RESULTS  multivariable analyses revealed that patients ...   \n",
       "7  CONCLUSIONS  abnormal lfts are common in the adhf populatio...   \n",
       "8  CONCLUSIONS  elevated meld-xi scores are associated with po...   \n",
       "9   BACKGROUND  minimally invasive endovascular aneurysm repai...   \n",
       "\n",
       "   line_number  total_lines   prediction  pred_prob  correct  \n",
       "0            0            8   BACKGROUND   0.352553     True  \n",
       "1            1            8      METHODS   0.613585    False  \n",
       "2            2            8      METHODS   0.774262    False  \n",
       "3            3            8      METHODS   0.716220    False  \n",
       "4            4            8      RESULTS   0.693792     True  \n",
       "5            5            8      RESULTS   0.829400     True  \n",
       "6            6            8      RESULTS   0.776915     True  \n",
       "7            7            8  CONCLUSIONS   0.570484     True  \n",
       "8            8            8  CONCLUSIONS   0.584780     True  \n",
       "9            0           12   BACKGROUND   0.657310     True  "
      ]
     },
     "execution_count": 108,
     "metadata": {},
     "output_type": "execute_result"
    }
   ],
   "source": [
    "# Create prediction-enriched test dataframe\n",
    "test_df[\"prediction\"] = test_pred_classes\n",
    "test_df[\"pred_prob\"] = tf.reduce_max(test_pred_probs,axis=1)\n",
    "test_df[\"correct\"] = test_df[\"prediction\"] == test_df[\"target\"]\n",
    "\n",
    "test_df.head(10)"
   ]
  },
  {
   "cell_type": "code",
   "execution_count": 109,
   "id": "48b37b52",
   "metadata": {
    "execution": {
     "iopub.execute_input": "2022-04-10T05:02:06.798029Z",
     "iopub.status.busy": "2022-04-10T05:02:06.797002Z",
     "iopub.status.idle": "2022-04-10T05:02:06.815074Z",
     "shell.execute_reply": "2022-04-10T05:02:06.815510Z"
    },
    "papermill": {
     "duration": 4.615793,
     "end_time": "2022-04-10T05:02:06.815664",
     "exception": false,
     "start_time": "2022-04-10T05:02:02.199871",
     "status": "completed"
    },
    "tags": []
   },
   "outputs": [
    {
     "data": {
      "text/html": [
       "<div>\n",
       "<style scoped>\n",
       "    .dataframe tbody tr th:only-of-type {\n",
       "        vertical-align: middle;\n",
       "    }\n",
       "\n",
       "    .dataframe tbody tr th {\n",
       "        vertical-align: top;\n",
       "    }\n",
       "\n",
       "    .dataframe thead th {\n",
       "        text-align: right;\n",
       "    }\n",
       "</style>\n",
       "<table border=\"1\" class=\"dataframe\">\n",
       "  <thead>\n",
       "    <tr style=\"text-align: right;\">\n",
       "      <th></th>\n",
       "      <th>target</th>\n",
       "      <th>text</th>\n",
       "      <th>line_number</th>\n",
       "      <th>total_lines</th>\n",
       "      <th>prediction</th>\n",
       "      <th>pred_prob</th>\n",
       "      <th>correct</th>\n",
       "    </tr>\n",
       "  </thead>\n",
       "  <tbody>\n",
       "    <tr>\n",
       "      <th>29294</th>\n",
       "      <td>RESULTS</td>\n",
       "      <td>baseline measures included sociodemographics ,...</td>\n",
       "      <td>4</td>\n",
       "      <td>13</td>\n",
       "      <td>METHODS</td>\n",
       "      <td>0.918420</td>\n",
       "      <td>False</td>\n",
       "    </tr>\n",
       "    <tr>\n",
       "      <th>11133</th>\n",
       "      <td>BACKGROUND</td>\n",
       "      <td>to compare the safety and efficacy of dexmedet...</td>\n",
       "      <td>0</td>\n",
       "      <td>11</td>\n",
       "      <td>OBJECTIVE</td>\n",
       "      <td>0.911850</td>\n",
       "      <td>False</td>\n",
       "    </tr>\n",
       "    <tr>\n",
       "      <th>3573</th>\n",
       "      <td>RESULTS</td>\n",
       "      <td>a cluster randomised trial was implemented wit...</td>\n",
       "      <td>3</td>\n",
       "      <td>16</td>\n",
       "      <td>METHODS</td>\n",
       "      <td>0.910797</td>\n",
       "      <td>False</td>\n",
       "    </tr>\n",
       "    <tr>\n",
       "      <th>12134</th>\n",
       "      <td>RESULTS</td>\n",
       "      <td>we conducted a population-based case-control s...</td>\n",
       "      <td>2</td>\n",
       "      <td>16</td>\n",
       "      <td>METHODS</td>\n",
       "      <td>0.910648</td>\n",
       "      <td>False</td>\n",
       "    </tr>\n",
       "    <tr>\n",
       "      <th>13874</th>\n",
       "      <td>CONCLUSIONS</td>\n",
       "      <td>symptom outcomes will be assessed and estimate...</td>\n",
       "      <td>4</td>\n",
       "      <td>6</td>\n",
       "      <td>METHODS</td>\n",
       "      <td>0.907004</td>\n",
       "      <td>False</td>\n",
       "    </tr>\n",
       "    <tr>\n",
       "      <th>26058</th>\n",
       "      <td>BACKGROUND</td>\n",
       "      <td>to compare the efficacy of the newcastle infan...</td>\n",
       "      <td>0</td>\n",
       "      <td>9</td>\n",
       "      <td>OBJECTIVE</td>\n",
       "      <td>0.899113</td>\n",
       "      <td>False</td>\n",
       "    </tr>\n",
       "    <tr>\n",
       "      <th>8545</th>\n",
       "      <td>METHODS</td>\n",
       "      <td>pretest-posttest .</td>\n",
       "      <td>1</td>\n",
       "      <td>11</td>\n",
       "      <td>BACKGROUND</td>\n",
       "      <td>0.898820</td>\n",
       "      <td>False</td>\n",
       "    </tr>\n",
       "    <tr>\n",
       "      <th>16347</th>\n",
       "      <td>BACKGROUND</td>\n",
       "      <td>to evaluate the effects of the lactic acid bac...</td>\n",
       "      <td>0</td>\n",
       "      <td>12</td>\n",
       "      <td>OBJECTIVE</td>\n",
       "      <td>0.896002</td>\n",
       "      <td>False</td>\n",
       "    </tr>\n",
       "    <tr>\n",
       "      <th>22736</th>\n",
       "      <td>OBJECTIVE</td>\n",
       "      <td>the national institute of oncology , budapest ...</td>\n",
       "      <td>4</td>\n",
       "      <td>20</td>\n",
       "      <td>METHODS</td>\n",
       "      <td>0.893920</td>\n",
       "      <td>False</td>\n",
       "    </tr>\n",
       "    <tr>\n",
       "      <th>16780</th>\n",
       "      <td>METHODS</td>\n",
       "      <td>we will comply with the consort guidelines and...</td>\n",
       "      <td>16</td>\n",
       "      <td>19</td>\n",
       "      <td>BACKGROUND</td>\n",
       "      <td>0.879887</td>\n",
       "      <td>False</td>\n",
       "    </tr>\n",
       "  </tbody>\n",
       "</table>\n",
       "</div>"
      ],
      "text/plain": [
       "            target                                               text  \\\n",
       "29294      RESULTS  baseline measures included sociodemographics ,...   \n",
       "11133   BACKGROUND  to compare the safety and efficacy of dexmedet...   \n",
       "3573       RESULTS  a cluster randomised trial was implemented wit...   \n",
       "12134      RESULTS  we conducted a population-based case-control s...   \n",
       "13874  CONCLUSIONS  symptom outcomes will be assessed and estimate...   \n",
       "26058   BACKGROUND  to compare the efficacy of the newcastle infan...   \n",
       "8545       METHODS                                 pretest-posttest .   \n",
       "16347   BACKGROUND  to evaluate the effects of the lactic acid bac...   \n",
       "22736    OBJECTIVE  the national institute of oncology , budapest ...   \n",
       "16780      METHODS  we will comply with the consort guidelines and...   \n",
       "\n",
       "       line_number  total_lines  prediction  pred_prob  correct  \n",
       "29294            4           13     METHODS   0.918420    False  \n",
       "11133            0           11   OBJECTIVE   0.911850    False  \n",
       "3573             3           16     METHODS   0.910797    False  \n",
       "12134            2           16     METHODS   0.910648    False  \n",
       "13874            4            6     METHODS   0.907004    False  \n",
       "26058            0            9   OBJECTIVE   0.899113    False  \n",
       "8545             1           11  BACKGROUND   0.898820    False  \n",
       "16347            0           12   OBJECTIVE   0.896002    False  \n",
       "22736            4           20     METHODS   0.893920    False  \n",
       "16780           16           19  BACKGROUND   0.879887    False  "
      ]
     },
     "execution_count": 109,
     "metadata": {},
     "output_type": "execute_result"
    }
   ],
   "source": [
    "# Find top 10 most wrong samples\n",
    "top_10_wrong = test_df[test_df[\"correct\"] == False].sort_values(\"pred_prob\",ascending=False)[:10]\n",
    "top_10_wrong"
   ]
  },
  {
   "cell_type": "code",
   "execution_count": 110,
   "id": "4adba050",
   "metadata": {
    "execution": {
     "iopub.execute_input": "2022-04-10T05:02:15.847197Z",
     "iopub.status.busy": "2022-04-10T05:02:15.846372Z",
     "iopub.status.idle": "2022-04-10T05:02:15.850793Z",
     "shell.execute_reply": "2022-04-10T05:02:15.851452Z"
    },
    "papermill": {
     "duration": 4.599347,
     "end_time": "2022-04-10T05:02:15.851647",
     "exception": false,
     "start_time": "2022-04-10T05:02:11.252300",
     "status": "completed"
    },
    "tags": []
   },
   "outputs": [
    {
     "name": "stdout",
     "output_type": "stream",
     "text": [
      "Target: RESULTS, Pred: METHODS, Prob: 0.9184204339981079, Line number: 4, Total lines: 13\n",
      "\n",
      "Text:\n",
      "baseline measures included sociodemographics , standardized anthropometrics , asthma control test ( act ) , gerd symptom assessment scale , pittsburgh sleep quality index , and berlin questionnaire for sleep apnea .\n",
      "\n",
      "-----\n",
      "\n",
      "Target: BACKGROUND, Pred: OBJECTIVE, Prob: 0.9118503332138062, Line number: 0, Total lines: 11\n",
      "\n",
      "Text:\n",
      "to compare the safety and efficacy of dexmedetomidine/propofol ( dp ) - total i.v. anaesthesia ( tiva ) vs remifentanil/propofol ( rp ) - tiva , both with spontaneous breathing , during airway foreign body ( fb ) removal in children .\n",
      "\n",
      "-----\n",
      "\n",
      "Target: RESULTS, Pred: METHODS, Prob: 0.9107965230941772, Line number: 3, Total lines: 16\n",
      "\n",
      "Text:\n",
      "a cluster randomised trial was implemented with @,@ children in @ government primary schools on the south coast of kenya in @-@ .\n",
      "\n",
      "-----\n",
      "\n",
      "Target: RESULTS, Pred: METHODS, Prob: 0.9106478095054626, Line number: 2, Total lines: 16\n",
      "\n",
      "Text:\n",
      "we conducted a population-based case-control study of multiple health care databases in ontario , canada , from april @ to march @ .\n",
      "\n",
      "-----\n",
      "\n",
      "Target: CONCLUSIONS, Pred: METHODS, Prob: 0.90700364112854, Line number: 4, Total lines: 6\n",
      "\n",
      "Text:\n",
      "symptom outcomes will be assessed and estimates of cost-effectiveness made .\n",
      "\n",
      "-----\n",
      "\n",
      "Target: BACKGROUND, Pred: OBJECTIVE, Prob: 0.8991130590438843, Line number: 0, Total lines: 9\n",
      "\n",
      "Text:\n",
      "to compare the efficacy of the newcastle infant dialysis and ultrafiltration system ( nidus ) with peritoneal dialysis ( pd ) and conventional haemodialysis ( hd ) in infants weighing < @ kg .\n",
      "\n",
      "-----\n",
      "\n",
      "Target: METHODS, Pred: BACKGROUND, Prob: 0.8988199234008789, Line number: 1, Total lines: 11\n",
      "\n",
      "Text:\n",
      "pretest-posttest .\n",
      "\n",
      "-----\n",
      "\n",
      "Target: BACKGROUND, Pred: OBJECTIVE, Prob: 0.8960021734237671, Line number: 0, Total lines: 12\n",
      "\n",
      "Text:\n",
      "to evaluate the effects of the lactic acid bacterium lactobacillus salivarius on caries risk factors .\n",
      "\n",
      "-----\n",
      "\n",
      "Target: OBJECTIVE, Pred: METHODS, Prob: 0.8939199447631836, Line number: 4, Total lines: 20\n",
      "\n",
      "Text:\n",
      "the national institute of oncology , budapest conducted a single centre randomized clinical study .\n",
      "\n",
      "-----\n",
      "\n",
      "Target: METHODS, Pred: BACKGROUND, Prob: 0.879887044429779, Line number: 16, Total lines: 19\n",
      "\n",
      "Text:\n",
      "we will comply with the consort guidelines and will disseminate the findings at national and international conferences and in peer-reviewed journals .\n",
      "\n",
      "-----\n",
      "\n"
     ]
    }
   ],
   "source": [
    "# Investigate top wrong preds\n",
    "for row in top_10_wrong.itertuples():\n",
    "    _,target,text,line_number,total_lines,prediction,pred_prob,_=row\n",
    "    print(f\"Target: {target}, Pred: {prediction}, Prob: {pred_prob}, Line number: {line_number}, Total lines: {total_lines}\\n\")\n",
    "    print(f\"Text:\\n{text}\\n\")\n",
    "    print(\"-----\\n\")"
   ]
  },
  {
   "cell_type": "code",
   "execution_count": null,
   "id": "849720fd",
   "metadata": {
    "papermill": {
     "duration": 4.604673,
     "end_time": "2022-04-10T05:02:25.373450",
     "exception": false,
     "start_time": "2022-04-10T05:02:20.768777",
     "status": "completed"
    },
    "tags": []
   },
   "outputs": [],
   "source": []
  }
 ],
 "metadata": {
  "kernelspec": {
   "display_name": "Python 3",
   "language": "python",
   "name": "python3"
  },
  "language_info": {
   "codemirror_mode": {
    "name": "ipython",
    "version": 3
   },
   "file_extension": ".py",
   "mimetype": "text/x-python",
   "name": "python",
   "nbconvert_exporter": "python",
   "pygments_lexer": "ipython3",
   "version": "3.7.12"
  },
  "papermill": {
   "default_parameters": {},
   "duration": 1800.05411,
   "end_time": "2022-04-10T05:02:32.704113",
   "environment_variables": {},
   "exception": null,
   "input_path": "__notebook__.ipynb",
   "output_path": "__notebook__.ipynb",
   "parameters": {},
   "start_time": "2022-04-10T04:32:32.650003",
   "version": "2.3.3"
  }
 },
 "nbformat": 4,
 "nbformat_minor": 5
}
